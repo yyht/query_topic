{
 "cells": [
  {
   "cell_type": "code",
   "execution_count": 1,
   "id": "bf041d34-02c8-4fed-852b-3b2aeed63f78",
   "metadata": {},
   "outputs": [],
   "source": [
    "import json\n",
    "import sys,os\n",
    "%load_ext autoreload\n",
    "%autoreload 2"
   ]
  },
  {
   "cell_type": "code",
   "execution_count": 2,
   "id": "9216767a-addc-4160-b1f8-5f0e8397bb3c",
   "metadata": {},
   "outputs": [],
   "source": [
    "import os, sys\n",
    "\n",
    "sys.path.extend(['/root/xiaoda/query_topic/'])"
   ]
  },
  {
   "cell_type": "code",
   "execution_count": 3,
   "id": "24c58e19-d6b6-4874-b050-7d6fa182f734",
   "metadata": {},
   "outputs": [],
   "source": [
    "import torch\n",
    "from torch.nn import functional as F\n",
    "import numpy as np\n",
    "import random\n",
    "import torch.nn as nn\n",
    "from scipy.stats import pearsonr, spearmanr\n",
    "from sklearn.metrics import matthews_corrcoef, f1_score\n",
    "from sklearn.metrics import roc_auc_score, roc_curve\n",
    "import numpy as np\n",
    "\n",
    "\"\"\"\n",
    "https://github.com/ondrejbohdal/meta-calibration/blob/main/Metrics/metrics.py\n",
    "\"\"\"\n",
    "\n",
    "class ECE(nn.Module):\n",
    "    \n",
    "    def __init__(self, n_bins=15):\n",
    "        \"\"\"\n",
    "        n_bins (int): number of confidence interval bins\n",
    "        \"\"\"\n",
    "        super(ECE, self).__init__()\n",
    "        bin_boundaries = torch.linspace(0, 1, n_bins + 1)\n",
    "        self.bin_lowers = bin_boundaries[:-1]\n",
    "        self.bin_uppers = bin_boundaries[1:]\n",
    "\n",
    "    def forward(self, logits, labels, mode='logits'):\n",
    "        if mode == 'logits':\n",
    "            softmaxes = F.softmax(logits, dim=1)\n",
    "        else:\n",
    "            softmaxes = logits\n",
    "        # softmaxes = F.softmax(logits, dim=1)\n",
    "        confidences, predictions = torch.max(softmaxes, 1)\n",
    "        accuracies = predictions.eq(labels)\n",
    "        \n",
    "        ece = torch.zeros(1, device=logits.device)\n",
    "        for bin_lower, bin_upper in zip(self.bin_lowers, self.bin_uppers):\n",
    "            # Calculated |confidence - accuracy| in each bin\n",
    "            in_bin = confidences.gt(bin_lower.item()) * confidences.le(bin_upper.item())\n",
    "            prop_in_bin = in_bin.float().mean()\n",
    "            if prop_in_bin.item() > 0:\n",
    "                accuracy_in_bin = accuracies[in_bin].float().mean()\n",
    "                avg_confidence_in_bin = confidences[in_bin].mean()\n",
    "                ece += torch.abs(avg_confidence_in_bin - accuracy_in_bin) * prop_in_bin\n",
    "\n",
    "        return ece"
   ]
  },
  {
   "cell_type": "code",
   "execution_count": 3,
   "id": "fbe3941d-f46d-4474-a78a-eeefb3a84de7",
   "metadata": {},
   "outputs": [],
   "source": [
    "from topic_risk_query_onnx import TorchInfer, OnnxInfer"
   ]
  },
  {
   "cell_type": "code",
   "execution_count": 4,
   "id": "c81c2d06-5298-473c-a9c2-4d375a72ea65",
   "metadata": {},
   "outputs": [
    {
     "name": "stdout",
     "output_type": "stream",
     "text": [
      "topic /data/albert.xht/raw_chat_corpus/topic_classification_v4/label_list.txt ===schema-path===\n",
      "senti_query /data/albert.xht/xiaoda/sentiment/senti/senti_query_label.txt ===schema-path===\n",
      "senti /data/albert.xht/xiaoda/sentiment/senti/senti_label.txt ===schema-path===\n",
      "bias /data/albert.xht/xiaoda/sentiment/bias/bias_label.txt ===schema-path===\n",
      "ciron /data/albert.xht/xiaoda/sentiment/ciron/ciron_label.txt ===schema-path===\n",
      "intent /data/albert.xht/xiaoda/sentiment/intention_data_v2-1/label.txt ===schema-path===\n",
      "offensive /data/albert.xht/xiaoda/sentiment/offensive/offensive_label.txt ===schema-path===\n",
      "query_risk /data/albert.xht/xiaoda/sentiment/query_risk_v12/query_risk_label.txt ===schema-path===\n",
      "teenager /data/albert.xht/xiaoda/sentiment/teenager//teenager_label.txt ===schema-path===\n",
      "politics /data/albert.xht/xiaoda/sentiment/green_politics/green_politics_label.txt ===schema-path===\n",
      "porn /data/albert.xht/xiaoda/sentiment/green_porn_v1/green_porn_label.txt ===schema-path===\n",
      "abusive /data/albert.xht/xiaoda/sentiment/green_abusive_v1/green_abusive_label.txt ===schema-path===\n"
     ]
    },
    {
     "name": "stderr",
     "output_type": "stream",
     "text": [
      "01/29/2023 08:03:28 - INFO - nets.them_classifier - ++RobertaClassifier++ apply stable dropout++\n",
      "01/29/2023 08:03:28 - INFO - nets.them_classifier - ++RobertaClassifier++ apply stable dropout++\n",
      "01/29/2023 08:03:28 - INFO - nets.them_classifier - ++RobertaClassifier++ apply stable dropout++\n",
      "01/29/2023 08:03:28 - INFO - nets.them_classifier - ++RobertaClassifier++ apply stable dropout++\n",
      "01/29/2023 08:03:28 - INFO - nets.them_classifier - ++RobertaClassifier++ apply stable dropout++\n",
      "01/29/2023 08:03:28 - INFO - nets.them_classifier - ++RobertaClassifier++ apply stable dropout++\n",
      "01/29/2023 08:03:28 - INFO - nets.them_classifier - ++RobertaClassifier++ apply stable dropout++\n",
      "01/29/2023 08:03:28 - INFO - nets.them_classifier - ++RobertaClassifier++ apply stable dropout++\n",
      "01/29/2023 08:03:28 - INFO - nets.them_classifier - ++RobertaClassifier++ apply stable dropout++\n",
      "01/29/2023 08:03:28 - INFO - nets.them_classifier - ++RobertaClassifier++ apply stable dropout++\n",
      "01/29/2023 08:03:28 - INFO - nets.them_classifier - ++RobertaClassifier++ apply stable dropout++\n",
      "01/29/2023 08:03:28 - INFO - nets.them_classifier - ++RobertaClassifier++ apply stable dropout++\n"
     ]
    }
   ],
   "source": [
    "green_green_topic_risk_api = TorchInfer('./risk_data_tiny/config_topic_risk_green_v1.ini')"
   ]
  },
  {
   "cell_type": "code",
   "execution_count": 9,
   "id": "995ffb43-014b-4f28-a499-0e3d84fb1910",
   "metadata": {},
   "outputs": [],
   "source": [
    "model_topic_path = '/data/albert.xht/xiaodao/risk_classification/tiny/topic_v4_update_green_v1_teenager_v1_porn_multitask_raw_filter_senti_query_risk_v12_intent_v2-1_10_no_symbol_senti_query_senta_green_mtdnn_v18/multitask_cls.pth.19'\n",
    "\n",
    "green_green_topic_risk_api.reload(model_topic_path)"
   ]
  },
  {
   "cell_type": "code",
   "execution_count": 8,
   "id": "b03f8131-466e-4ac1-8207-fbc624869473",
   "metadata": {},
   "outputs": [
    {
     "name": "stderr",
     "output_type": "stream",
     "text": [
      "[autoreload of topic_risk_query_onnx failed: Traceback (most recent call last):\n",
      "  File \"/opt/conda/lib/python3.8/site-packages/IPython/extensions/autoreload.py\", line 245, in check\n",
      "    superreload(m, reload, self.old_objects)\n",
      "  File \"/opt/conda/lib/python3.8/site-packages/IPython/extensions/autoreload.py\", line 394, in superreload\n",
      "    module = reload(module)\n",
      "  File \"/opt/conda/lib/python3.8/imp.py\", line 314, in reload\n",
      "    return importlib.reload(module)\n",
      "  File \"/opt/conda/lib/python3.8/importlib/__init__.py\", line 169, in reload\n",
      "    _bootstrap._exec(spec, module)\n",
      "  File \"<frozen importlib._bootstrap>\", line 604, in _exec\n",
      "  File \"<frozen importlib._bootstrap_external>\", line 783, in exec_module\n",
      "  File \"<frozen importlib._bootstrap>\", line 219, in _call_with_frames_removed\n",
      "  File \"/root/xiaoda/query_topic/topic_risk_query_onnx.py\", line 298, in <module>\n",
      "    topic_risk_api = OnnxInfer('./risk_data_tiny/config_topic_risk_green_v1.ini', use_fp16=False)\n",
      "  File \"/root/xiaoda/query_topic/topic_risk_query_onnx.py\", line 180, in __init__\n",
      "    from onnxruntime import InferenceSession, SessionOptions\n",
      "  File \"/opt/conda/lib/python3.8/site-packages/onnxruntime/__init__.py\", line 13, in <module>\n",
      "    from onnxruntime.capi._pybind_state import get_all_providers, get_available_providers, get_device, set_seed, \\\n",
      "OSError: libcudnn.so.8: cannot open shared object file: No such file or directory\n",
      "]\n"
     ]
    },
    {
     "name": "stdout",
     "output_type": "stream",
     "text": [
      "56.70577335357666 [{'topic': [['电脑/网络', 0.142822265625], ['幽默滑稽', 0.11566162109375], ['校园生活', 0.08612060546875], ['军事', 0.06732177734375], ['游戏', 0.066650390625]], 'senti_query': [['负向', 0.146728515625], ['中性', 0.7919921875], ['正向', 0.0615234375]], 'senti': [['负向', 0.7001953125], ['正向', 0.2998046875]], 'bias': [['偏见', 0.2440185546875], ['正常', 0.755859375]], 'ciron': [['讽刺', 0.450927734375], ['正常', 0.548828125]], 'intent': [['主观评价/比较/判断', 0.53271484375], ['寻求建议/帮助', 1.0848045349121094e-05], ['其它', 0.46728515625]], 'offensive': [['冒犯', 0.079833984375], ['正常', 0.919921875]], 'query_risk': [['风险', 0.6650390625], ['个人信息', 0.00012230873107910156], ['正常', 0.334716796875]], 'teenager': [['不良', 0.1724853515625], ['正常', 0.82763671875]], 'politics': [['涉政', 0.002140045166015625], ['正常', 0.998046875]], 'porn': [['色情', 0.043670654296875], ['低俗', 0.7548828125], ['色情违禁', 0.00014019012451171875], ['正常', 0.201171875]], 'abusive': [['辱骂', 0.4072265625], ['口头语', 0.56298828125], ['正常', 0.0299530029296875]]}]\n"
     ]
    }
   ],
   "source": [
    "import time\n",
    "start = time.time()\n",
    "for i in range(10000):\n",
    "    resp = green_green_topic_risk_api.predict('你是大晒比')\n",
    "print(time.time()-start, resp)"
   ]
  },
  {
   "cell_type": "code",
   "execution_count": 25,
   "id": "4844e849-a4e3-46a4-8d24-865b4601ac07",
   "metadata": {},
   "outputs": [
    {
     "data": {
      "text/plain": [
       "'cpu'"
      ]
     },
     "execution_count": 25,
     "metadata": {},
     "output_type": "execute_result"
    }
   ],
   "source": []
  },
  {
   "cell_type": "code",
   "execution_count": 9,
   "id": "92980e40-87be-407e-8631-1ec654a3fc7c",
   "metadata": {},
   "outputs": [],
   "source": [
    "model_topic_path = '/data/albert.xht/xiaodao/risk_classification/tiny/topic_v4_update_green_v1_teenager_v1_porn_multitask_raw_filter_senti_query_risk_v12_intent_v2-1_10_no_symbol_senti_query_senta_green_mtdnn_v18/multitask_cls.pth.19'\n",
    "model_onnx_path = '/data/albert.xht/xiaodao/risk_classification/tiny/topic_v4_update_green_v1_teenager_v1_porn_multitask_raw_filter_senti_query_risk_v12_intent_v2-1_10_no_symbol_senti_query_senta_green_mtdnn_v18/onnx/inference.onnx'\n"
   ]
  },
  {
   "cell_type": "code",
   "execution_count": 50,
   "id": "04c3b752-ea5a-4096-be6b-e1628d0a1066",
   "metadata": {},
   "outputs": [
    {
     "data": {
      "text/plain": [
       "'GPU'"
      ]
     },
     "execution_count": 50,
     "metadata": {},
     "output_type": "execute_result"
    }
   ],
   "source": [
    "import onnxruntime as ort\n",
    "\n",
    "ort.get_device()"
   ]
  },
  {
   "cell_type": "code",
   "execution_count": 49,
   "id": "121ae7a5-2a27-4ce4-a5c5-eb226a472d57",
   "metadata": {},
   "outputs": [
    {
     "data": {
      "text/plain": [
       "'1.10.0'"
      ]
     },
     "execution_count": 49,
     "metadata": {},
     "output_type": "execute_result"
    }
   ],
   "source": [
    "ort.__version__"
   ]
  },
  {
   "cell_type": "code",
   "execution_count": 4,
   "id": "97ed71aa-cf45-4f6d-ae3b-31a9ae62da17",
   "metadata": {},
   "outputs": [
    {
     "name": "stdout",
     "output_type": "stream",
     "text": [
      "topic /data/albert.xht/raw_chat_corpus/topic_classification_v5/label_list.txt ===schema-path===\n",
      "senti_query /data/albert.xht/xiaoda/sentiment/senti/senti_query_label.txt ===schema-path===\n",
      "senti /data/albert.xht/xiaoda/sentiment/senti/senti_label.txt ===schema-path===\n",
      "bias /data/albert.xht/xiaoda/sentiment/bias/bias_label.txt ===schema-path===\n",
      "ciron /data/albert.xht/xiaoda/sentiment/ciron/ciron_label.txt ===schema-path===\n",
      "intent /data/albert.xht/xiaoda/sentiment/intention_data_v2-1/label.txt ===schema-path===\n",
      "offensive /data/albert.xht/xiaoda/sentiment/offensive/offensive_label.txt ===schema-path===\n",
      "query_risk /data/albert.xht/xiaoda/sentiment/query_risk_v12/query_risk_label.txt ===schema-path===\n",
      "teenager /data/albert.xht/xiaoda/sentiment/teenager//teenager_label.txt ===schema-path===\n",
      "politics /data/albert.xht/xiaoda/sentiment/green_politics/green_politics_label.txt ===schema-path===\n",
      "porn /data/albert.xht/xiaoda/sentiment/green_porn_v1/green_porn_label.txt ===schema-path===\n",
      "abusive /data/albert.xht/xiaoda/sentiment/green_abusive_v1/green_abusive_label.txt ===schema-path===\n",
      "['CUDAExecutionProvider'] ==providers==\n",
      "['CPUExecutionProvider']\n"
     ]
    }
   ],
   "source": [
    "onnx_base_api = OnnxInfer('./risk_data_tiny/config_topic_v5_risk_green_v1_base.ini')"
   ]
  },
  {
   "cell_type": "code",
   "execution_count": 4,
   "id": "d656a198-4799-49c1-9547-ebd67826cf3e",
   "metadata": {},
   "outputs": [
    {
     "name": "stderr",
     "output_type": "stream",
     "text": [
      "[autoreload of onnxruntime.capi failed: Traceback (most recent call last):\n",
      "  File \"/opt/conda/lib/python3.8/site-packages/IPython/extensions/autoreload.py\", line 245, in check\n",
      "    superreload(m, reload, self.old_objects)\n",
      "  File \"/opt/conda/lib/python3.8/site-packages/IPython/extensions/autoreload.py\", line 394, in superreload\n",
      "    module = reload(module)\n",
      "  File \"/opt/conda/lib/python3.8/imp.py\", line 314, in reload\n",
      "    return importlib.reload(module)\n",
      "  File \"/opt/conda/lib/python3.8/importlib/__init__.py\", line 159, in reload\n",
      "    raise ImportError(msg.format(parent_name),\n",
      "ImportError: parent 'onnxruntime' not in sys.modules\n",
      "]\n"
     ]
    },
    {
     "ename": "OSError",
     "evalue": "libcudnn.so.8: cannot open shared object file: No such file or directory",
     "output_type": "error",
     "traceback": [
      "\u001b[0;31m---------------------------------------------------------------------------\u001b[0m",
      "\u001b[0;31mOSError\u001b[0m                                   Traceback (most recent call last)",
      "\u001b[0;32m/tmp/ipykernel_115928/1611688944.py\u001b[0m in \u001b[0;36m<module>\u001b[0;34m\u001b[0m\n\u001b[1;32m      1\u001b[0m \u001b[0;32mfrom\u001b[0m \u001b[0mtopic_risk_query_onnx\u001b[0m \u001b[0;32mimport\u001b[0m \u001b[0mTorchInfer\u001b[0m\u001b[0;34m,\u001b[0m \u001b[0mOnnxInfer\u001b[0m\u001b[0;34m\u001b[0m\u001b[0;34m\u001b[0m\u001b[0m\n\u001b[0;32m----> 2\u001b[0;31m \u001b[0mgreen_green_topic_risk_onnx_api\u001b[0m \u001b[0;34m=\u001b[0m \u001b[0mOnnxInfer\u001b[0m\u001b[0;34m(\u001b[0m\u001b[0;34m'./risk_data_tiny/config_topic_risk_green_v1.ini'\u001b[0m\u001b[0;34m)\u001b[0m\u001b[0;34m\u001b[0m\u001b[0;34m\u001b[0m\u001b[0m\n\u001b[0m",
      "\u001b[0;32m/root/xiaoda/query_topic/topic_risk_query_onnx.py\u001b[0m in \u001b[0;36m__init__\u001b[0;34m(self, config_path, use_fp16)\u001b[0m\n\u001b[1;32m    178\u001b[0m     \u001b[0;32mdef\u001b[0m \u001b[0m__init__\u001b[0m\u001b[0;34m(\u001b[0m\u001b[0mself\u001b[0m\u001b[0;34m,\u001b[0m \u001b[0mconfig_path\u001b[0m\u001b[0;34m,\u001b[0m \u001b[0muse_fp16\u001b[0m\u001b[0;34m=\u001b[0m\u001b[0;32mFalse\u001b[0m\u001b[0;34m)\u001b[0m\u001b[0;34m:\u001b[0m\u001b[0;34m\u001b[0m\u001b[0;34m\u001b[0m\u001b[0m\n\u001b[1;32m    179\u001b[0m         \u001b[0;32mimport\u001b[0m \u001b[0mos\u001b[0m\u001b[0;34m,\u001b[0m \u001b[0msys\u001b[0m\u001b[0;34m\u001b[0m\u001b[0;34m\u001b[0m\u001b[0m\n\u001b[0;32m--> 180\u001b[0;31m         \u001b[0;32mfrom\u001b[0m \u001b[0monnxruntime\u001b[0m \u001b[0;32mimport\u001b[0m \u001b[0mInferenceSession\u001b[0m\u001b[0;34m,\u001b[0m \u001b[0mSessionOptions\u001b[0m\u001b[0;34m\u001b[0m\u001b[0;34m\u001b[0m\u001b[0m\n\u001b[0m\u001b[1;32m    181\u001b[0m         \u001b[0;32mfrom\u001b[0m \u001b[0mtransformers\u001b[0m \u001b[0;32mimport\u001b[0m \u001b[0mBertTokenizerFast\u001b[0m\u001b[0;34m\u001b[0m\u001b[0;34m\u001b[0m\u001b[0m\n\u001b[1;32m    182\u001b[0m \u001b[0;34m\u001b[0m\u001b[0m\n",
      "\u001b[0;32m/opt/conda/lib/python3.8/site-packages/onnxruntime/__init__.py\u001b[0m in \u001b[0;36m<module>\u001b[0;34m\u001b[0m\n\u001b[1;32m     11\u001b[0m \u001b[0m__author__\u001b[0m \u001b[0;34m=\u001b[0m \u001b[0;34m\"Microsoft\"\u001b[0m\u001b[0;34m\u001b[0m\u001b[0;34m\u001b[0m\u001b[0m\n\u001b[1;32m     12\u001b[0m \u001b[0;34m\u001b[0m\u001b[0m\n\u001b[0;32m---> 13\u001b[0;31m \u001b[0;32mfrom\u001b[0m \u001b[0monnxruntime\u001b[0m\u001b[0;34m.\u001b[0m\u001b[0mcapi\u001b[0m\u001b[0;34m.\u001b[0m\u001b[0m_pybind_state\u001b[0m \u001b[0;32mimport\u001b[0m \u001b[0mget_all_providers\u001b[0m\u001b[0;34m,\u001b[0m \u001b[0mget_available_providers\u001b[0m\u001b[0;34m,\u001b[0m \u001b[0mget_device\u001b[0m\u001b[0;34m,\u001b[0m \u001b[0mset_seed\u001b[0m\u001b[0;34m,\u001b[0m\u001b[0;31m \u001b[0m\u001b[0;31m\\\u001b[0m\u001b[0;34m\u001b[0m\u001b[0;34m\u001b[0m\u001b[0m\n\u001b[0m\u001b[1;32m     14\u001b[0m     \u001b[0mRunOptions\u001b[0m\u001b[0;34m,\u001b[0m \u001b[0mSessionOptions\u001b[0m\u001b[0;34m,\u001b[0m \u001b[0mset_default_logger_severity\u001b[0m\u001b[0;34m,\u001b[0m \u001b[0mNodeArg\u001b[0m\u001b[0;34m,\u001b[0m \u001b[0mModelMetadata\u001b[0m\u001b[0;34m,\u001b[0m \u001b[0mGraphOptimizationLevel\u001b[0m\u001b[0;34m,\u001b[0m\u001b[0;31m \u001b[0m\u001b[0;31m\\\u001b[0m\u001b[0;34m\u001b[0m\u001b[0;34m\u001b[0m\u001b[0m\n\u001b[1;32m     15\u001b[0m     \u001b[0mExecutionMode\u001b[0m\u001b[0;34m,\u001b[0m \u001b[0mOrtDevice\u001b[0m\u001b[0;34m,\u001b[0m \u001b[0mSessionIOBinding\u001b[0m\u001b[0;34m\u001b[0m\u001b[0;34m\u001b[0m\u001b[0m\n",
      "\u001b[0;32m/opt/conda/lib/python3.8/site-packages/onnxruntime/capi/_pybind_state.py\u001b[0m in \u001b[0;36m<module>\u001b[0;34m\u001b[0m\n\u001b[1;32m      7\u001b[0m \u001b[0;32mimport\u001b[0m \u001b[0mplatform\u001b[0m\u001b[0;34m\u001b[0m\u001b[0;34m\u001b[0m\u001b[0m\n\u001b[1;32m      8\u001b[0m \u001b[0;32mimport\u001b[0m \u001b[0mwarnings\u001b[0m\u001b[0;34m\u001b[0m\u001b[0;34m\u001b[0m\u001b[0m\n\u001b[0;32m----> 9\u001b[0;31m \u001b[0;32mimport\u001b[0m \u001b[0monnxruntime\u001b[0m\u001b[0;34m.\u001b[0m\u001b[0mcapi\u001b[0m\u001b[0;34m.\u001b[0m\u001b[0m_ld_preload\u001b[0m  \u001b[0;31m# noqa: F401\u001b[0m\u001b[0;34m\u001b[0m\u001b[0;34m\u001b[0m\u001b[0m\n\u001b[0m\u001b[1;32m     10\u001b[0m \u001b[0;34m\u001b[0m\u001b[0m\n\u001b[1;32m     11\u001b[0m \u001b[0;32mtry\u001b[0m\u001b[0;34m:\u001b[0m\u001b[0;34m\u001b[0m\u001b[0;34m\u001b[0m\u001b[0m\n",
      "\u001b[0;32m/opt/conda/lib/python3.8/site-packages/onnxruntime/capi/_ld_preload.py\u001b[0m in \u001b[0;36m<module>\u001b[0;34m\u001b[0m\n\u001b[1;32m     11\u001b[0m \u001b[0;32mfrom\u001b[0m \u001b[0mctypes\u001b[0m \u001b[0;32mimport\u001b[0m \u001b[0mCDLL\u001b[0m\u001b[0;34m,\u001b[0m \u001b[0mRTLD_GLOBAL\u001b[0m\u001b[0;34m\u001b[0m\u001b[0;34m\u001b[0m\u001b[0m\n\u001b[1;32m     12\u001b[0m \u001b[0m_libcublas\u001b[0m \u001b[0;34m=\u001b[0m \u001b[0mCDLL\u001b[0m\u001b[0;34m(\u001b[0m\u001b[0;34m\"libcublas.so.10\"\u001b[0m\u001b[0;34m,\u001b[0m \u001b[0mmode\u001b[0m\u001b[0;34m=\u001b[0m\u001b[0mRTLD_GLOBAL\u001b[0m\u001b[0;34m)\u001b[0m\u001b[0;34m\u001b[0m\u001b[0;34m\u001b[0m\u001b[0m\n\u001b[0;32m---> 13\u001b[0;31m \u001b[0m_libcudnn\u001b[0m \u001b[0;34m=\u001b[0m \u001b[0mCDLL\u001b[0m\u001b[0;34m(\u001b[0m\u001b[0;34m\"libcudnn.so.8\"\u001b[0m\u001b[0;34m,\u001b[0m \u001b[0mmode\u001b[0m\u001b[0;34m=\u001b[0m\u001b[0mRTLD_GLOBAL\u001b[0m\u001b[0;34m)\u001b[0m\u001b[0;34m\u001b[0m\u001b[0;34m\u001b[0m\u001b[0m\n\u001b[0m\u001b[1;32m     14\u001b[0m \u001b[0m_libcurand\u001b[0m \u001b[0;34m=\u001b[0m \u001b[0mCDLL\u001b[0m\u001b[0;34m(\u001b[0m\u001b[0;34m\"libcurand.so.10\"\u001b[0m\u001b[0;34m,\u001b[0m \u001b[0mmode\u001b[0m\u001b[0;34m=\u001b[0m\u001b[0mRTLD_GLOBAL\u001b[0m\u001b[0;34m)\u001b[0m\u001b[0;34m\u001b[0m\u001b[0;34m\u001b[0m\u001b[0m\n\u001b[1;32m     15\u001b[0m \u001b[0m_libcufft\u001b[0m \u001b[0;34m=\u001b[0m \u001b[0mCDLL\u001b[0m\u001b[0;34m(\u001b[0m\u001b[0;34m\"libcufft.so.10\"\u001b[0m\u001b[0;34m,\u001b[0m \u001b[0mmode\u001b[0m\u001b[0;34m=\u001b[0m\u001b[0mRTLD_GLOBAL\u001b[0m\u001b[0;34m)\u001b[0m\u001b[0;34m\u001b[0m\u001b[0;34m\u001b[0m\u001b[0m\n",
      "\u001b[0;32m/opt/conda/lib/python3.8/ctypes/__init__.py\u001b[0m in \u001b[0;36m__init__\u001b[0;34m(self, name, mode, handle, use_errno, use_last_error, winmode)\u001b[0m\n\u001b[1;32m    371\u001b[0m \u001b[0;34m\u001b[0m\u001b[0m\n\u001b[1;32m    372\u001b[0m         \u001b[0;32mif\u001b[0m \u001b[0mhandle\u001b[0m \u001b[0;32mis\u001b[0m \u001b[0;32mNone\u001b[0m\u001b[0;34m:\u001b[0m\u001b[0;34m\u001b[0m\u001b[0;34m\u001b[0m\u001b[0m\n\u001b[0;32m--> 373\u001b[0;31m             \u001b[0mself\u001b[0m\u001b[0;34m.\u001b[0m\u001b[0m_handle\u001b[0m \u001b[0;34m=\u001b[0m \u001b[0m_dlopen\u001b[0m\u001b[0;34m(\u001b[0m\u001b[0mself\u001b[0m\u001b[0;34m.\u001b[0m\u001b[0m_name\u001b[0m\u001b[0;34m,\u001b[0m \u001b[0mmode\u001b[0m\u001b[0;34m)\u001b[0m\u001b[0;34m\u001b[0m\u001b[0;34m\u001b[0m\u001b[0m\n\u001b[0m\u001b[1;32m    374\u001b[0m         \u001b[0;32melse\u001b[0m\u001b[0;34m:\u001b[0m\u001b[0;34m\u001b[0m\u001b[0;34m\u001b[0m\u001b[0m\n\u001b[1;32m    375\u001b[0m             \u001b[0mself\u001b[0m\u001b[0;34m.\u001b[0m\u001b[0m_handle\u001b[0m \u001b[0;34m=\u001b[0m \u001b[0mhandle\u001b[0m\u001b[0;34m\u001b[0m\u001b[0;34m\u001b[0m\u001b[0m\n",
      "\u001b[0;31mOSError\u001b[0m: libcudnn.so.8: cannot open shared object file: No such file or directory"
     ]
    }
   ],
   "source": [
    "from topic_risk_query_onnx import TorchInfer, OnnxInfer\n",
    "green_green_topic_risk_onnx_api = OnnxInfer('./risk_data_tiny/config_topic_risk_green_v1.ini')"
   ]
  },
  {
   "cell_type": "code",
   "execution_count": 4,
   "id": "42f189bd-a140-45d5-9c40-efc5dd45b603",
   "metadata": {},
   "outputs": [
    {
     "name": "stdout",
     "output_type": "stream",
     "text": [
      "0.002851247787475586 [{'topic': [['电脑/网络', 0.142734095454216], ['幽默滑稽', 0.11579287797212601], ['校园生活', 0.08640298247337341], ['军事', 0.06717079877853394], ['游戏', 0.06644245237112045]], 'senti_query': [['负向', 0.14657963812351227], ['中性', 0.7916901111602783], ['正向', 0.06173031032085419]], 'senti': [['负向', 0.6999999284744263], ['正向', 0.30000004172325134]], 'bias': [['偏见', 0.24390576779842377], ['正常', 0.756094217300415]], 'ciron': [['讽刺', 0.449801504611969], ['正常', 0.5501984357833862]], 'intent': [['主观评价/比较/判断', 0.5304533243179321], ['寻求建议/帮助', 1.0922172805294394e-05], ['其它', 0.4695357382297516]], 'offensive': [['冒犯', 0.07948239147663116], ['正常', 0.92051762342453]], 'query_risk': [['风险', 0.6639767289161682], ['个人信息', 0.00012154907017247751], ['正常', 0.3359016180038452]], 'teenager': [['不良', 0.17232348024845123], ['正常', 0.8276764750480652]], 'politics': [['涉政', 0.002137985546141863], ['正常', 0.9978620409965515]], 'porn': [['色情', 0.043555792421102524], ['低俗', 0.7547832131385803], ['色情违禁', 0.00014020560774952173], ['正常', 0.20152074098587036]], 'abusive': [['辱骂', 0.4071931540966034], ['口头语', 0.5627489686012268], ['正常', 0.030057882890105247]]}]\n"
     ]
    }
   ],
   "source": [
    "import time\n",
    "start = time.time()\n",
    "for i in range(1):\n",
    "    resp = green_green_topic_risk_onnx_api.predict(['你是大晒比'])\n",
    "print(time.time()-start, resp)"
   ]
  },
  {
   "cell_type": "code",
   "execution_count": 16,
   "id": "63a9f431-caaf-47f0-96a7-2be8710cefe8",
   "metadata": {},
   "outputs": [
    {
     "data": {
      "text/plain": [
       "{'topic': [['电脑/网络', 0.142734095454216],\n",
       "  ['幽默滑稽', 0.11579287797212601],\n",
       "  ['校园生活', 0.08640298247337341],\n",
       "  ['军事', 0.06717079877853394],\n",
       "  ['游戏', 0.06644245237112045]],\n",
       " 'senti_query': [['负向', 0.14657963812351227],\n",
       "  ['中性', 0.7916901111602783],\n",
       "  ['正向', 0.06173031032085419]],\n",
       " 'senti': [['负向', 0.6999999284744263], ['正向', 0.30000004172325134]],\n",
       " 'bias': [['偏见', 0.24390576779842377], ['正常', 0.756094217300415]],\n",
       " 'ciron': [['讽刺', 0.449801504611969], ['正常', 0.5501984357833862]],\n",
       " 'intent': [['主观评价/比较/判断', 0.5304533243179321],\n",
       "  ['寻求建议/帮助', 1.0922172805294394e-05],\n",
       "  ['其它', 0.4695357382297516]],\n",
       " 'offensive': [['冒犯', 0.07948239147663116], ['正常', 0.92051762342453]],\n",
       " 'query_risk': [['风险', 0.6639767289161682],\n",
       "  ['个人信息', 0.00012154907017247751],\n",
       "  ['正常', 0.3359016180038452]],\n",
       " 'teenager': [['不良', 0.17232348024845123], ['正常', 0.8276764750480652]],\n",
       " 'politics': [['涉政', 0.002137985546141863], ['正常', 0.9978620409965515]],\n",
       " 'porn': [['色情', 0.043555792421102524],\n",
       "  ['低俗', 0.7547832131385803],\n",
       "  ['色情违禁', 0.00014020560774952173],\n",
       "  ['正常', 0.20152074098587036]],\n",
       " 'abusive': [['辱骂', 0.4071931540966034],\n",
       "  ['口头语', 0.5627489686012268],\n",
       "  ['正常', 0.030057882890105247]]}"
      ]
     },
     "execution_count": 16,
     "metadata": {},
     "output_type": "execute_result"
    }
   ],
   "source": [
    "resp[0]"
   ]
  },
  {
   "cell_type": "code",
   "execution_count": 17,
   "id": "170af96f-7c09-4aa3-8ab7-2fc80c68e582",
   "metadata": {},
   "outputs": [
    {
     "data": {
      "text/plain": [
       "{'topic': [['两性', 0.188909113407135],\n",
       "  ['社会', 0.08938299119472504],\n",
       "  ['恋爱', 0.06705530732870102],\n",
       "  ['女性', 0.03403538465499878],\n",
       "  ['军事', 0.032976988703012466]],\n",
       " 'senti_query': [['负向', 0.873418927192688],\n",
       "  ['中性', 0.12284678965806961],\n",
       "  ['正向', 0.0037343017756938934]],\n",
       " 'senti': [['负向', 0.9846432209014893], ['正向', 0.015356787480413914]],\n",
       " 'bias': [['偏见', 0.7863349318504333], ['正常', 0.21366505324840546]],\n",
       " 'ciron': [['讽刺', 0.36813610792160034], ['正常', 0.6318638324737549]],\n",
       " 'intent': [['主观评价/比较/判断', 0.9771868586540222],\n",
       "  ['寻求建议/帮助', 5.9204969147685915e-05],\n",
       "  ['其它', 0.022753916680812836]],\n",
       " 'offensive': [['冒犯', 0.9618919491767883], ['正常', 0.038108017295598984]],\n",
       " 'query_risk': [['风险', 0.9980199337005615],\n",
       "  ['个人信息', 3.312116632514517e-06],\n",
       "  ['正常', 0.001976779429242015]],\n",
       " 'teenager': [['不良', 0.9101048111915588], ['正常', 0.08989515900611877]],\n",
       " 'politics': [['涉政', 0.00048242579214274883], ['正常', 0.999517560005188]],\n",
       " 'porn': [['色情', 0.008908435702323914],\n",
       "  ['低俗', 0.2472759336233139],\n",
       "  ['色情违禁', 6.728971493430436e-05],\n",
       "  ['正常', 0.7437483072280884]],\n",
       " 'abusive': [['辱骂', 0.9606941938400269],\n",
       "  ['口头语', 0.0024861099664121866],\n",
       "  ['正常', 0.036819715052843094]]}"
      ]
     },
     "execution_count": 17,
     "metadata": {},
     "output_type": "execute_result"
    }
   ],
   "source": [
    "resp[1]"
   ]
  },
  {
   "cell_type": "code",
   "execution_count": 23,
   "id": "aae3bcc9-6327-4631-b1be-7cbac72f3472",
   "metadata": {},
   "outputs": [
    {
     "ename": "NameError",
     "evalue": "name 'onnx_base_api' is not defined",
     "output_type": "error",
     "traceback": [
      "\u001b[0;31m---------------------------------------------------------------------------\u001b[0m",
      "\u001b[0;31mNameError\u001b[0m                                 Traceback (most recent call last)",
      "\u001b[0;32m/tmp/ipykernel_110762/4244864582.py\u001b[0m in \u001b[0;36m<module>\u001b[0;34m\u001b[0m\n\u001b[1;32m      2\u001b[0m \u001b[0mstart\u001b[0m \u001b[0;34m=\u001b[0m \u001b[0mtime\u001b[0m\u001b[0;34m.\u001b[0m\u001b[0mtime\u001b[0m\u001b[0;34m(\u001b[0m\u001b[0;34m)\u001b[0m\u001b[0;34m\u001b[0m\u001b[0;34m\u001b[0m\u001b[0m\n\u001b[1;32m      3\u001b[0m \u001b[0;32mfor\u001b[0m \u001b[0mi\u001b[0m \u001b[0;32min\u001b[0m \u001b[0mrange\u001b[0m\u001b[0;34m(\u001b[0m\u001b[0;36m1\u001b[0m\u001b[0;34m)\u001b[0m\u001b[0;34m:\u001b[0m\u001b[0;34m\u001b[0m\u001b[0;34m\u001b[0m\u001b[0m\n\u001b[0;32m----> 4\u001b[0;31m     \u001b[0mresp\u001b[0m \u001b[0;34m=\u001b[0m \u001b[0monnx_base_api\u001b[0m\u001b[0;34m.\u001b[0m\u001b[0mpredict\u001b[0m\u001b[0;34m(\u001b[0m\u001b[0;34m'你是大晒比阿克索德就放寒假开始的规范化'\u001b[0m\u001b[0;34m)\u001b[0m\u001b[0;34m\u001b[0m\u001b[0;34m\u001b[0m\u001b[0m\n\u001b[0m\u001b[1;32m      5\u001b[0m \u001b[0mprint\u001b[0m\u001b[0;34m(\u001b[0m\u001b[0mtime\u001b[0m\u001b[0;34m.\u001b[0m\u001b[0mtime\u001b[0m\u001b[0;34m(\u001b[0m\u001b[0;34m)\u001b[0m\u001b[0;34m-\u001b[0m\u001b[0mstart\u001b[0m\u001b[0;34m,\u001b[0m \u001b[0mresp\u001b[0m\u001b[0;34m)\u001b[0m\u001b[0;34m\u001b[0m\u001b[0;34m\u001b[0m\u001b[0m\n",
      "\u001b[0;31mNameError\u001b[0m: name 'onnx_base_api' is not defined"
     ]
    }
   ],
   "source": [
    "import time\n",
    "start = time.time()\n",
    "for i in range(1):\n",
    "    resp = onnx_base_api.predict('你是大晒比阿克索德就放寒假开始的规范化')\n",
    "print(time.time()-start, resp)"
   ]
  },
  {
   "cell_type": "code",
   "execution_count": 24,
   "id": "6c22b075-2072-4732-9e83-f6665920de77",
   "metadata": {},
   "outputs": [
    {
     "name": "stderr",
     "output_type": "stream",
     "text": [
      "100%|██████████| 5128/5128 [00:11<00:00, 438.40it/s]\n"
     ]
    }
   ],
   "source": [
    "import pandas as pd\n",
    "from tqdm import tqdm\n",
    "df = pd.read_excel('/data/albert.xht/raw_chat_corpus/model_risk_xiaoda/itag_labl_data_deal_20230112.xlsx')\n",
    "gold, pred = [], []\n",
    "result_list = []\n",
    "data_dict = {}\n",
    "for idx in tqdm(range(df.shape[0])):\n",
    "    content = df.loc[idx]\n",
    "    \n",
    "    score_list = green_green_topic_risk_onnx_api.predict(content['query'])[0]\n",
    "    if content['query'] not in data_dict:\n",
    "        data_dict[content['query']] = ''\n",
    "    else:\n",
    "        continue\n",
    "    if content['human_risk'] in [-1]:\n",
    "        continue\n",
    "    result_list.append((content, score_list))\n",
    "    if score_list['query_risk'][0][1] > 0.5 :\n",
    "        pred.append(1)\n",
    "    else:\n",
    "        pred.append(0)\n",
    "    \n",
    "    gold.append(int(content['human_risk']))"
   ]
  },
  {
   "cell_type": "code",
   "execution_count": 14,
   "id": "dcfb03ad-6826-45a5-9876-467ee814b224",
   "metadata": {},
   "outputs": [
    {
     "name": "stdout",
     "output_type": "stream",
     "text": [
      "              precision    recall  f1-score   support\n",
      "\n",
      "           0     0.9832    0.9203    0.9507      4378\n",
      "           1     0.6087    0.8873    0.7221       612\n",
      "\n",
      "    accuracy                         0.9162      4990\n",
      "   macro avg     0.7960    0.9038    0.8364      4990\n",
      "weighted avg     0.9372    0.9162    0.9226      4990\n",
      "\n"
     ]
    }
   ],
   "source": [
    "from sklearn.metrics import classification_report\n",
    "\n",
    "print(classification_report(gold, pred, digits=4))"
   ]
  },
  {
   "cell_type": "code",
   "execution_count": null,
   "id": "3aa83202-43ae-4c6f-ae1a-ec9fb89962b9",
   "metadata": {},
   "outputs": [],
   "source": []
  }
 ],
 "metadata": {
  "kernelspec": {
   "display_name": "Python 3 (ipykernel)",
   "language": "python",
   "name": "python3"
  },
  "language_info": {
   "codemirror_mode": {
    "name": "ipython",
    "version": 3
   },
   "file_extension": ".py",
   "mimetype": "text/x-python",
   "name": "python",
   "nbconvert_exporter": "python",
   "pygments_lexer": "ipython3",
   "version": "3.8.1"
  }
 },
 "nbformat": 4,
 "nbformat_minor": 5
}
