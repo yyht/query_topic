{
 "cells": [
  {
   "cell_type": "code",
   "execution_count": 7,
   "id": "5f5daa2a-760b-4fa9-8a24-0c7883e90823",
   "metadata": {},
   "outputs": [],
   "source": [
    "import json\n",
    "with open('/data/albert.xht/raw_chat_corpus/model_risk_xiaoda/query_risk_corpus.json.uie') as frobj:\n",
    "    data_list = []\n",
    "    for line in frobj:\n",
    "        content = json.loads(line.strip())\n",
    "        data_list.append(content)"
   ]
  },
  {
   "cell_type": "code",
   "execution_count": 4,
   "id": "aa51488a-c4b2-48b7-b15a-afb3d575428b",
   "metadata": {},
   "outputs": [],
   "source": [
    "data_dict = {}\n",
    "import json\n",
    "with open('/data/albert.xht/raw_chat_corpus/model_risk_xiaoda/query_risk_corpus.json.risk_topic') as frobj:\n",
    "    for line in frobj:\n",
    "        content = json.loads(line.strip())\n",
    "        if content['text'] not in data_dict:\n",
    "            data_dict[content['text']] = content"
   ]
  },
  {
   "cell_type": "code",
   "execution_count": 236,
   "id": "77b2809b-38eb-4c6e-8094-31773c274265",
   "metadata": {},
   "outputs": [
    {
     "data": {
      "text/plain": [
       "{'text': '大妈广场舞乱相到底反映出中国社会怎样的深层次矛盾？',\n",
       " 'topic': [['城市', 0.4229627847671509],\n",
       "  ['教育/科学', 0.2866935729980469],\n",
       "  ['社会', 0.10912452638149261],\n",
       "  ['经济', 0.036604635417461395],\n",
       "  ['时事政治', 0.02015676721930504]],\n",
       " 'score_list': {'senti': [['负向', 0.9996033310890198],\n",
       "   ['正向', 0.00039672438288107514]],\n",
       "  'bias': [['偏见', 0.03662021830677986], ['正常', 0.9633797407150269]],\n",
       "  'ciron': [['讽刺', 0.1289997696876526], ['正常', 0.8710001707077026]],\n",
       "  'intent': [['主观评价/比较/判断', 0.0014891846803948283],\n",
       "   ['寻求建议/帮助', 0.0010056071914732456],\n",
       "   ['其它', 0.997505247592926]],\n",
       "  'offensive': [['冒犯', 0.2526616156101227], ['正常', 0.7473383545875549]],\n",
       "  'query_risk': [['风险', 0.9999690055847168],\n",
       "   ['个人信息', 1.959269866347313e-05],\n",
       "   ['正常', 1.1403845746826846e-05]],\n",
       "  'teenager': [['不良', 0.7801902294158936], ['正常', 0.21980974078178406]]}}"
      ]
     },
     "execution_count": 236,
     "metadata": {},
     "output_type": "execute_result"
    }
   ],
   "source": [
    "data_dict['大妈广场舞乱相到底反映出中国社会怎样的深层次矛盾？']"
   ]
  },
  {
   "cell_type": "code",
   "execution_count": 206,
   "id": "d1df4211-7392-4cac-baee-a9ca4e444519",
   "metadata": {},
   "outputs": [],
   "source": [
    "positive = []\n",
    "post_key = {}\n",
    "for d in data_list:\n",
    "    d_content = data_dict[d['text']]\n",
    "    if not d['score_list']:\n",
    "        topic_pred = set([d_content['topic'][0][0], d_content['topic'][1][0]])\n",
    "        topic = set(['学习', '游戏', '健康', '娱乐', '明星', '体育/运动', '星座', '婚姻', '女性', '职场职业', '情感', '两性', '性生活', '动植物', '小说', '校园生活', '汽车', '影视'])\n",
    "        if len(topic_pred&topic) > 0:\n",
    "            post_key[d['text']] = 0\n",
    "            positive.append(d)\n",
    "\n",
    "    elif d[\"score_list\"][\"情感分类[正向,负向]\"][0]['text'] in ['正向'] and d[\"score_list\"][\"情感分类[正向,负向]\"][0]['probability'] >= 0.8:\n",
    "        topic_pred = set([d_content['topic'][0][0], d_content['topic'][1][0]])\n",
    "        topic = set(['心理健康', '国家', '时事政治', '历史', '毒品', '法律', '女权'])\n",
    "        if len(topic_pred&topic) <= 0:\n",
    "            positive.append(d)\n",
    "            post_key[d['text']] = 0\n",
    "    elif d[\"score_list\"][\"情感分类[正向,负向]\"][0]['text'] in ['正向'] and d[\"score_list\"][\"情感分类[正向,负向]\"][0]['probability'] >= 0.2:\n",
    "        topic_pred = set([d_content['topic'][0][0], d_content['topic'][1][0]])\n",
    "        topic = set((['学习', '游戏', '健康', '娱乐', '明星', '体育/运动', '星座', '婚姻', '女性', '职场职业', '情感', '两性', '性生活', '动植物', '小说', '校园生活', '汽车', '影视']))\n",
    "        if len(topic_pred&topic) >= 1:\n",
    "            positive.append(d)\n",
    "            post_key[d['text']] = 0\n",
    "    elif d[\"score_list\"][\"情感分类[正向,负向]\"][0]['text'] in ['负向']:\n",
    "        \n",
    "        topic_pred = set([d_content['topic'][0][0], d_content['topic'][1][0]])\n",
    "        topic_prob = max([d_content['topic'][0][1], d_content['topic'][1][1]])\n",
    "        topic = set(['心理健康', '国家', '时事政治', '历史', '毒品', '法律', '女权'])\n",
    "        if len(topic_pred&topic) >= 1:\n",
    "            continue\n",
    "        \n",
    "        topic_pred = set([d_content['topic'][0][0], d_content['topic'][1][0]])\n",
    "        topic = set(['学习', '游戏', '健康', '娱乐', '明星', '婚姻',  '体育/运动', '星座', '职场职业', '女性', '情感', '两性', '性生活', '动植物', '小说', '校园生活', '汽车', '影视'])\n",
    "        \n",
    "        if len(topic_pred&topic) > 0:\n",
    "            # if d_content['score_list']['bias'][0][1] >= 0.5 or d_content['score_list']['ciron'][0][1] >= 0.4:\n",
    "            #     continue\n",
    "            positive.append(d)\n",
    "            post_key[d['text']] = 0"
   ]
  },
  {
   "cell_type": "code",
   "execution_count": 182,
   "id": "59239326-951e-453c-b777-7852bbca0f18",
   "metadata": {},
   "outputs": [
    {
     "data": {
      "text/plain": [
       "{'senti': [['负向', 0.8095175623893738], ['正向', 0.19048240780830383]],\n",
       " 'bias': [['偏见', 0.02734767086803913], ['正常', 0.9726523160934448]],\n",
       " 'ciron': [['讽刺', 0.044293444603681564], ['正常', 0.9557065367698669]],\n",
       " 'intent': [['主观评价/比较/判断', 0.0004939892096444964],\n",
       "  ['寻求建议/帮助', 0.0010639607207849622],\n",
       "  ['其它', 0.9984421133995056]],\n",
       " 'offensive': [['冒犯', 0.4047074019908905], ['正常', 0.5952925682067871]],\n",
       " 'query_risk': [['风险', 0.9999769926071167],\n",
       "  ['个人信息', 6.688293979095761e-06],\n",
       "  ['正常', 1.6362109818146564e-05]],\n",
       " 'teenager': [['不良', 0.5203346014022827], ['正常', 0.4796653389930725]]}"
      ]
     },
     "execution_count": 182,
     "metadata": {},
     "output_type": "execute_result"
    }
   ],
   "source": [
    "d_content['score_list']"
   ]
  },
  {
   "cell_type": "code",
   "execution_count": 24,
   "id": "3322d714-d3ce-46ec-bdae-ddea6a0e060e",
   "metadata": {},
   "outputs": [
    {
     "data": {
      "text/plain": [
       "({'人际交往', '心理健康'}, {'健康'})"
      ]
     },
     "execution_count": 24,
     "metadata": {},
     "output_type": "execute_result"
    }
   ],
   "source": [
    "topic_pred, topic"
   ]
  },
  {
   "cell_type": "code",
   "execution_count": 209,
   "id": "4a83e1d2-0b21-4391-9ebb-31cd0905ebba",
   "metadata": {},
   "outputs": [],
   "source": [
    "with open('/data/albert.xht/raw_chat_corpus/model_risk_xiaoda/query_risk_corpus.json.positive', 'w') as fwobj:\n",
    "    for d in positive:\n",
    "        fwobj.write(json.dumps(d, ensure_ascii=False)+'\\n')"
   ]
  },
  {
   "cell_type": "code",
   "execution_count": 226,
   "id": "fbbac240-3ad3-424c-9712-2aa64994492a",
   "metadata": {},
   "outputs": [
    {
     "data": {
      "text/plain": [
       "['sdfdasjkgf']"
      ]
     },
     "execution_count": 226,
     "metadata": {},
     "output_type": "execute_result"
    }
   ],
   "source": [
    "'sdfdasjkgf'.split('\\t')"
   ]
  },
  {
   "cell_type": "code",
   "execution_count": 229,
   "id": "3fc50192-6e17-47f3-9916-96f0bcdf46e3",
   "metadata": {},
   "outputs": [],
   "source": [
    "\n",
    "\n",
    "left = []\n",
    "for d in positive:\n",
    "    text = d['text']\n",
    "    if len(text.split('\\t')) == 1:\n",
    "        continue\n",
    "    text, label, score_list, score = text.split('\\t')\n",
    "    d['text'] = text\n",
    "    left.append(d)"
   ]
  },
  {
   "cell_type": "code",
   "execution_count": 231,
   "id": "5dad023f-8467-40e2-8ce3-1c4476dd0136",
   "metadata": {},
   "outputs": [
    {
     "data": {
      "text/plain": [
       "60"
      ]
     },
     "execution_count": 231,
     "metadata": {},
     "output_type": "execute_result"
    }
   ],
   "source": []
  },
  {
   "cell_type": "code",
   "execution_count": 208,
   "id": "2183dbd1-4610-4922-bcf1-86be3d5f6bfa",
   "metadata": {},
   "outputs": [],
   "source": [
    "with open('/data/albert.xht/raw_chat_corpus/model_risk_xiaoda/query_risk_corpus.json.filter', 'w') as fwobj:\n",
    "    for d in data_list:\n",
    "        if d['text'] in post_key:\n",
    "            continue\n",
    "        fwobj.write(json.dumps(d, ensure_ascii=False)+'\\n')"
   ]
  },
  {
   "cell_type": "code",
   "execution_count": 235,
   "id": "8b6c83d7-be26-44c2-9ef7-79114f05e56e",
   "metadata": {},
   "outputs": [
    {
     "data": {
      "text/plain": [
       "{'text': '这样的我算是坏女孩吗？',\n",
       " 'topic': [['情感', 0.21970127522945404],\n",
       "  ['心理健康', 0.11050224304199219],\n",
       "  ['校园生活', 0.10356755554676056],\n",
       "  ['恋爱', 0.08195813745260239],\n",
       "  ['价值观', 0.07936355471611023]],\n",
       " 'score_list': {'senti': [['负向', 0.9998934268951416],\n",
       "   ['正向', 0.00010655508958734572]],\n",
       "  'bias': [['偏见', 0.09576970338821411], ['正常', 0.9042302966117859]],\n",
       "  'ciron': [['讽刺', 0.008845423348248005], ['正常', 0.9911545515060425]],\n",
       "  'intent': [['主观评价/比较/判断', 0.9991254210472107],\n",
       "   ['寻求建议/帮助', 0.0006391228525899351],\n",
       "   ['其它', 0.00023552612401545048]],\n",
       "  'offensive': [['冒犯', 0.15577161312103271], ['正常', 0.8442283868789673]],\n",
       "  'query_risk': [['风险', 0.9998146891593933],\n",
       "   ['个人信息', 8.702470950083807e-06],\n",
       "   ['正常', 0.00017664469487499446]],\n",
       "  'teenager': [['不良', 0.2951676845550537], ['正常', 0.7048323154449463]]}}"
      ]
     },
     "execution_count": 235,
     "metadata": {},
     "output_type": "execute_result"
    }
   ],
   "source": [
    "data_dict['这样的我算是坏女孩吗？']"
   ]
  },
  {
   "cell_type": "code",
   "execution_count": 225,
   "id": "ffcb86c9-f38a-45ca-9637-325f4bf7e5f8",
   "metadata": {},
   "outputs": [
    {
     "data": {
      "text/plain": [
       "{'text': '运动大量出汗会不会导致痛风？',\n",
       " 'topic': [['体育/运动', 0.7894255518913269],\n",
       "  ['健康', 0.20242246985435486],\n",
       "  ['美容/塑身', 0.001110862591303885],\n",
       "  ['美食/烹饪', 0.0009233857854269445],\n",
       "  ['女性', 0.0007468782132491469]],\n",
       " 'score_list': {'senti': [['负向', 0.9998144507408142],\n",
       "   ['正向', 0.0001855577138485387]],\n",
       "  'bias': [['偏见', 0.09793330729007721], ['正常', 0.902066707611084]],\n",
       "  'ciron': [['讽刺', 0.0027007663156837225], ['正常', 0.9972992539405823]],\n",
       "  'intent': [['主观评价/比较/判断', 1.4931842997611966e-05],\n",
       "   ['寻求建议/帮助', 0.999981164932251],\n",
       "   ['其它', 3.908808594133006e-06]],\n",
       "  'offensive': [['冒犯', 0.36420899629592896], ['正常', 0.635791003704071]],\n",
       "  'query_risk': [['风险', 0.9985072016716003],\n",
       "   ['个人信息', 1.4761052625544835e-05],\n",
       "   ['正常', 0.0014780479250475764]],\n",
       "  'teenager': [['不良', 0.007095863111317158], ['正常', 0.9929041266441345]]}}"
      ]
     },
     "execution_count": 225,
     "metadata": {},
     "output_type": "execute_result"
    }
   ],
   "source": [
    "data_dict['运动大量出汗会不会导致痛风？']"
   ]
  },
  {
   "cell_type": "code",
   "execution_count": null,
   "id": "5026f5b9-0dc3-4bb5-afd9-4fc50fd48d76",
   "metadata": {},
   "outputs": [],
   "source": []
  }
 ],
 "metadata": {
  "kernelspec": {
   "display_name": "Python 3 (ipykernel)",
   "language": "python",
   "name": "python3"
  },
  "language_info": {
   "codemirror_mode": {
    "name": "ipython",
    "version": 3
   },
   "file_extension": ".py",
   "mimetype": "text/x-python",
   "name": "python",
   "nbconvert_exporter": "python",
   "pygments_lexer": "ipython3",
   "version": "3.8.1"
  }
 },
 "nbformat": 4,
 "nbformat_minor": 5
}
