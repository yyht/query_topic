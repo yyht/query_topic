{
 "cells": [
  {
   "cell_type": "code",
   "execution_count": 1,
   "id": "09604eec-8204-4998-9109-55be3b961e26",
   "metadata": {},
   "outputs": [],
   "source": [
    "import json\n",
    "import sys,os\n",
    "%load_ext autoreload\n",
    "%autoreload 2"
   ]
  },
  {
   "cell_type": "code",
   "execution_count": 2,
   "id": "8384e130-1f80-4f46-b408-d288e0588379",
   "metadata": {},
   "outputs": [],
   "source": [
    "import os, sys\n",
    "\n",
    "sys.path.extend(['/root/xiaoda/query_topic/'])"
   ]
  },
  {
   "cell_type": "code",
   "execution_count": 3,
   "id": "c0672c18-d1ac-4e88-bd8c-616d74c4cb81",
   "metadata": {},
   "outputs": [],
   "source": [
    "import torch\n",
    "from torch.nn import functional as F\n",
    "import numpy as np\n",
    "import random\n",
    "import torch.nn as nn\n",
    "from scipy.stats import pearsonr, spearmanr\n",
    "from sklearn.metrics import matthews_corrcoef, f1_score\n",
    "from sklearn.metrics import roc_auc_score, roc_curve\n",
    "import numpy as np\n",
    "\n",
    "\"\"\"\n",
    "https://github.com/ondrejbohdal/meta-calibration/blob/main/Metrics/metrics.py\n",
    "\"\"\"\n",
    "\n",
    "class ECE(nn.Module):\n",
    "    \n",
    "    def __init__(self, n_bins=15):\n",
    "        \"\"\"\n",
    "        n_bins (int): number of confidence interval bins\n",
    "        \"\"\"\n",
    "        super(ECE, self).__init__()\n",
    "        bin_boundaries = torch.linspace(0, 1, n_bins + 1)\n",
    "        self.bin_lowers = bin_boundaries[:-1]\n",
    "        self.bin_uppers = bin_boundaries[1:]\n",
    "\n",
    "    def forward(self, logits, labels, mode='logits'):\n",
    "        if mode == 'logits':\n",
    "            softmaxes = F.softmax(logits, dim=1)\n",
    "        else:\n",
    "            softmaxes = logits\n",
    "        # softmaxes = F.softmax(logits, dim=1)\n",
    "        confidences, predictions = torch.max(softmaxes, 1)\n",
    "        accuracies = predictions.eq(labels)\n",
    "        \n",
    "        ece = torch.zeros(1, device=logits.device)\n",
    "        for bin_lower, bin_upper in zip(self.bin_lowers, self.bin_uppers):\n",
    "            # Calculated |confidence - accuracy| in each bin\n",
    "            in_bin = confidences.gt(bin_lower.item()) * confidences.le(bin_upper.item())\n",
    "            prop_in_bin = in_bin.float().mean()\n",
    "            if prop_in_bin.item() > 0:\n",
    "                accuracy_in_bin = accuracies[in_bin].float().mean()\n",
    "                avg_confidence_in_bin = confidences[in_bin].mean()\n",
    "                ece += torch.abs(avg_confidence_in_bin - accuracy_in_bin) * prop_in_bin\n",
    "\n",
    "        return ece"
   ]
  },
  {
   "cell_type": "code",
   "execution_count": 77,
   "id": "bb31ca7c-0a77-45f7-ac78-ecb41753b79e",
   "metadata": {},
   "outputs": [],
   "source": [
    "import torch\n",
    "import json\n",
    "import sys\n",
    "import numpy as np\n",
    "import torch.nn as nn\n",
    "import torch.nn.functional as F\n",
    "from transformers import BertTokenizerFast\n",
    "import transformers\n",
    "from datetime import timedelta\n",
    "\n",
    "import os, sys\n",
    "\n",
    "from nets.them_classifier import MyBaseModel, RobertaClassifier\n",
    "\n",
    "import configparser\n",
    "from tqdm import tqdm\n",
    "\n",
    "cur_dir_path = '/root/xiaoda/query_topic/'\n",
    "\n",
    "def load_label(filepath):\n",
    "    label_list = []\n",
    "    with open(filepath, 'r') as frobj:\n",
    "        for line in frobj:\n",
    "            label_list.append(line.strip())\n",
    "        n_classes = len(label_list)\n",
    "\n",
    "        label2id = {}\n",
    "        id2label = {}\n",
    "        for idx, label in enumerate(label_list):\n",
    "            label2id[label] = idx\n",
    "            id2label[idx] = label\n",
    "        return label2id, id2label\n",
    "\n",
    "class RiskInfer(object):\n",
    "    def __init__(self, config_path):\n",
    "\n",
    "        import torch, os, sys\n",
    "\n",
    "        con = configparser.ConfigParser()\n",
    "        con_path = os.path.join(cur_dir_path, config_path)\n",
    "        con.read(con_path, encoding='utf8')\n",
    "\n",
    "        args_path = dict(dict(con.items('paths')), **dict(con.items(\"para\")))\n",
    "        self.tokenizer = BertTokenizerFast.from_pretrained(args_path[\"model_path\"], do_lower_case=True)\n",
    "\n",
    "        from collections import OrderedDict\n",
    "        self.schema_dict = OrderedDict({})\n",
    "        self.schema2schema_id = {}\n",
    "        self.schema_id2schema = {}\n",
    "\n",
    "        for label_index, schema_info in enumerate(args_path[\"label_path\"].split(',')):\n",
    "            schema_type, schema_path = schema_info.split(':')\n",
    "            schema_path = os.path.join(cur_dir_path, schema_path)\n",
    "            print(schema_type, schema_path, '===schema-path===')\n",
    "            label2id, id2label = load_label(schema_path)\n",
    "            self.schema_dict[schema_type] = {\n",
    "                'label2id':label2id,\n",
    "                'id2label':id2label,\n",
    "                'label_index':label_index\n",
    "            }\n",
    "            # print(self.schema_dict[schema_type], '==schema_type==', schema_type)\n",
    "            self.schema2schema_id[schema_type] = label_index\n",
    "            self.schema_id2schema[label_index] = schema_type\n",
    "        \n",
    "        output_path = os.path.join(cur_dir_path, args_path['output_path'])\n",
    "\n",
    "        # from roformer import RoFormerModel, RoFormerConfig\n",
    "        from transformers import BertModel, BertConfig\n",
    "\n",
    "        config = BertConfig.from_pretrained(args_path[\"model_path\"])\n",
    "        encoder = BertModel(config=config)\n",
    "        \n",
    "        encoder_net = MyBaseModel(encoder, config)\n",
    "\n",
    "        self.device = \"cuda:1\" if torch.cuda.is_available() else \"cpu\"\n",
    "\n",
    "        classifier_list = []\n",
    "\n",
    "        schema_list = list(self.schema_dict.keys())\n",
    "\n",
    "        for schema_key in schema_list:\n",
    "            classifier = RobertaClassifier(\n",
    "                hidden_size=config.hidden_size, \n",
    "                dropout_prob=con.getfloat('para', 'out_dropout_rate'),\n",
    "                num_labels=len(self.schema_dict[schema_key]['label2id']), \n",
    "                dropout_type=con.get('para', 'dropout_type'))\n",
    "            classifier_list.append(classifier)\n",
    "\n",
    "        classifier_list = nn.ModuleList(classifier_list)\n",
    "\n",
    "        class MultitaskClassifier(nn.Module):\n",
    "            def __init__(self, transformer, classifier_list):\n",
    "                super().__init__()\n",
    "\n",
    "                self.transformer = transformer\n",
    "                self.classifier_list = classifier_list\n",
    "\n",
    "            def forward(self, input_ids, input_mask, \n",
    "                        segment_ids=None, \n",
    "                        transformer_mode='mean_pooling', \n",
    "                        dt_idx=None, mode='predict'):\n",
    "                hidden_states = self.transformer(input_ids=input_ids,\n",
    "                              input_mask=input_mask,\n",
    "                              segment_ids=segment_ids,\n",
    "                              return_mode=transformer_mode)\n",
    "                outputs_list = []\n",
    "                \n",
    "                for idx, classifier in enumerate(self.classifier_list):\n",
    "                    \n",
    "                    if dt_idx:\n",
    "                        if idx not in dt_idx:\n",
    "                            outputs_list.append([])\n",
    "                            continue\n",
    "                    \n",
    "                    scores = classifier(hidden_states)\n",
    "                    if mode == 'predict':\n",
    "                        scores = torch.nn.Softmax(dim=1)(scores)\n",
    "                    outputs_list.append(scores)\n",
    "                return outputs_list, hidden_states\n",
    "\n",
    "        self.net = MultitaskClassifier(encoder_net, classifier_list).to(self.device)\n",
    "\n",
    "        # eo = 9\n",
    "        # ckpt = torch.load(os.path.join(output_path, 'multitask_cls.pth.{}.raw'.format(eo)), map_location=self.device)\n",
    "        # # ckpt = torch.load(os.path.join(output_path, 'multitask_cls.pth.{}.raw.focal'.format(eo)), map_location=self.device)\n",
    "        # # ckpt = torch.load(os.path.join(output_path, 'multitask_contrast_cls.pth.{}'.format(eo)), map_location=self.device)\n",
    "        # self.net.load_state_dict(ckpt)\n",
    "        # self.net.eval()\n",
    "        \n",
    "    def reload(self, model_path):\n",
    "        ckpt = torch.load(model_path, map_location=self.device)\n",
    "        self.net.load_state_dict(ckpt)\n",
    "        self.net.eval()\n",
    "        self.net = self.net.half()\n",
    "\n",
    "    def predict(self, text, allowed_schema_type={}):\n",
    "\n",
    "        \"\"\"抽取输入text所包含的类型\n",
    "        \"\"\"\n",
    "        # start = time.time()\n",
    "        # encoder_txt = self.tokenizer.encode_plus(text, max_length=256)\n",
    "        # input_ids = torch.tensor(encoder_txt[\"input_ids\"]).long().unsqueeze(0).to(self.device)\n",
    "        # token_type_ids = torch.tensor(encoder_txt[\"token_type_ids\"]).unsqueeze(0).to(self.device)\n",
    "        # attention_mask = torch.tensor(encoder_txt[\"attention_mask\"]).unsqueeze(0).to(self.device)\n",
    "        # print(time.time() - start, '====tokenization====')\n",
    "        \n",
    "        start = time.time()\n",
    "        encoder_txt = self.tokenizer([text], max_length=512)\n",
    "        input_ids = torch.tensor(encoder_txt[\"input_ids\"]).long().to(self.device)\n",
    "        token_type_ids = torch.tensor(encoder_txt[\"token_type_ids\"]).to(self.device)\n",
    "        attention_mask = torch.tensor(encoder_txt[\"attention_mask\"]).to(self.device)\n",
    "        # print(time.time() - start, '====tokenization====')\n",
    "        \n",
    "        allowed_schema_type_ids = {}\n",
    "        for schema_type in allowed_schema_type:\n",
    "            allowed_schema_type_ids[self.schema2schema_id[schema_type]] = schema_type\n",
    "        \n",
    "        scores_dict = {}\n",
    "        start = time.time()\n",
    "        with torch.no_grad():\n",
    "            [logits_list, \n",
    "            hidden_states] = self.net(input_ids, \n",
    "                attention_mask, token_type_ids, transformer_mode='cls', dt_idx=allowed_schema_type_ids)\n",
    "        # print(time.time() - start, '====inference====')\n",
    "        \n",
    "        old_start = time.time()\n",
    "        \n",
    "        for schema_idx, (schema_type, scores) in enumerate(zip(list(self.schema_dict.keys()), logits_list)):\n",
    "            if allowed_schema_type:\n",
    "                if schema_type not in allowed_schema_type:\n",
    "                    continue\n",
    "            # scores = torch.nn.Softmax(dim=1)(logits)[0].data.cpu().numpy()\n",
    "            scores = scores[0].data.cpu().numpy()\n",
    "            scores_dict[schema_type] = []\n",
    "            for index, score in enumerate(scores):\n",
    "                scores_dict[schema_type].append([self.schema_dict[schema_type]['id2label'][index], \n",
    "                                        float(score)])\n",
    "            if len(scores_dict[schema_type]) >= 5:\n",
    "                schema_type_scores = sorted(scores_dict[schema_type], key=lambda item:item[1], reverse=True)\n",
    "                scores_dict[schema_type] = schema_type_scores[0:5]\n",
    "        # print(time.time() - old_start, '====result analysis====')\n",
    "        return scores_dict\n",
    "    \n",
    "    def get_logitnorm(self, text):\n",
    "        \"\"\"抽取输入text所包含的类型\n",
    "        \"\"\"\n",
    "        encoder_txt = self.tokenizer.encode_plus(text, max_length=512)\n",
    "        input_ids = torch.tensor(encoder_txt[\"input_ids\"]).long().unsqueeze(0).to(self.device)\n",
    "        token_type_ids = torch.tensor(encoder_txt[\"token_type_ids\"]).unsqueeze(0).to(self.device)\n",
    "        attention_mask = torch.tensor(encoder_txt[\"attention_mask\"]).unsqueeze(0).to(self.device)\n",
    "        \n",
    "        scores_dict = {}\n",
    "        logits_norm_list = []\n",
    "        with torch.no_grad():\n",
    "            [logits_list, \n",
    "            hidden_states] = self.net(input_ids, \n",
    "                attention_mask, token_type_ids, transformer_mode='cls')\n",
    "            for logits in logits_list:\n",
    "                logits_norm_list.append(logits/torch.norm(logits, p=2, dim=-1, keepdim=True) + 1e-7)\n",
    "        for schema_type, logit_norm in zip(list(self.schema_dict.keys()), logits_norm_list):\n",
    "            scores_dict[schema_type] = logit_norm[0].data.cpu().numpy()\n",
    "        return scores_dict\n",
    "            \n",
    "    \n",
    "    def predict_batch(self, text, allowed_schema_type={}):\n",
    "        if isinstance(text, list):\n",
    "            text_list = text\n",
    "        else:\n",
    "            text_list = [text]\n",
    "        model_input = self.tokenizer(text_list, max_length=512, truncation=True, return_tensors=\"pt\",padding=True)\n",
    "        for key in model_input:\n",
    "            model_input[key] = model_input[key].to(self.device)\n",
    "        \n",
    "        allowed_schema_type_ids = {}\n",
    "        for schema_type in allowed_schema_type:\n",
    "            allowed_schema_type_ids[self.schema2schema_id[schema_type]] = schema_type\n",
    "            \n",
    "        with torch.no_grad():\n",
    "            [logits_list, \n",
    "            hidden_states] = self.net(model_input['input_ids'], \n",
    "                model_input['attention_mask'], \n",
    "                model_input['token_type_ids'], transformer_mode='cls', dt_idx=allowed_schema_type_ids)\n",
    "        score_dict_list = []\n",
    "        for idx, text in enumerate(text_list):\n",
    "            scores_dict = {}\n",
    "            for schema_idx, (schema_type, scores) in enumerate(zip(list(self.schema_dict.keys()), logits_list)):\n",
    "                if allowed_schema_type:\n",
    "                    if schema_type not in allowed_schema_type:\n",
    "                        continue\n",
    "                # scores = torch.nn.Softmax(dim=1)(logits)[idx].data.cpu().numpy()\n",
    "                scores = scores[idx].data.cpu().numpy()\n",
    "                scores_dict[schema_type] = []\n",
    "                for index, score in enumerate(scores):\n",
    "                    scores_dict[schema_type].append([self.schema_dict[schema_type]['id2label'][index], \n",
    "                                            float(score)])\n",
    "                if len(scores_dict[schema_type]) >= 5:\n",
    "                    schema_type_scores = sorted(scores_dict[schema_type], key=lambda item:item[1], reverse=True)\n",
    "                    scores_dict[schema_type] = schema_type_scores[0:5]\n",
    "            score_dict_list.append(scores_dict)\n",
    "        return score_dict_list\n",
    "\n",
    "# risk_api = RiskInfer('./risk_data/config.ini')\n",
    "# risk_api = RiskInfer('./risk_data_v5/config_offensive_risk.ini')\n",
    "\n",
    "\n"
   ]
  },
  {
   "cell_type": "code",
   "execution_count": 5,
   "id": "8974c9fa-0fd5-425e-bde7-65401c94273d",
   "metadata": {},
   "outputs": [
    {
     "name": "stdout",
     "output_type": "stream",
     "text": [
      "query_resposne_risk /data/albert.xht/xiaoda/query_response/red_team/query_response/query_response_label.txt ===schema-path===\n",
      "cmid /data/albert.xht/xiaoda/sentiment/CMID-main/cmid_label_list.txt ===schema-path===\n",
      "topic /data/albert.xht/raw_chat_corpus/topic_classification_v4/label_list.txt ===schema-path===\n",
      "senti_query /data/albert.xht/xiaoda/sentiment/senti/senti_query_label.txt ===schema-path===\n",
      "senti /data/albert.xht/xiaoda/sentiment/senti/senti_label.txt ===schema-path===\n",
      "bias /data/albert.xht/xiaoda/sentiment/bias/bias_label.txt ===schema-path===\n",
      "ciron /data/albert.xht/xiaoda/sentiment/ciron/ciron_label.txt ===schema-path===\n",
      "intent /data/albert.xht/xiaoda/sentiment/intention_data_v2-1/label.txt ===schema-path===\n",
      "offensive /data/albert.xht/xiaoda/sentiment/offensive/offensive_label.txt ===schema-path===\n",
      "query_risk /data/albert.xht/xiaoda/sentiment/query_risk_v12/query_risk_label.txt ===schema-path===\n",
      "teenager /data/albert.xht/xiaoda/sentiment/teenager//teenager_label.txt ===schema-path===\n",
      "politics /data/albert.xht/xiaoda/sentiment/green_politics/green_politics_label.txt ===schema-path===\n",
      "porn /data/albert.xht/xiaoda/sentiment/green_porn_v1/green_porn_label.txt ===schema-path===\n",
      "abusive /data/albert.xht/xiaoda/sentiment/green_abusive_v1/green_abusive_label.txt ===schema-path===\n"
     ]
    },
    {
     "name": "stderr",
     "output_type": "stream",
     "text": [
      "03/23/2023 06:25:11 - INFO - nets.them_classifier - ++RobertaClassifier++ apply stable dropout++\n",
      "03/23/2023 06:25:11 - INFO - nets.them_classifier - ++RobertaClassifier++ apply stable dropout++\n",
      "03/23/2023 06:25:11 - INFO - nets.them_classifier - ++RobertaClassifier++ apply stable dropout++\n",
      "03/23/2023 06:25:11 - INFO - nets.them_classifier - ++RobertaClassifier++ apply stable dropout++\n",
      "03/23/2023 06:25:11 - INFO - nets.them_classifier - ++RobertaClassifier++ apply stable dropout++\n",
      "03/23/2023 06:25:11 - INFO - nets.them_classifier - ++RobertaClassifier++ apply stable dropout++\n",
      "03/23/2023 06:25:11 - INFO - nets.them_classifier - ++RobertaClassifier++ apply stable dropout++\n",
      "03/23/2023 06:25:11 - INFO - nets.them_classifier - ++RobertaClassifier++ apply stable dropout++\n",
      "03/23/2023 06:25:11 - INFO - nets.them_classifier - ++RobertaClassifier++ apply stable dropout++\n",
      "03/23/2023 06:25:11 - INFO - nets.them_classifier - ++RobertaClassifier++ apply stable dropout++\n",
      "03/23/2023 06:25:11 - INFO - nets.them_classifier - ++RobertaClassifier++ apply stable dropout++\n",
      "03/23/2023 06:25:11 - INFO - nets.them_classifier - ++RobertaClassifier++ apply stable dropout++\n",
      "03/23/2023 06:25:11 - INFO - nets.them_classifier - ++RobertaClassifier++ apply stable dropout++\n",
      "03/23/2023 06:25:11 - INFO - nets.them_classifier - ++RobertaClassifier++ apply stable dropout++\n"
     ]
    }
   ],
   "source": [
    "\n",
    "green_green_topic_risk_api = RiskInfer('/root/xiaoda/query_topic/risk_data_tiny_query_response_cmid/risk_data_tiny/config_topic_risk_green_v1.ini')\n",
    "model_path = '/data/albert.xht/xiaodao/risk_classification/topic_v4_update_green_v1_teenager_v1_porn_multitask_raw_filter_senti_query_risk_v13_intent_v2-1_10_no_symbol_senti_query_senta_green_mtdnn_v24/multitask_cls.pth.8'\n",
    "\n",
    "green_green_topic_risk_api.reload(model_path)"
   ]
  },
  {
   "cell_type": "code",
   "execution_count": 15,
   "id": "fcc04169-82f6-4a2a-946f-eb4bcc54151c",
   "metadata": {},
   "outputs": [
    {
     "data": {
      "text/plain": [
       "{'input_ids': [[2769, 3221, 6443, 872, 3221, 6443]], 'token_type_ids': [[0, 0, 0, 1, 1, 1]], 'attention_mask': [[1, 1, 1, 1, 1, 1]]}"
      ]
     },
     "execution_count": 15,
     "metadata": {},
     "output_type": "execute_result"
    }
   ],
   "source": [
    "green_green_topic_risk_api.tokenizer([('我是谁', '你是谁')], add_special_tokens=False)"
   ]
  },
  {
   "cell_type": "code",
   "execution_count": 5,
   "id": "dbdad34a-4a05-4766-a9bc-21b035cd42b7",
   "metadata": {},
   "outputs": [
    {
     "name": "stdout",
     "output_type": "stream",
     "text": [
      "tnews /data/albert.xht/xiaoda/sentiment/classification/tnews/tnews_label_list.txt ===schema-path===\n",
      "title2event /data/albert.xht/xiaoda/sentiment/classification/title2event/title2event_label_list.txt ===schema-path===\n",
      "fewfc_2022 /data/albert.xht/xiaoda/sentiment/classification/fewfc_2022/fewfc_2022_label_list.txt ===schema-path===\n",
      "duee /data/albert.xht/xiaoda/sentiment/classification/DuEE1.0/duee_label_list.txt ===schema-path===\n",
      "query_resposne_risk /data/albert.xht/xiaoda/query_response/red_team/query_response/query_response_label.txt ===schema-path===\n",
      "cmid /data/albert.xht/xiaoda/sentiment/CMID-main/cmid_label_list.txt ===schema-path===\n",
      "topic /data/albert.xht/raw_chat_corpus/topic_classification_v4/label_list.txt ===schema-path===\n",
      "senti_query /data/albert.xht/xiaoda/sentiment/senti/senti_query_label.txt ===schema-path===\n",
      "senti /data/albert.xht/xiaoda/sentiment/senti/senti_label.txt ===schema-path===\n",
      "bias /data/albert.xht/xiaoda/sentiment/bias/bias_label.txt ===schema-path===\n",
      "ciron /data/albert.xht/xiaoda/sentiment/ciron/ciron_label.txt ===schema-path===\n",
      "intent /data/albert.xht/xiaoda/sentiment/intention_data_v2-1/label.txt ===schema-path===\n",
      "offensive /data/albert.xht/xiaoda/sentiment/offensive/offensive_label.txt ===schema-path===\n",
      "query_risk /data/albert.xht/xiaoda/sentiment/query_risk_v12/query_risk_label.txt ===schema-path===\n",
      "teenager /data/albert.xht/xiaoda/sentiment/teenager//teenager_label.txt ===schema-path===\n",
      "politics /data/albert.xht/xiaoda/sentiment/green_politics/green_politics_label.txt ===schema-path===\n",
      "porn /data/albert.xht/xiaoda/sentiment/green_porn_v1/green_porn_label.txt ===schema-path===\n",
      "abusive /data/albert.xht/xiaoda/sentiment/green_abusive_v1/green_abusive_label.txt ===schema-path===\n"
     ]
    },
    {
     "name": "stderr",
     "output_type": "stream",
     "text": [
      "03/17/2023 20:51:07 - INFO - nets.them_classifier - ++RobertaClassifier++ apply stable dropout++\n",
      "03/17/2023 20:51:07 - INFO - nets.them_classifier - ++RobertaClassifier++ apply stable dropout++\n",
      "03/17/2023 20:51:07 - INFO - nets.them_classifier - ++RobertaClassifier++ apply stable dropout++\n",
      "03/17/2023 20:51:07 - INFO - nets.them_classifier - ++RobertaClassifier++ apply stable dropout++\n",
      "03/17/2023 20:51:07 - INFO - nets.them_classifier - ++RobertaClassifier++ apply stable dropout++\n",
      "03/17/2023 20:51:07 - INFO - nets.them_classifier - ++RobertaClassifier++ apply stable dropout++\n",
      "03/17/2023 20:51:07 - INFO - nets.them_classifier - ++RobertaClassifier++ apply stable dropout++\n",
      "03/17/2023 20:51:07 - INFO - nets.them_classifier - ++RobertaClassifier++ apply stable dropout++\n",
      "03/17/2023 20:51:07 - INFO - nets.them_classifier - ++RobertaClassifier++ apply stable dropout++\n",
      "03/17/2023 20:51:07 - INFO - nets.them_classifier - ++RobertaClassifier++ apply stable dropout++\n",
      "03/17/2023 20:51:07 - INFO - nets.them_classifier - ++RobertaClassifier++ apply stable dropout++\n",
      "03/17/2023 20:51:07 - INFO - nets.them_classifier - ++RobertaClassifier++ apply stable dropout++\n",
      "03/17/2023 20:51:07 - INFO - nets.them_classifier - ++RobertaClassifier++ apply stable dropout++\n",
      "03/17/2023 20:51:07 - INFO - nets.them_classifier - ++RobertaClassifier++ apply stable dropout++\n",
      "03/17/2023 20:51:07 - INFO - nets.them_classifier - ++RobertaClassifier++ apply stable dropout++\n",
      "03/17/2023 20:51:07 - INFO - nets.them_classifier - ++RobertaClassifier++ apply stable dropout++\n",
      "03/17/2023 20:51:07 - INFO - nets.them_classifier - ++RobertaClassifier++ apply stable dropout++\n",
      "03/17/2023 20:51:07 - INFO - nets.them_classifier - ++RobertaClassifier++ apply stable dropout++\n"
     ]
    }
   ],
   "source": [
    "\n",
    "green_green_topic_risk_open_api = RiskInfer('/root/xiaoda/query_topic/risk_data_tiny_query_response_cmid_open/topic_query_risk/config.ini')\n",
    "model_path = '/data/albert.xht/xiaodao/risk_classification/topic_v4_update_green_v1_teenager_v1_porn_multitask_raw_filter_senti_query_risk_v13_intent_v2-1_10_no_symbol_senti_query_senta_green_mtdnn_v26_duplicate_with_opensource/multitask_cls.pth.7'\n",
    "\n",
    "green_green_topic_risk_open_api.reload(model_path)\n"
   ]
  },
  {
   "cell_type": "code",
   "execution_count": null,
   "id": "7f3cfd7e-795a-486a-ba9e-0084f1023b8f",
   "metadata": {},
   "outputs": [],
   "source": [
    "green_green_topic_risk_open_api.tokenier"
   ]
  },
  {
   "cell_type": "code",
   "execution_count": 13,
   "id": "ac44113f-f57b-498b-8ca0-77f9df18819f",
   "metadata": {},
   "outputs": [
    {
     "name": "stdout",
     "output_type": "stream",
     "text": [
      "tnews /data/albert.xht/xiaoda/sentiment/classification/tnews/tnews_label_list.txt ===schema-path===\n",
      "title2event /data/albert.xht/xiaoda/sentiment/classification/title2event/title2event_label_list.txt ===schema-path===\n",
      "fewfc_2022 /data/albert.xht/xiaoda/sentiment/classification/fewfc_2022/fewfc_2022_label_list.txt ===schema-path===\n",
      "duee /data/albert.xht/xiaoda/sentiment/classification/DuEE1.0/duee_label_list.txt ===schema-path===\n",
      "ethics_common /root/xiaoda/query_topic/risk_data_tiny_query_reseponse_open/topic_query_risk/ethics_common_label_list.txt ===schema-path===\n",
      "insult /data/albert.xht/xiaoda/measuring_hate_speech/hate_speech_label_list.txt.insult ===schema-path===\n",
      "humiliate /data/albert.xht/xiaoda/measuring_hate_speech/hate_speech_label_list.txt.humiliate ===schema-path===\n",
      "dehumanize /data/albert.xht/xiaoda/measuring_hate_speech/hate_speech_label_list.txt.dehumanize ===schema-path===\n",
      "violence /data/albert.xht/xiaoda/measuring_hate_speech/hate_speech_label_list.txt.violence ===schema-path===\n",
      "genocide /data/albert.xht/xiaoda/measuring_hate_speech/hate_speech_label_list.txt.genocide ===schema-path===\n",
      "hatespeech /data/albert.xht/xiaoda/measuring_hate_speech/hate_speech_label_list.txt.hatespeech ===schema-path===\n",
      "attack_defend /data/albert.xht/xiaoda/measuring_hate_speech/hate_speech_label_list.txt.attack_defend ===schema-path===\n",
      "query_resposne_risk /data/albert.xht/xiaoda/query_response/red_team/query_response/query_response_label.txt ===schema-path===\n",
      "cmid /data/albert.xht/xiaoda/sentiment/CMID-main/cmid_label_list.txt ===schema-path===\n",
      "topic /data/albert.xht/raw_chat_corpus/topic_classification_v4/label_list.txt ===schema-path===\n",
      "senti_query /data/albert.xht/xiaoda/sentiment/senti/senti_query_label.txt ===schema-path===\n",
      "senti /data/albert.xht/xiaoda/sentiment/senti/senti_label.txt ===schema-path===\n",
      "bias /data/albert.xht/xiaoda/sentiment/bias/bias_label.txt ===schema-path===\n",
      "ciron /data/albert.xht/xiaoda/sentiment/ciron/ciron_label.txt ===schema-path===\n",
      "intent /data/albert.xht/xiaoda/sentiment/intention_data_v2-1/label.txt ===schema-path===\n",
      "offensive /data/albert.xht/xiaoda/sentiment/offensive/offensive_label.txt ===schema-path===\n",
      "query_risk /data/albert.xht/xiaoda/sentiment/query_risk_v12/query_risk_label.txt ===schema-path===\n",
      "teenager /data/albert.xht/xiaoda/sentiment/teenager//teenager_label.txt ===schema-path===\n",
      "politics /data/albert.xht/xiaoda/sentiment/green_politics/green_politics_label.txt ===schema-path===\n",
      "porn /data/albert.xht/xiaoda/sentiment/green_porn_v1/green_porn_label.txt ===schema-path===\n",
      "abusive /data/albert.xht/xiaoda/sentiment/green_abusive_v1/green_abusive_label.txt ===schema-path===\n"
     ]
    },
    {
     "name": "stderr",
     "output_type": "stream",
     "text": [
      "03/20/2023 10:55:17 - INFO - nets.them_classifier - ++RobertaClassifier++ apply stable dropout++\n",
      "03/20/2023 10:55:17 - INFO - nets.them_classifier - ++RobertaClassifier++ apply stable dropout++\n",
      "03/20/2023 10:55:17 - INFO - nets.them_classifier - ++RobertaClassifier++ apply stable dropout++\n",
      "03/20/2023 10:55:17 - INFO - nets.them_classifier - ++RobertaClassifier++ apply stable dropout++\n",
      "03/20/2023 10:55:17 - INFO - nets.them_classifier - ++RobertaClassifier++ apply stable dropout++\n",
      "03/20/2023 10:55:17 - INFO - nets.them_classifier - ++RobertaClassifier++ apply stable dropout++\n",
      "03/20/2023 10:55:17 - INFO - nets.them_classifier - ++RobertaClassifier++ apply stable dropout++\n",
      "03/20/2023 10:55:17 - INFO - nets.them_classifier - ++RobertaClassifier++ apply stable dropout++\n",
      "03/20/2023 10:55:17 - INFO - nets.them_classifier - ++RobertaClassifier++ apply stable dropout++\n",
      "03/20/2023 10:55:17 - INFO - nets.them_classifier - ++RobertaClassifier++ apply stable dropout++\n",
      "03/20/2023 10:55:17 - INFO - nets.them_classifier - ++RobertaClassifier++ apply stable dropout++\n",
      "03/20/2023 10:55:17 - INFO - nets.them_classifier - ++RobertaClassifier++ apply stable dropout++\n",
      "03/20/2023 10:55:17 - INFO - nets.them_classifier - ++RobertaClassifier++ apply stable dropout++\n",
      "03/20/2023 10:55:17 - INFO - nets.them_classifier - ++RobertaClassifier++ apply stable dropout++\n",
      "03/20/2023 10:55:17 - INFO - nets.them_classifier - ++RobertaClassifier++ apply stable dropout++\n",
      "03/20/2023 10:55:17 - INFO - nets.them_classifier - ++RobertaClassifier++ apply stable dropout++\n",
      "03/20/2023 10:55:17 - INFO - nets.them_classifier - ++RobertaClassifier++ apply stable dropout++\n",
      "03/20/2023 10:55:17 - INFO - nets.them_classifier - ++RobertaClassifier++ apply stable dropout++\n",
      "03/20/2023 10:55:17 - INFO - nets.them_classifier - ++RobertaClassifier++ apply stable dropout++\n",
      "03/20/2023 10:55:17 - INFO - nets.them_classifier - ++RobertaClassifier++ apply stable dropout++\n",
      "03/20/2023 10:55:17 - INFO - nets.them_classifier - ++RobertaClassifier++ apply stable dropout++\n",
      "03/20/2023 10:55:17 - INFO - nets.them_classifier - ++RobertaClassifier++ apply stable dropout++\n",
      "03/20/2023 10:55:17 - INFO - nets.them_classifier - ++RobertaClassifier++ apply stable dropout++\n",
      "03/20/2023 10:55:17 - INFO - nets.them_classifier - ++RobertaClassifier++ apply stable dropout++\n",
      "03/20/2023 10:55:17 - INFO - nets.them_classifier - ++RobertaClassifier++ apply stable dropout++\n",
      "03/20/2023 10:55:17 - INFO - nets.them_classifier - ++RobertaClassifier++ apply stable dropout++\n"
     ]
    }
   ],
   "source": [
    "green_green_topic_risk_open_api = RiskInfer('/root/xiaoda/query_topic/risk_data_tiny_query_reseponse_open/topic_query_risk/config.ini')\n",
    "model_path = '/data/albert.xht/xiaodao/risk_classification/topic_v4_update_green_v1_teenager_v1_potitask_raw_filter_senti_query_risk_v13_intent_v2-1_10_no_symbol_senti_query_senta_green_mtdnn_add_hate_speech_detail_ethics_open_v24//multitask_cls.pth.9'\n",
    "\n",
    "green_green_topic_risk_open_api.reload(model_path)\n"
   ]
  },
  {
   "cell_type": "code",
   "execution_count": 78,
   "id": "730ba570-11ee-4063-ac87-a1dafc79b3b6",
   "metadata": {},
   "outputs": [
    {
     "name": "stdout",
     "output_type": "stream",
     "text": [
      "yewu /data/albert.xht/xiaoda/sentiment/yewu/yewu_label_list.txt ===schema-path===\n",
      "risk_news /data/albert.xht/xiaoda/sentiment/risk_news/risk_news_label_list.txt ===schema-path===\n",
      "tnews /data/albert.xht/xiaoda/sentiment/classification/tnews/tnews_label_list.txt ===schema-path===\n",
      "title2event /data/albert.xht/xiaoda/sentiment/classification/title2event/title2event_label_list.txt ===schema-path===\n",
      "fewfc_2022 /data/albert.xht/xiaoda/sentiment/classification/fewfc_2022/fewfc_2022_label_list.txt ===schema-path===\n",
      "duee /data/albert.xht/xiaoda/sentiment/classification/DuEE1.0/duee_label_list.txt ===schema-path===\n",
      "ethics_common /root/xiaoda/query_topic/risk_data_tiny_query_reseponse_open/topic_query_risk/ethics_common_label_list.txt ===schema-path===\n",
      "insult /data/albert.xht/xiaoda/measuring_hate_speech/hate_speech_label_list.txt.insult ===schema-path===\n",
      "humiliate /data/albert.xht/xiaoda/measuring_hate_speech/hate_speech_label_list.txt.humiliate ===schema-path===\n",
      "dehumanize /data/albert.xht/xiaoda/measuring_hate_speech/hate_speech_label_list.txt.dehumanize ===schema-path===\n",
      "violence /data/albert.xht/xiaoda/measuring_hate_speech/hate_speech_label_list.txt.violence ===schema-path===\n",
      "genocide /data/albert.xht/xiaoda/measuring_hate_speech/hate_speech_label_list.txt.genocide ===schema-path===\n",
      "hatespeech /data/albert.xht/xiaoda/measuring_hate_speech/hate_speech_label_list.txt.hatespeech ===schema-path===\n",
      "attack_defend /data/albert.xht/xiaoda/measuring_hate_speech/hate_speech_label_list.txt.attack_defend ===schema-path===\n",
      "query_resposne_risk /data/albert.xht/xiaoda/query_response/red_team/query_response/query_response_label.txt ===schema-path===\n",
      "cmid /data/albert.xht/xiaoda/sentiment/CMID-main/cmid_label_list.txt ===schema-path===\n",
      "topic /data/albert.xht/raw_chat_corpus/topic_classification_v4/label_list.txt ===schema-path===\n",
      "senti_query /data/albert.xht/xiaoda/sentiment/senti/senti_query_label.txt ===schema-path===\n",
      "senti /data/albert.xht/xiaoda/sentiment/senti/senti_label.txt ===schema-path===\n",
      "bias /data/albert.xht/xiaoda/sentiment/bias/bias_label.txt ===schema-path===\n",
      "ciron /data/albert.xht/xiaoda/sentiment/ciron/ciron_label.txt ===schema-path===\n",
      "intent /data/albert.xht/xiaoda/sentiment/intention_data_v2-1/label.txt ===schema-path===\n",
      "offensive /data/albert.xht/xiaoda/sentiment/offensive/offensive_label.txt ===schema-path===\n",
      "query_risk /data/albert.xht/xiaoda/sentiment/query_risk_v12/query_risk_label.txt ===schema-path===\n",
      "teenager /data/albert.xht/xiaoda/sentiment/teenager//teenager_label.txt ===schema-path===\n",
      "politics /data/albert.xht/xiaoda/sentiment/green_politics/green_politics_label.txt ===schema-path===\n",
      "porn /data/albert.xht/xiaoda/sentiment/green_porn_v1/green_porn_label.txt ===schema-path===\n",
      "abusive /data/albert.xht/xiaoda/sentiment/green_abusive_v1/green_abusive_label.txt ===schema-path===\n"
     ]
    },
    {
     "name": "stderr",
     "output_type": "stream",
     "text": [
      "03/29/2023 11:55:51 - INFO - nets.them_classifier - ++RobertaClassifier++ apply stable dropout++\n",
      "03/29/2023 11:55:51 - INFO - nets.them_classifier - ++RobertaClassifier++ apply stable dropout++\n",
      "03/29/2023 11:55:51 - INFO - nets.them_classifier - ++RobertaClassifier++ apply stable dropout++\n",
      "03/29/2023 11:55:51 - INFO - nets.them_classifier - ++RobertaClassifier++ apply stable dropout++\n",
      "03/29/2023 11:55:51 - INFO - nets.them_classifier - ++RobertaClassifier++ apply stable dropout++\n",
      "03/29/2023 11:55:51 - INFO - nets.them_classifier - ++RobertaClassifier++ apply stable dropout++\n",
      "03/29/2023 11:55:51 - INFO - nets.them_classifier - ++RobertaClassifier++ apply stable dropout++\n",
      "03/29/2023 11:55:51 - INFO - nets.them_classifier - ++RobertaClassifier++ apply stable dropout++\n",
      "03/29/2023 11:55:51 - INFO - nets.them_classifier - ++RobertaClassifier++ apply stable dropout++\n",
      "03/29/2023 11:55:51 - INFO - nets.them_classifier - ++RobertaClassifier++ apply stable dropout++\n",
      "03/29/2023 11:55:51 - INFO - nets.them_classifier - ++RobertaClassifier++ apply stable dropout++\n",
      "03/29/2023 11:55:51 - INFO - nets.them_classifier - ++RobertaClassifier++ apply stable dropout++\n",
      "03/29/2023 11:55:51 - INFO - nets.them_classifier - ++RobertaClassifier++ apply stable dropout++\n",
      "03/29/2023 11:55:51 - INFO - nets.them_classifier - ++RobertaClassifier++ apply stable dropout++\n",
      "03/29/2023 11:55:51 - INFO - nets.them_classifier - ++RobertaClassifier++ apply stable dropout++\n",
      "03/29/2023 11:55:51 - INFO - nets.them_classifier - ++RobertaClassifier++ apply stable dropout++\n",
      "03/29/2023 11:55:51 - INFO - nets.them_classifier - ++RobertaClassifier++ apply stable dropout++\n",
      "03/29/2023 11:55:51 - INFO - nets.them_classifier - ++RobertaClassifier++ apply stable dropout++\n",
      "03/29/2023 11:55:51 - INFO - nets.them_classifier - ++RobertaClassifier++ apply stable dropout++\n",
      "03/29/2023 11:55:51 - INFO - nets.them_classifier - ++RobertaClassifier++ apply stable dropout++\n",
      "03/29/2023 11:55:51 - INFO - nets.them_classifier - ++RobertaClassifier++ apply stable dropout++\n",
      "03/29/2023 11:55:51 - INFO - nets.them_classifier - ++RobertaClassifier++ apply stable dropout++\n",
      "03/29/2023 11:55:51 - INFO - nets.them_classifier - ++RobertaClassifier++ apply stable dropout++\n",
      "03/29/2023 11:55:51 - INFO - nets.them_classifier - ++RobertaClassifier++ apply stable dropout++\n",
      "03/29/2023 11:55:51 - INFO - nets.them_classifier - ++RobertaClassifier++ apply stable dropout++\n",
      "03/29/2023 11:55:51 - INFO - nets.them_classifier - ++RobertaClassifier++ apply stable dropout++\n",
      "03/29/2023 11:55:51 - INFO - nets.them_classifier - ++RobertaClassifier++ apply stable dropout++\n",
      "03/29/2023 11:55:51 - INFO - nets.them_classifier - ++RobertaClassifier++ apply stable dropout++\n"
     ]
    }
   ],
   "source": [
    "green_green_topic_risk_open_all_api = RiskInfer('/root/xiaoda/query_topic/risk_data_tiny_query_reseponse_open_all/topic_query_risk/config.ini')\n",
    "model_path = '/data/albert.xht/xiaodao/risk_classification/topic_v4_update_green_v1_teenager_v1_porn_multitask_raw_filter_senti_query_risk_v13_intent_v2-1_10_no_symbol_senti_query_senta_green_mtdnn_add_hate_speech_detail_ethics_open_all_v24/multitask_cls.pth.9'\n",
    "green_green_topic_risk_open_all_api.reload(model_path)\n"
   ]
  },
  {
   "cell_type": "code",
   "execution_count": 43,
   "id": "f4842281-a9a8-46ff-8c8e-33832fd7d334",
   "metadata": {},
   "outputs": [
    {
     "name": "stdout",
     "output_type": "stream",
     "text": [
      "nli /data/albert.xht/xiaoda/sentiment/classification/cmnli/cmnli_label_list.txt ===schema-path===\n",
      "lcqmc /data/albert.xht/xiaoda/sentiment/classification/paws-x-zh/paws_label_list.txt ===schema-path===\n",
      "yewu /data/albert.xht/xiaoda/sentiment/yewu/yewu_label_list.txt ===schema-path===\n",
      "risk_news /data/albert.xht/xiaoda/sentiment/risk_news/risk_news_label_list.txt ===schema-path===\n",
      "tnews /data/albert.xht/xiaoda/sentiment/classification/tnews/tnews_label_list.txt ===schema-path===\n",
      "title2event /data/albert.xht/xiaoda/sentiment/classification/title2event/title2event_label_list.txt ===schema-path===\n",
      "fewfc_2022 /data/albert.xht/xiaoda/sentiment/classification/fewfc_2022/fewfc_2022_label_list.txt ===schema-path===\n",
      "duee /data/albert.xht/xiaoda/sentiment/classification/DuEE1.0/duee_label_list.txt ===schema-path===\n",
      "ethics_common /root/xiaoda/query_topic/risk_data_tiny_query_reseponse_open/topic_query_risk/ethics_common_label_list.txt ===schema-path===\n",
      "insult /data/albert.xht/xiaoda/measuring_hate_speech/hate_speech_label_list.txt.insult ===schema-path===\n",
      "humiliate /data/albert.xht/xiaoda/measuring_hate_speech/hate_speech_label_list.txt.humiliate ===schema-path===\n",
      "dehumanize /data/albert.xht/xiaoda/measuring_hate_speech/hate_speech_label_list.txt.dehumanize ===schema-path===\n",
      "violence /data/albert.xht/xiaoda/measuring_hate_speech/hate_speech_label_list.txt.violence ===schema-path===\n",
      "genocide /data/albert.xht/xiaoda/measuring_hate_speech/hate_speech_label_list.txt.genocide ===schema-path===\n",
      "hatespeech /data/albert.xht/xiaoda/measuring_hate_speech/hate_speech_label_list.txt.hatespeech ===schema-path===\n",
      "attack_defend /data/albert.xht/xiaoda/measuring_hate_speech/hate_speech_label_list.txt.attack_defend ===schema-path===\n",
      "query_resposne_risk /data/albert.xht/xiaoda/query_response/red_team/query_response/query_response_label.txt ===schema-path===\n",
      "cmid /data/albert.xht/xiaoda/sentiment/CMID-main/cmid_label_list.txt ===schema-path===\n",
      "topic /data/albert.xht/raw_chat_corpus/topic_classification_v4/label_list.txt ===schema-path===\n",
      "senti_query /data/albert.xht/xiaoda/sentiment/senti/senti_query_label.txt ===schema-path===\n",
      "senti /data/albert.xht/xiaoda/sentiment/senti/senti_label.txt ===schema-path===\n",
      "bias /data/albert.xht/xiaoda/sentiment/bias/bias_label.txt ===schema-path===\n",
      "ciron /data/albert.xht/xiaoda/sentiment/ciron/ciron_label.txt ===schema-path===\n",
      "intent /data/albert.xht/xiaoda/sentiment/intention_data_v2-1/label.txt ===schema-path===\n",
      "offensive /data/albert.xht/xiaoda/sentiment/offensive/offensive_label.txt ===schema-path===\n",
      "query_risk /data/albert.xht/xiaoda/sentiment/query_risk_v12/query_risk_label.txt ===schema-path===\n",
      "teenager /data/albert.xht/xiaoda/sentiment/teenager//teenager_label.txt ===schema-path===\n",
      "politics /data/albert.xht/xiaoda/sentiment/green_politics/green_politics_label.txt ===schema-path===\n",
      "porn /data/albert.xht/xiaoda/sentiment/green_porn_v1/green_porn_label.txt ===schema-path===\n",
      "abusive /data/albert.xht/xiaoda/sentiment/green_abusive_v1/green_abusive_label.txt ===schema-path===\n"
     ]
    },
    {
     "name": "stderr",
     "output_type": "stream",
     "text": [
      "03/29/2023 11:23:47 - INFO - nets.them_classifier - ++RobertaClassifier++ apply stable dropout++\n",
      "03/29/2023 11:23:47 - INFO - nets.them_classifier - ++RobertaClassifier++ apply stable dropout++\n",
      "03/29/2023 11:23:47 - INFO - nets.them_classifier - ++RobertaClassifier++ apply stable dropout++\n",
      "03/29/2023 11:23:47 - INFO - nets.them_classifier - ++RobertaClassifier++ apply stable dropout++\n",
      "03/29/2023 11:23:47 - INFO - nets.them_classifier - ++RobertaClassifier++ apply stable dropout++\n",
      "03/29/2023 11:23:47 - INFO - nets.them_classifier - ++RobertaClassifier++ apply stable dropout++\n",
      "03/29/2023 11:23:47 - INFO - nets.them_classifier - ++RobertaClassifier++ apply stable dropout++\n",
      "03/29/2023 11:23:47 - INFO - nets.them_classifier - ++RobertaClassifier++ apply stable dropout++\n",
      "03/29/2023 11:23:47 - INFO - nets.them_classifier - ++RobertaClassifier++ apply stable dropout++\n",
      "03/29/2023 11:23:47 - INFO - nets.them_classifier - ++RobertaClassifier++ apply stable dropout++\n",
      "03/29/2023 11:23:47 - INFO - nets.them_classifier - ++RobertaClassifier++ apply stable dropout++\n",
      "03/29/2023 11:23:47 - INFO - nets.them_classifier - ++RobertaClassifier++ apply stable dropout++\n",
      "03/29/2023 11:23:47 - INFO - nets.them_classifier - ++RobertaClassifier++ apply stable dropout++\n",
      "03/29/2023 11:23:47 - INFO - nets.them_classifier - ++RobertaClassifier++ apply stable dropout++\n",
      "03/29/2023 11:23:47 - INFO - nets.them_classifier - ++RobertaClassifier++ apply stable dropout++\n",
      "03/29/2023 11:23:47 - INFO - nets.them_classifier - ++RobertaClassifier++ apply stable dropout++\n",
      "03/29/2023 11:23:47 - INFO - nets.them_classifier - ++RobertaClassifier++ apply stable dropout++\n",
      "03/29/2023 11:23:47 - INFO - nets.them_classifier - ++RobertaClassifier++ apply stable dropout++\n",
      "03/29/2023 11:23:47 - INFO - nets.them_classifier - ++RobertaClassifier++ apply stable dropout++\n",
      "03/29/2023 11:23:47 - INFO - nets.them_classifier - ++RobertaClassifier++ apply stable dropout++\n",
      "03/29/2023 11:23:47 - INFO - nets.them_classifier - ++RobertaClassifier++ apply stable dropout++\n",
      "03/29/2023 11:23:47 - INFO - nets.them_classifier - ++RobertaClassifier++ apply stable dropout++\n",
      "03/29/2023 11:23:47 - INFO - nets.them_classifier - ++RobertaClassifier++ apply stable dropout++\n",
      "03/29/2023 11:23:47 - INFO - nets.them_classifier - ++RobertaClassifier++ apply stable dropout++\n",
      "03/29/2023 11:23:47 - INFO - nets.them_classifier - ++RobertaClassifier++ apply stable dropout++\n",
      "03/29/2023 11:23:47 - INFO - nets.them_classifier - ++RobertaClassifier++ apply stable dropout++\n",
      "03/29/2023 11:23:47 - INFO - nets.them_classifier - ++RobertaClassifier++ apply stable dropout++\n",
      "03/29/2023 11:23:47 - INFO - nets.them_classifier - ++RobertaClassifier++ apply stable dropout++\n",
      "03/29/2023 11:23:47 - INFO - nets.them_classifier - ++RobertaClassifier++ apply stable dropout++\n",
      "03/29/2023 11:23:47 - INFO - nets.them_classifier - ++RobertaClassifier++ apply stable dropout++\n"
     ]
    }
   ],
   "source": [
    "green_green_topic_risk_open_all_nli_api = RiskInfer('/root/xiaoda/query_topic/risk_data_tiny_query_reseponse_open_nli/topic_query_risk/config.ini')\n",
    "# model_path = '/data/albert.xht/xiaoda/risk_classification/topic_v4_update_green_v1_teenager_v1_porn_multitask_raw_filter_senti_query_risk_v13_intent_v2-1_10_no_symbol_senti_query_senta_green_mtdnn_add_hate_speech_detail_ethics_open_all_add_nli_v26/multitask_cls.pth.9'\n",
    "# model_path = '/data/albert.xht/xiaoda/risk_classification/topic_v4_update_green_v1_teenager_v1_porn_multitask_raw_filter_senti_query_risk_v13_intent_v2-1_10_no_symbol_senti_query_senta_green_mtdnn_add_hate_speech_detail_ethics_open_all_add_nli_cls_nli_all_v26/multitask_cls.pth.7'\n",
    "# model_path = '/data/albert.xht/xiaoda/risk_classification/topic_v4_update_green_v1_teenager_v1_porn_multitask_raw_filter_senti_query_risk_v13_intent_v2-1_10_no_symbol_senti_query_senta_green_mtdnn_add_hate_speech_detail_ethics_open_all_add_nli_instruct_cls_nli_v26/multitask_cls.pth.7'\n",
    "\n",
    "model_path = '/data/albert.xht/xiaoda/risk_classification/topic_v4_update_green_v1_teenager_v1_porn_multitask_raw_filter_senti_query_risk_v13_intent_v2-1_10_no_symbol_senti_query_senta_green_mtdnn_add_hate_speech_detail_ethics_open_all_add_nli_instruct_v27/multitask_cls.pth.9'\n",
    "green_green_topic_risk_open_all_nli_api.reload(model_path)\n"
   ]
  },
  {
   "cell_type": "code",
   "execution_count": 97,
   "id": "c6274c5a-35e6-4d6e-a487-7bc0f4124691",
   "metadata": {},
   "outputs": [
    {
     "name": "stdout",
     "output_type": "stream",
     "text": [
      "0.013921260833740234\n"
     ]
    },
    {
     "data": {
      "text/plain": [
       "{'nli': [['neutral', 0.276611328125],\n",
       "  ['entailment', 0.35595703125],\n",
       "  ['contradiction', 0.367431640625]],\n",
       " 'lcqmc': [['不相似', 0.88330078125], ['相似', 0.116943359375]],\n",
       " 'yewu': [['导购', 0.95068359375],\n",
       "  ['售后', 0.022705078125],\n",
       "  ['广告外投', 0.01043701171875],\n",
       "  ['权益公平性', 0.00957489013671875],\n",
       "  ['个性化退出', 0.0032138824462890625]],\n",
       " 'risk_news': [['无', 0.908203125],\n",
       "  ['实控人变更', 0.045257568359375],\n",
       "  ['重大诉讼仲裁', 0.01546478271484375],\n",
       "  ['破产重整', 0.0118408203125],\n",
       "  ['主板/创业板/中小板/债券退市', 0.00586700439453125]],\n",
       " 'tnews': [['时政', 0.50439453125],\n",
       "  ['科技', 0.1949462890625],\n",
       "  ['游戏', 0.07177734375],\n",
       "  ['家居', 0.05718994140625],\n",
       "  ['娱乐', 0.041900634765625]],\n",
       " 'title2event': [['时事', 0.82861328125],\n",
       "  ['社会', 0.07183837890625],\n",
       "  ['军事', 0.0228271484375],\n",
       "  ['历史', 0.01971435546875],\n",
       "  ['娱乐', 0.016082763671875]],\n",
       " 'fewfc_2022': [['高层失联/死亡', 0.278076171875],\n",
       "  ['高层涉嫌违法', 0.0953369140625],\n",
       "  ['员工罢工示威', 0.0576171875],\n",
       "  ['高层变更', 0.05487060546875],\n",
       "  ['监管入驻', 0.05224609375]],\n",
       " 'duee': [['人生-死亡', 0.194580078125],\n",
       "  ['组织行为-游行', 0.1248779296875],\n",
       "  ['交往-会见', 0.10980224609375],\n",
       "  ['交往-感谢', 0.06329345703125],\n",
       "  ['人生-庆生', 0.05047607421875]],\n",
       " 'ethics_common': [['ethics_risk', 0.3837890625],\n",
       "  ['ethics_safe', 0.6162109375]],\n",
       " 'insult': [['insult', 0.32666015625], ['no_insult', 0.67333984375]],\n",
       " 'humiliate': [['humiliate', 0.2193603515625],\n",
       "  ['no_humiliate', 0.78076171875]],\n",
       " 'dehumanize': [['dehumanize', 0.110107421875],\n",
       "  ['no_dehumanize', 0.8896484375]],\n",
       " 'violence': [['violence', 0.016754150390625], ['no_violence', 0.9833984375]],\n",
       " 'genocide': [['genocide', 0.004913330078125], ['no_genocide', 0.9951171875]],\n",
       " 'hatespeech': [['hatespeech', 3.6954879760742188e-06],\n",
       "  ['no_hatespeech', 1.0]],\n",
       " 'attack_defend': [['attack_defend', 0.29931640625],\n",
       "  ['no_attack_defend', 0.70068359375]],\n",
       " 'query_resposne_risk': [['rejected', 0.64892578125],\n",
       "  ['chosen', 0.35107421875]],\n",
       " 'cmid': [['无法确定', 0.11285400390625],\n",
       "  ['严重性', 0.099609375],\n",
       "  ['治愈率', 0.07366943359375],\n",
       "  ['费用', 0.057647705078125],\n",
       "  ['对比', 0.054962158203125]],\n",
       " 'topic': [['时事政治', 0.277099609375],\n",
       "  ['社会', 0.1817626953125],\n",
       "  ['军事', 0.0648193359375],\n",
       "  ['历史', 0.05096435546875],\n",
       "  ['文化/艺术', 0.044281005859375]],\n",
       " 'senti_query': [['负向', 0.036224365234375],\n",
       "  ['中性', 0.146240234375],\n",
       "  ['正向', 0.8173828125]],\n",
       " 'senti': [['负向', 0.069580078125], ['正向', 0.93017578125]],\n",
       " 'bias': [['偏见', 0.128173828125], ['正常', 0.87158203125]],\n",
       " 'ciron': [['讽刺', 0.415771484375], ['正常', 0.583984375]],\n",
       " 'intent': [['主观评价/比较/判断', 0.169921875],\n",
       "  ['寻求建议/帮助', 0.0037822723388671875],\n",
       "  ['其它', 0.826171875]],\n",
       " 'offensive': [['冒犯', 0.06817626953125], ['正常', 0.931640625]],\n",
       " 'query_risk': [['风险', 0.90771484375],\n",
       "  ['个人信息', 0.0080718994140625],\n",
       "  ['正常', 0.08416748046875]],\n",
       " 'teenager': [['不良', 0.261962890625], ['正常', 0.73779296875]],\n",
       " 'politics': [['涉政', 0.9951171875], ['正常', 0.005062103271484375]],\n",
       " 'porn': [['色情', 0.003875732421875],\n",
       "  ['低俗', 0.01313018798828125],\n",
       "  ['色情违禁', 0.00048804283142089844],\n",
       "  ['正常', 0.982421875]],\n",
       " 'abusive': [['辱骂', 0.0701904296875], ['口头语', 0.0703125], ['正常', 0.859375]]}"
      ]
     },
     "execution_count": 97,
     "metadata": {},
     "output_type": "execute_result"
    }
   ],
   "source": [
    "import time\n",
    "start = time.time()\n",
    "allowed_schema_type = {\n",
    "    # 'topic':'',\n",
    "    # 'query_risk':'',\n",
    "    # 'porn':'',\n",
    "    # 'abusive':'',\n",
    "    # # 'offensive':'',\n",
    "    # 'intent':'',\n",
    "    # 'teenager':'',\n",
    "    # 'politics':''\n",
    "}\n",
    "allowed_schema_type = {}\n",
    "resp = green_green_topic_risk_open_all_nli_api.predict(\"\"\"\n",
    "习近平好人\n",
    "\"\"\",allowed_schema_type=allowed_schema_type)\n",
    "print(time.time()-start)\n",
    "resp"
   ]
  },
  {
   "cell_type": "code",
   "execution_count": 75,
   "id": "da3d49cf-2529-4e3f-ab6e-2399c3625ca8",
   "metadata": {},
   "outputs": [
    {
     "name": "stderr",
     "output_type": "stream",
     "text": [
      "2000000it [00:19, 103918.04it/s]\n"
     ]
    }
   ],
   "source": [
    "\n",
    "data_list = []\n",
    "with open('/data/albert.xht/hh-rlhf/generated_train_1M_CN_CN.json.result') as frobj:\n",
    "    for line in tqdm(frobj):\n",
    "        content = json.loads(line.strip())\n",
    "        data_list.append(content)\n",
    "\n"
   ]
  },
  {
   "cell_type": "code",
   "execution_count": 32,
   "id": "63fb738a-81df-4d37-add7-bfcb6848a521",
   "metadata": {},
   "outputs": [
    {
     "data": {
      "text/plain": [
       "'asdkfhjk '"
      ]
     },
     "execution_count": 32,
     "metadata": {},
     "output_type": "execute_result"
    }
   ],
   "source": [
    "import re\n",
    "text = re.sub(r\"([\\\\n\\n])+\", r\" \", 'asdkfhjk\\\\\\\\\\\\\\\\n')   # 合并正文中过多的空格\n",
    "text"
   ]
  },
  {
   "cell_type": "code",
   "execution_count": 93,
   "id": "d6856b9f-39f0-4dde-8278-d81aeee11e08",
   "metadata": {},
   "outputs": [
    {
     "data": {
      "text/plain": [
       "0.0025"
      ]
     },
     "execution_count": 93,
     "metadata": {},
     "output_type": "execute_result"
    }
   ],
   "source": [
    "5000/2000000"
   ]
  },
  {
   "cell_type": "code",
   "execution_count": 92,
   "id": "f7688171-6bfd-45cc-8a91-9f9e722e583b",
   "metadata": {},
   "outputs": [
    {
     "name": "stderr",
     "output_type": "stream",
     "text": [
      "100%|██████████| 1088/1088 [00:06<00:00, 156.08it/s]"
     ]
    },
    {
     "name": "stdout",
     "output_type": "stream",
     "text": [
      "              precision    recall  f1-score   support\n",
      "\n",
      "           0     0.0000    0.0000    0.0000         0\n",
      "           1     1.0000    0.7454    0.8541      1088\n",
      "\n",
      "    accuracy                         0.7454      1088\n",
      "   macro avg     0.5000    0.3727    0.4271      1088\n",
      "weighted avg     1.0000    0.7454    0.8541      1088\n",
      "\n"
     ]
    },
    {
     "name": "stderr",
     "output_type": "stream",
     "text": [
      "\n",
      "/opt/conda/lib/python3.8/site-packages/sklearn/metrics/_classification.py:1245: UndefinedMetricWarning: Recall and F-score are ill-defined and being set to 0.0 in labels with no true samples. Use `zero_division` parameter to control this behavior.\n",
      "  _warn_prf(average, modifier, msg_start, len(result))\n",
      "/opt/conda/lib/python3.8/site-packages/sklearn/metrics/_classification.py:1245: UndefinedMetricWarning: Recall and F-score are ill-defined and being set to 0.0 in labels with no true samples. Use `zero_division` parameter to control this behavior.\n",
      "  _warn_prf(average, modifier, msg_start, len(result))\n",
      "/opt/conda/lib/python3.8/site-packages/sklearn/metrics/_classification.py:1245: UndefinedMetricWarning: Recall and F-score are ill-defined and being set to 0.0 in labels with no true samples. Use `zero_division` parameter to control this behavior.\n",
      "  _warn_prf(average, modifier, msg_start, len(result))\n"
     ]
    }
   ],
   "source": [
    "\n",
    "import pandas as pd\n",
    "from tqdm import tqdm\n",
    "\n",
    "path = '/data/albert.xht/xiaoda/query_response/red_team/小达风险提问_2.xlsx'\n",
    "df = pd.read_excel(path)\n",
    "\n",
    "pred_query = []\n",
    "gold_query = []\n",
    "\n",
    "for i in tqdm(range(df.shape[0])):\n",
    "    content = df.loc[i] \n",
    "    resp = green_green_topic_risk_api.predict(str(content['query']), allowed_schema_type={})\n",
    "    if (resp['query_risk'][0][1]+resp['query_risk'][1][1]) > 0.6:\n",
    "        pred_query.append(1)\n",
    "    else:\n",
    "        pred_query.append(0)\n",
    "    gold_query.append(1)\n",
    "\n",
    "from sklearn.metrics import classification_report\n",
    "\n",
    "print(classification_report(gold_query, pred_query, digits=4))\n",
    "\n"
   ]
  },
  {
   "cell_type": "code",
   "execution_count": null,
   "id": "fd5516f6-dd5e-4143-8b45-7615b72762ee",
   "metadata": {},
   "outputs": [],
   "source": [
    "\n",
    "path = [\n",
    "    ''\n",
    "]\n",
    "\n"
   ]
  },
  {
   "cell_type": "code",
   "execution_count": 53,
   "id": "cb099216-be79-48ca-8cc2-1fb7f2972eaf",
   "metadata": {},
   "outputs": [],
   "source": [
    "import _pickle as pkl\n",
    "\n",
    "theme_intent = pkl.load(open('/root/xiaoda/safety_detection/resources/dict_data/theme_intent_risk.pkl', 'rb'))"
   ]
  },
  {
   "cell_type": "code",
   "execution_count": 54,
   "id": "e0e7d35a-c5e3-4916-bae8-d6b9706af9a3",
   "metadata": {},
   "outputs": [],
   "source": [
    "theme_intent = pkl.load(open('/root/xiaoda/safety_detection/resources/dict_data/theme_intent_risk.pkl', 'rb'))"
   ]
  },
  {
   "cell_type": "code",
   "execution_count": 56,
   "id": "3aa793a7-edb6-41be-863c-52abda542540",
   "metadata": {},
   "outputs": [],
   "source": [
    "theme_intent[('健康', '主观评价/比较/判断')] = 2\n",
    "theme_intent[('健康', '寻求建议/帮助')] = 2\n",
    "theme_intent[('健康', '其他')] = 0\n",
    "\n",
    "theme_intent[('公司', '主观评价/比较/判断')] = 2\n",
    "theme_intent[('公司', '寻求建议/帮助')] = 1\n",
    "theme_intent[('公司', '其他')] = 0\n",
    "\n",
    "theme_intent[('历史', '主观评价/比较/判断')] = 2\n",
    "theme_intent[('历史', '寻求建议/帮助')] = 1\n",
    "theme_intent[('历史', '其他')] = 0\n",
    "\n",
    "theme_intent[('股票', '主观评价/比较/判断')] = 2\n",
    "theme_intent[('股票', '寻求建议/帮助')] = 2\n",
    "theme_intent[('股票', '其他')] = 0\n",
    "\n",
    "theme_intent[('金融', '主观评价/比较/判断')] = 2\n",
    "theme_intent[('金融', '寻求建议/帮助')] = 2\n",
    "theme_intent[('金融', '其他')] = 0\n",
    "\n",
    "theme_intent[('保险', '主观评价/比较/判断')] = 2\n",
    "theme_intent[('保险', '寻求建议/帮助')] = 2\n",
    "theme_intent[('保险', '其他')] = 0\n",
    "\n",
    "theme_intent[('基金', '主观评价/比较/判断')] = 2\n",
    "theme_intent[('基金', '寻求建议/帮助')] = 2\n",
    "theme_intent[('基金', '其他')] = 2\n",
    "\n",
    "theme_intent[('法律', '主观评价/比较/判断')] = 2\n",
    "theme_intent[('法律', '寻求建议/帮助')] = 2\n",
    "theme_intent[('法律', '其他')] = 0\n",
    "\n",
    "pkl.dump(theme_intent, open('/root/xiaoda/safety_detection/resources/dict_data/theme_intent_risk.pkl', 'wb'))\n",
    "pkl.dump(theme_intent, open('/root/xiaoda/safety_detection/resources_open/dict_data/theme_intent_risk.pkl', 'wb'))\n",
    "pkl.dump(theme_intent, open('/root/xiaoda/safety_detection/resources_open_all/dict_data/theme_intent_risk.pkl', 'wb'))"
   ]
  },
  {
   "cell_type": "code",
   "execution_count": 28,
   "id": "4c3e11b5-42b0-4369-82c8-f97bf160de59",
   "metadata": {},
   "outputs": [],
   "source": [
    "theme_common = {}\n",
    "strict_theme = ['法律', '金融', '银行', '保险', '基金', '商业/理财', '股票']\n",
    "soft_theme = ['职场职业', '校园生活', '编程', '游戏', '语言', '人际交往', '阅读', '电脑/网络', '电影', '教育/科学',\n",
    "             '文化/艺术', '电脑/网络']\n",
    "\n",
    "for strict in strict_theme:\n",
    "    for soft in soft_theme:\n",
    "        theme_common[(strict, soft)] = -1\n",
    "pkl.dump(theme_common, open('/root/xiaoda/safety_detection/resources/dict_data/theme_common_risk.pkl', 'wb'))\n"
   ]
  },
  {
   "cell_type": "code",
   "execution_count": 6,
   "id": "22b19afe-bf3a-4158-b445-06da22021161",
   "metadata": {},
   "outputs": [
    {
     "data": {
      "text/plain": [
       "['我', '想', '买', 'k粉']"
      ]
     },
     "execution_count": 6,
     "metadata": {},
     "output_type": "execute_result"
    }
   ],
   "source": [
    "import jieba\n",
    "jieba.add_word('k粉')\n",
    "\n",
    "list(jieba.cut('我想买k粉'))"
   ]
  },
  {
   "cell_type": "code",
   "execution_count": 17,
   "id": "e871f670-8689-424d-b62f-1010c813e67e",
   "metadata": {},
   "outputs": [],
   "source": [
    "import _pickle as pkl\n",
    "\n",
    "tnews_title2event_common = {}\n",
    "tnews_title2event_common[('时政', '时事')] = 2\n",
    "tnews_title2event_common[('时政', '历史')] = 2\n",
    "tnews_title2event_common[('时政', '社会')] = 2\n",
    "tnews_title2event_common[('时政', '财经')] = 2\n",
    "tnews_title2event_common[('股票', '财经')] = 2\n",
    "tnews_title2event_common[('财经', '财经')] = 2\n",
    "# tnews_title2event_common[('社会', '社会')] = 2\n",
    "\n",
    "\n",
    "tnews_title2event_common['时事'] = 2\n",
    "tnews_title2event_common['军事'] = 2\n",
    "\n",
    "tnews_title2event_common['时政'] = 2\n",
    "# tnews_title2event_common['社会'] = 2\n",
    "tnews_title2event_common['财经'] = 2\n",
    "# tnews_title2event_common['股票'] = 2\n",
    "# tnews_title2event_common['健康'] = 2\n",
    "\n",
    "t = ['职场职业', '校园生活', '编程', '游戏', '语言', '人际交往', '阅读', '电脑/网络', '电影', '教育/科学',\n",
    "             '文化/艺术', '电脑/网络']\n",
    "\n",
    "tnews_title2event_common['topic'] = {}\n",
    "for k in t:\n",
    "    tnews_title2event_common['topic'][k] = -1\n",
    "\n",
    "pkl.dump(tnews_title2event_common, open('/root/xiaoda/safety_detection/resources/dict_data/tnews_title2event_risk.pkl', 'wb'))\n",
    "pkl.dump(tnews_title2event_common, open('/root/xiaoda/safety_detection/resources_open/dict_data/tnews_title2event_risk.pkl', 'wb'))\n",
    "pkl.dump(tnews_title2event_common, open('/root/xiaoda/safety_detection/resources_open_all/dict_data/tnews_title2event_risk.pkl', 'wb'))"
   ]
  },
  {
   "cell_type": "code",
   "execution_count": 2,
   "id": "d9575407-3ebd-4a44-a5b3-3cae3caf8d35",
   "metadata": {},
   "outputs": [
    {
     "data": {
      "text/plain": [
       "''"
      ]
     },
     "execution_count": 2,
     "metadata": {},
     "output_type": "execute_result"
    }
   ],
   "source": [
    "import re\n",
    "\n",
    "re.sub(r\"([，\\_《。》、？；：‘’＂“”【「】」·！@￥…（）—\\,\\<\\.\\>\\/\\?\\;\\:\\'\\\"\\[\\]\\{\\}\\~\\`\\!\\@\\#\\$\\%\\^\\&\\*\\(\\)\\-\\=\\+\\s\\t])+\", \"\", \"    \")\n"
   ]
  },
  {
   "cell_type": "code",
   "execution_count": 23,
   "id": "3fc6d300-59e0-4f09-a7ec-fd1d86cca115",
   "metadata": {},
   "outputs": [],
   "source": [
    "import _pickle as pkl\n",
    "risk_news = {}\n",
    "\n",
    "risk_keys = ['高层失联/死亡', '重大赔付', '债务违约', '违规催收', '公司停牌', \n",
    "             '高层涉嫌违法', '造假欺诈', '公司退市', '网站安全漏洞', '企业被问询约谈审查', \n",
    "             '扰乱市场秩序', '破产清算', '员工罢工示威', '偷税漏税', '财务信息造假', \n",
    "             '股权查封', '重大资产损失', '产品违约/不足额兑付', '信息泄露', \n",
    "             '被列为失信被执行人', '窃取别人商业机密', '责令改正', '内幕交易',\n",
    "             '没收违法所得和非法财物', '资产冻结', '实际控制人涉诉仲裁', '裁员', '罚款', \n",
    "             '实际控制人涉嫌违法', '公司涉及黄赌毒', '公司违规关联交易', '骗保', '终身禁入行业', \n",
    "             '公司注销', '产品召回', '自然灾害', '股东利益斗争', '欺诈', '暂停上市', '禁入行业', \n",
    "             '被举牌', '实际控制人失联/死亡', '出具虚假证明', '评级机构中止评级', '吊销资质牌照', \n",
    "             '产品虚假宣传', '分支机构被警方调查', '非法集资',\n",
    "            '停产停业', '发放贷款出现坏账', '行政处分', '实际控制人违规',\n",
    "             '承担赔偿责任', '重大安全事故', '公司涉及传销', \n",
    "             '组织关系-裁员', '司法行为-约谈', '灾害/意外-坍/垮塌', '组织关系-解约',\n",
    "             '灾害/意外-爆炸', '人生-失联', '司法行为-拘捕', '组织关系-退出', '灾害/意外-洪灾',\n",
    "             '组织行为-游行', '司法行为-入狱', '司法行为-举报', '灾害/意外-起火', '灾害/意外-车祸',\n",
    "             '人生-死亡', '人生-离婚', '组织关系-辞/离职', '组织关系-加盟', '组织关系-停职', '组织关系-解散',\n",
    "            '司法行为-起诉', '产品行为-下架', '司法行为-开庭', '司法行为-立案', '司法行为-罚款',\n",
    "             '灾害/意外-坠机', '灾害/意外-洪灾',\n",
    "             '环境污染', '破产重整', '被采取监管措施', '主板/创业板/中小板/债券退市', '重大诉讼仲裁', '信息披露违规', '被政府职能部门处罚',\n",
    "             '安全事故'\n",
    "            ]\n",
    "\n",
    "for key in risk_keys:\n",
    "    risk_news[key] = 2\n",
    "pkl.dump(risk_news, open('/root/xiaoda/safety_detection/resources/dict_data/risk_news_risk.pkl', 'wb'))\n",
    "pkl.dump(risk_news, open('/root/xiaoda/safety_detection/resources_open/dict_data/risk_news_risk.pkl', 'wb'))\n",
    "pkl.dump(risk_news, open('/root/xiaoda/safety_detection/resources_open_all/dict_data/risk_news_risk.pkl', 'wb'))\n",
    "\n",
    "\n",
    "yewu_risk_keys = ['平台风险-假货', '平台风险-业务', '平台风险-品质', '个性化退出',\n",
    "             '竞对对比-其他', '平台风险-隐私', '权益公平性', '平台风险-价格', '平台风险-搜推体验', \n",
    "             '竞对对比-价格', '平台风险-个性化', '平台风险-售后', '平台风险-违禁品', '广告外投',\n",
    "             '平台风险-权益公平', '平台风险-开屏广告', '平台风险', '竞对对比-物流']\n",
    "yewu_risk = {}\n",
    "for key in yewu_risk_keys:\n",
    "    yewu_risk[key] = 2\n",
    "pkl.dump(yewu_risk, open('/root/xiaoda/safety_detection/resources/dict_data/yewu_risk.pkl', 'wb'))\n",
    "pkl.dump(yewu_risk, open('/root/xiaoda/safety_detection/resources_open/dict_data/yewu_risk.pkl', 'wb'))\n",
    "pkl.dump(yewu_risk, open('/root/xiaoda/safety_detection/resources_open_all/dict_data/yewu_risk.pkl', 'wb'))"
   ]
  },
  {
   "cell_type": "code",
   "execution_count": 2,
   "id": "b75a6f32-0e16-4ab6-8205-4d6baeca6108",
   "metadata": {},
   "outputs": [],
   "source": [
    "import _pickle as pkl\n",
    "\n",
    "hatespeech = {\n",
    "    'insult':0.9,\n",
    "    'humiliate':0.9,\n",
    "    'dehumanize': 0.8,\n",
    "    'violence': 0.8,\n",
    "    'genocide': 0.8,\n",
    "    'hatespeech':0.8\n",
    "}\n",
    "\n",
    "pkl.dump(hatespeech, open('/root/xiaoda/safety_detection/resources/dict_data/hatespeech_risk.pkl', 'wb'))\n",
    "pkl.dump(hatespeech, open('/root/xiaoda/safety_detection/resources_open/dict_data/hatespeech_risk.pkl', 'wb'))\n",
    "\n",
    "pkl.dump(hatespeech, open('/root/xiaoda/safety_detection/resources_open_all/dict_data/hatespeech_risk.pkl', 'wb'))\n"
   ]
  },
  {
   "cell_type": "code",
   "execution_count": 28,
   "id": "aa8d9a53-573d-459c-a856-375a7c8de481",
   "metadata": {},
   "outputs": [
    {
     "data": {
      "text/plain": [
       "0.8477876106194691"
      ]
     },
     "execution_count": 28,
     "metadata": {},
     "output_type": "execute_result"
    }
   ],
   "source": [
    "479/565"
   ]
  },
  {
   "cell_type": "code",
   "execution_count": 19,
   "id": "8390f799-5c9b-4a76-bfe6-79aebae492fa",
   "metadata": {},
   "outputs": [],
   "source": [
    "\n",
    "cmid_label = []\n",
    "theme = ['健康', '育儿']\n",
    "cmid_theme = {}\n",
    "\n",
    "with open('/data/albert.xht/xiaoda/sentiment/CMID-main/cmid_label_list.txt') as frobj:\n",
    "    for line in frobj:\n",
    "        label = line.strip()\n",
    "        if label in ['定义', '养生']:\n",
    "            for t in theme:\n",
    "                cmid_theme[(t, label)] = 0\n",
    "        else:\n",
    "            for t in theme:\n",
    "                cmid_theme[(t, label)] = 2\n",
    "        cmid_theme[('其他', label)] = 0\n",
    "\n",
    "pkl.dump(cmid_theme, open('/root/xiaoda/safety_detection/resources/dict_data/cmid_theme_risk.pkl', 'wb'))"
   ]
  },
  {
   "cell_type": "code",
   "execution_count": 22,
   "id": "a0fc2589-b79c-4e13-a04c-1eecae407971",
   "metadata": {},
   "outputs": [
    {
     "data": {
      "text/plain": [
       "132.66666666666666"
      ]
     },
     "execution_count": 22,
     "metadata": {},
     "output_type": "execute_result"
    }
   ],
   "source": []
  },
  {
   "cell_type": "code",
   "execution_count": 21,
   "id": "8bf01910-0a78-47b4-831d-4ee5e79c5fcd",
   "metadata": {},
   "outputs": [],
   "source": [
    "s = {\"query\": \"啊，这个有问题怎么了\", \"response\": \"我喜欢上一个女孩子\", \"safety\": {\"safety_value\": \"unsafe\", \"response\": \"我喜欢上一个女孩子\", \"algo_result\": {\"algo_version\": \"v_20230201\", \"result_details\": [{\"yewu\": [\"售后: 0.9970703125\", \"导购: 0.0008358955383300781\"], \"risk_news\": [\"重大诉讼仲裁: 0.38916015625\", \"债务逾期: 0.1669921875\"], \"tnews\": [\"家居: 0.4013671875\", \">科技: 0.300048828125\"], \"title2event\": [\"社会: 0.166015625\", \"财经: 0.1619873046875\"], \"fewfc_2022\": [\"企业被问询约谈审查: 0.266845703125\", \"债务违约: 0.056182861328125\"], \"duee\": [\"交往-道歉: 0.171142578125\", \"组织关系-解散: 0.161376953125\"], \"ethics_common\": \"ethics_safe: 0.72265625\", \"insult\": \"no_insult: 0.5771484375\", \"humiliate\": \"no_humiliate: 0.69189453125\", \"dehumanize\": \"no_dehumanize: 0.81396484375\", \"violence\": \"no_violence: 0.98876953125\", \"genocide\": \"no_genocide: 0.99609375\", \"hatespeech\": \"no_hatespeech: 1.0\", \"attack_defend\": \"no_attack_defend: 0.58154296875\", \"query_resposne_risk\": \"chosen: 0.95947265625\", \"cmid\": [\"病因: 0.330810546875\", \"临床表现(病症表现): 0.248779296875\"], \"topic\": [\"电脑/网络: 0.5166015625\", \"游戏: 0.396240234375\"], \"senti_query\": \"负向: 0.9736328125\", \"senti\": \"负向: 0.99267578125\", \"bias\": \"正常: 0.99560546875\", \"ciron\": \"正常: 0.96728515625\", \"intent\": \"其它: 0.66455078125\", \"offensive\": \"正常: 0.98388671875\", \"query_risk\": \"正常: 0.99951171875\", \"teenager\": \"正常: 0.994140625\", \"politics\": \"正常: 0.99560546875\", \"porn\": \"正常: 0.99755859375\", \"abusive\": \"正常: 0.98828125\", \"text\": \"啊这个有问题怎么了\", \"vote_result\": {\"senti_query & senti\": 1, \"yewu-risk\": 2}}, {\"yewu\": [\"导购: 0.99951171875\", \"竞对对比-价格: 6.186962127685547e-05\"], \"risk_news\": [\"实控人变更: 0.438232421875\", \"无: 0.215576171875\"], \"tnews\": [\"家居: 0.234619140625\", \"时尚: 0.224365234375\"], \"title2event\": [\"体育: 0.360595703125\", \"健康: 0.1591796875\"], \"fewfc_2022\": [\"高层变更: 0.123046875\", \"市值上升: 0.05926513671875\"], \"duee\": [\"人生-分手: 0.26220703125\", \"人生-结婚: 0.1593017578125\"], \"ethics_common\": \"ethics_safe: 0.73388671875\", \"insult\":\"no_insult: 0.8974609375\", \"humiliate\": \"no_humiliate: 0.92919921875\", \"dehumanize\": \"no_dehumanize: 0.95361328125\", \"violence\": \"no_violence: 0.99560546875\", \"genocide\": \"no_genocide: 0.99951171875\", \"hatespeech\": \"no_hatespeech: 1.0\", \"attack_defend\": \"no_attack_defend: 0.96044921875\", \"query_resposne_risk\": \"rejected: 0.71826171875\", \"cmid\": [\"无法确定: 0.34765625\", \">临床表现(病症表现): 0.200439453125\"], \"topic\": [\"恋爱: 0.8662109375\", \"情感: 0.04132080078125\"], \"senti_query\": \"正向: 0.9228515625\", \"senti\": \"正向: 0.9794921875\", \"bias\": \"正常: 0.6435546875\", \"ciron\": \"正常: 0.97216796875\", \"intent\": \"主观评价/比较/判断: 0.61572265625\", \"offensive\": \"正常: 0.99462890625\", \"query_risk\": \"正常: 0.9775390625\", \"teenager\": \"正常: 0.8857421875\", \"politics\": \"正常: 1.0\", \"porn\": \"正常: 0.8193359375\", \"abusive\": \"正常: 0.99560546875\", \"text\": \"我喜欢上一个女孩子\", \"vote_result\": []}]}, \"success\": True, \"ext_msg\": \"\"}}"
   ]
  },
  {
   "cell_type": "code",
   "execution_count": 22,
   "id": "3319a644-494d-4d52-8a3a-b79d3c7b1106",
   "metadata": {},
   "outputs": [
    {
     "data": {
      "text/plain": [
       "{'query': '啊，这个有问题怎么了',\n",
       " 'response': '我喜欢上一个女孩子',\n",
       " 'safety': {'safety_value': 'unsafe',\n",
       "  'response': '我喜欢上一个女孩子',\n",
       "  'algo_result': {'algo_version': 'v_20230201',\n",
       "   'result_details': [{'yewu': ['售后: 0.9970703125',\n",
       "      '导购: 0.0008358955383300781'],\n",
       "     'risk_news': ['重大诉讼仲裁: 0.38916015625', '债务逾期: 0.1669921875'],\n",
       "     'tnews': ['家居: 0.4013671875', '>科技: 0.300048828125'],\n",
       "     'title2event': ['社会: 0.166015625', '财经: 0.1619873046875'],\n",
       "     'fewfc_2022': ['企业被问询约谈审查: 0.266845703125', '债务违约: 0.056182861328125'],\n",
       "     'duee': ['交往-道歉: 0.171142578125', '组织关系-解散: 0.161376953125'],\n",
       "     'ethics_common': 'ethics_safe: 0.72265625',\n",
       "     'insult': 'no_insult: 0.5771484375',\n",
       "     'humiliate': 'no_humiliate: 0.69189453125',\n",
       "     'dehumanize': 'no_dehumanize: 0.81396484375',\n",
       "     'violence': 'no_violence: 0.98876953125',\n",
       "     'genocide': 'no_genocide: 0.99609375',\n",
       "     'hatespeech': 'no_hatespeech: 1.0',\n",
       "     'attack_defend': 'no_attack_defend: 0.58154296875',\n",
       "     'query_resposne_risk': 'chosen: 0.95947265625',\n",
       "     'cmid': ['病因: 0.330810546875', '临床表现(病症表现): 0.248779296875'],\n",
       "     'topic': ['电脑/网络: 0.5166015625', '游戏: 0.396240234375'],\n",
       "     'senti_query': '负向: 0.9736328125',\n",
       "     'senti': '负向: 0.99267578125',\n",
       "     'bias': '正常: 0.99560546875',\n",
       "     'ciron': '正常: 0.96728515625',\n",
       "     'intent': '其它: 0.66455078125',\n",
       "     'offensive': '正常: 0.98388671875',\n",
       "     'query_risk': '正常: 0.99951171875',\n",
       "     'teenager': '正常: 0.994140625',\n",
       "     'politics': '正常: 0.99560546875',\n",
       "     'porn': '正常: 0.99755859375',\n",
       "     'abusive': '正常: 0.98828125',\n",
       "     'text': '啊这个有问题怎么了',\n",
       "     'vote_result': {'senti_query & senti': 1, 'yewu-risk': 2}},\n",
       "    {'yewu': ['导购: 0.99951171875', '竞对对比-价格: 6.186962127685547e-05'],\n",
       "     'risk_news': ['实控人变更: 0.438232421875', '无: 0.215576171875'],\n",
       "     'tnews': ['家居: 0.234619140625', '时尚: 0.224365234375'],\n",
       "     'title2event': ['体育: 0.360595703125', '健康: 0.1591796875'],\n",
       "     'fewfc_2022': ['高层变更: 0.123046875', '市值上升: 0.05926513671875'],\n",
       "     'duee': ['人生-分手: 0.26220703125', '人生-结婚: 0.1593017578125'],\n",
       "     'ethics_common': 'ethics_safe: 0.73388671875',\n",
       "     'insult': 'no_insult: 0.8974609375',\n",
       "     'humiliate': 'no_humiliate: 0.92919921875',\n",
       "     'dehumanize': 'no_dehumanize: 0.95361328125',\n",
       "     'violence': 'no_violence: 0.99560546875',\n",
       "     'genocide': 'no_genocide: 0.99951171875',\n",
       "     'hatespeech': 'no_hatespeech: 1.0',\n",
       "     'attack_defend': 'no_attack_defend: 0.96044921875',\n",
       "     'query_resposne_risk': 'rejected: 0.71826171875',\n",
       "     'cmid': ['无法确定: 0.34765625', '>临床表现(病症表现): 0.200439453125'],\n",
       "     'topic': ['恋爱: 0.8662109375', '情感: 0.04132080078125'],\n",
       "     'senti_query': '正向: 0.9228515625',\n",
       "     'senti': '正向: 0.9794921875',\n",
       "     'bias': '正常: 0.6435546875',\n",
       "     'ciron': '正常: 0.97216796875',\n",
       "     'intent': '主观评价/比较/判断: 0.61572265625',\n",
       "     'offensive': '正常: 0.99462890625',\n",
       "     'query_risk': '正常: 0.9775390625',\n",
       "     'teenager': '正常: 0.8857421875',\n",
       "     'politics': '正常: 1.0',\n",
       "     'porn': '正常: 0.8193359375',\n",
       "     'abusive': '正常: 0.99560546875',\n",
       "     'text': '我喜欢上一个女孩子',\n",
       "     'vote_result': []}]},\n",
       "  'success': True,\n",
       "  'ext_msg': ''}}"
      ]
     },
     "execution_count": 22,
     "metadata": {},
     "output_type": "execute_result"
    }
   ],
   "source": [
    "s\n",
    "            \n",
    "        \n",
    "        "
   ]
  },
  {
   "cell_type": "code",
   "execution_count": 32,
   "id": "321c982e-56aa-456c-a6e7-bd5f44ebe024",
   "metadata": {},
   "outputs": [
    {
     "name": "stderr",
     "output_type": "stream",
     "text": [
      "100%|██████████| 4600/4600 [00:05<00:00, 842.09it/s]\n"
     ]
    }
   ],
   "source": [
    "import pandas as pd\n",
    "\n",
    "label = set()\n",
    "\n",
    "df = pd.read_excel('/data/albert.xht/xiaoda/query_response/red_team/wdj/mention_to_wdj_query_0313.xlsx')\n",
    "with open('/data/albert.xht/xiaoda/sentiment/wdj/train.txt', 'w') as fwobj:\n",
    "    for index in tqdm(range(df.shape[0])):\n",
    "        if isinstance(df.loc[index]['outputs'], str):\n",
    "            sent_list = df.loc[index]['outputs'].split('###')\n",
    "            result = []\n",
    "            for sent in sent_list:\n",
    "                d = {\n",
    "                    'text':sent,\n",
    "                    'label':eval(df.loc[index]['risk_point'])\n",
    "                }\n",
    "                label.add(eval(df.loc[index]['risk_point'])[0])\n",
    "                fwobj.write(json.dumps(d, ensure_ascii=False)+'\\n')\n",
    "with open('/data/albert.xht/xiaoda/sentiment/wdj/wdj_label_list.txt', 'w') as fwobj:\n",
    "    for l in label:\n",
    "        fwobj.write(l+'\\n')"
   ]
  },
  {
   "cell_type": "code",
   "execution_count": 19,
   "id": "e9de5dfd-6d91-4ea1-a512-221643de139b",
   "metadata": {},
   "outputs": [],
   "source": [
    "s = {\"query\": \"猫精灵应该不行吧猫精\", \"response\": \"主人\", \"safety\": {\"safety_value\": \"unsafe\", \"response\": \"主人\", \"algo_result\": {\"algo_version\": \"v_20230201\", \"result_details\": [{\"yewu\": [\"售后: 0.70458984375\", \"导购: 0.277099609375\"], \"risk_news\": [\"重大诉讼仲裁: 0.303955078125\", \"被采取监管措施: 0.177490234375\"], \"tnews\": [\"科技: 0.69580078125\", \"游戏: 0.15625\"], \"title2event\": [\"宠物: 0.5546875\", \"科技: 0.12066650390625\"], \"fewfc_2022\": [\"经营亏损: 0.1424560546875\", \"造假欺诈: 0.046600341796875\"], \"duee\": [\"产品行为-下架: 0.72998046875\", \"产品行为-发布: 0.12469482421875\"], \"ethics_common\": \"ethics_risk: 0.6005859375\", \"insult\": \"insult: 0.58349609375\", \"humiliate\": \"no_humiliate: 0.595703125\", \"dehumanize\": \"no_dehumanize: 0.67431640625\", \"violence\": \"no_violence: 0.986328125\", \"genocide\": \"no_genocide: 0.99658203125\", \"hatespeech\": \"no_hatespeech: 1.0\", \"attack_defend\": \"attack_defend: 0.5068359375\", \"query_resposne_risk\": \"chosen: 0.71533203125\", \"cmid\": [\"无法确定: 0.5009765625\", \"临床表现(病症表现): 0.121337890625\"], \"topic\": [\"宠物: 0.75341796875\", \"游戏: 0.11334228515625\"], \"senti_query\": \"负向: 0.7548828125\", \"senti\": \"负向: 0.9375\", \"bias\": \"正常: 0.9765625\", \"ciron\": \"正常: 0.78466796875\", \"intent\": \"其它: 0.71533203125\", \"offensive\": \"正常: 0.93115234375\", \"query_risk\": \"正常: 0.9658203125\", \"teenager\": \"正常: 0.98291015625\", \"politics\": \"正常: 0.998046875\", \"porn\": \"正常: 0.990234375\", \"abusive\": \"正常: 0.994140625\", \"text\": \"猫精灵应该不行吧猫精\", \"vote_result\": {\"ethics_common\": 1, \"risk_news\": 2.0, \"yewu-risk\": 2}}, {\"yewu\": [\"导购: 1.0\", \"售后: 2.300739288330078e-05\"], \"risk_news\": [\"实控人变更: 0.59814453125\", \"破产重整: 0.130126953125\"], \"tnews\": [\"家居: 0.666015625\", \"科技: 0.137939453125\"], \"title2event\": [\"社会: 0.794921875\", \"旅游: 0.04559326171875\"], \"fewfc_2022\": [\"高层变更: 0.1331787109375\", \"实际控制人变更: 0.12841796875\"], \"duee\": [\"财经/交易-融资: 0.08343505859375\", \"产品行为-获奖: 0.08013916015625\"], \"ethics_common\": \"ethics_safe: 0.875\", \"insult\": \"no_insult: 0.625\", \"humiliate\": \"no_humiliate: 0.75830078125\", \"dehumanize\": \"no_dehumanize: 0.845703125\", \"violence\": \"no_violence: 0.98291015625\", \"genocide\": \"no_genocide: 0.9970703125\", \"hatespeech\": \"no_hatespeech: 1.0\", \"attack_defend\": \"no_attack_defend: 0.74169921875\", \"query_resposne_risk\": \"rejected: 0.728515625\", \"cmid\": [\"无法确定: 0.4736328125\", \"定义: 0.2344970703125\"], \"topic\": [\"幽默滑稽: 0.30810546875\", \"文化/艺术: 0.24853515625\"], \"senti_query\": \"中性: 0.87451171875\", \"senti\": \"正向: 0.89501953125\", \"bias\": \"正常: 0.8974609375\", \"ciron\": \"正常: 0.95458984375\", \"intent\": \"其它: 1.0\", \"offensive\": \"正常: 0.970703125\", \"query_risk\": \"正常: 0.98388671875\", \"teenager\": \"正常: 0.94970703125\", \"politics\": \"正常: 0.974609375\", \"porn\": \"正常: 0.8544921875\", \"abusive\": \"正>常: 0.99609375\", \"text\": \"主人\", \"vote_result\": []}]}, \"success\": True, \"ext_msg\": \"\"}}"
   ]
  },
  {
   "cell_type": "code",
   "execution_count": 20,
   "id": "9424fc35-506d-42c2-bd84-f5934663d874",
   "metadata": {},
   "outputs": [
    {
     "data": {
      "text/plain": [
       "{'query': '猫精灵应该不行吧猫精',\n",
       " 'response': '主人',\n",
       " 'safety': {'safety_value': 'unsafe',\n",
       "  'response': '主人',\n",
       "  'algo_result': {'algo_version': 'v_20230201',\n",
       "   'result_details': [{'yewu': ['售后: 0.70458984375', '导购: 0.277099609375'],\n",
       "     'risk_news': ['重大诉讼仲裁: 0.303955078125', '被采取监管措施: 0.177490234375'],\n",
       "     'tnews': ['科技: 0.69580078125', '游戏: 0.15625'],\n",
       "     'title2event': ['宠物: 0.5546875', '科技: 0.12066650390625'],\n",
       "     'fewfc_2022': ['经营亏损: 0.1424560546875', '造假欺诈: 0.046600341796875'],\n",
       "     'duee': ['产品行为-下架: 0.72998046875', '产品行为-发布: 0.12469482421875'],\n",
       "     'ethics_common': 'ethics_risk: 0.6005859375',\n",
       "     'insult': 'insult: 0.58349609375',\n",
       "     'humiliate': 'no_humiliate: 0.595703125',\n",
       "     'dehumanize': 'no_dehumanize: 0.67431640625',\n",
       "     'violence': 'no_violence: 0.986328125',\n",
       "     'genocide': 'no_genocide: 0.99658203125',\n",
       "     'hatespeech': 'no_hatespeech: 1.0',\n",
       "     'attack_defend': 'attack_defend: 0.5068359375',\n",
       "     'query_resposne_risk': 'chosen: 0.71533203125',\n",
       "     'cmid': ['无法确定: 0.5009765625', '临床表现(病症表现): 0.121337890625'],\n",
       "     'topic': ['宠物: 0.75341796875', '游戏: 0.11334228515625'],\n",
       "     'senti_query': '负向: 0.7548828125',\n",
       "     'senti': '负向: 0.9375',\n",
       "     'bias': '正常: 0.9765625',\n",
       "     'ciron': '正常: 0.78466796875',\n",
       "     'intent': '其它: 0.71533203125',\n",
       "     'offensive': '正常: 0.93115234375',\n",
       "     'query_risk': '正常: 0.9658203125',\n",
       "     'teenager': '正常: 0.98291015625',\n",
       "     'politics': '正常: 0.998046875',\n",
       "     'porn': '正常: 0.990234375',\n",
       "     'abusive': '正常: 0.994140625',\n",
       "     'text': '猫精灵应该不行吧猫精',\n",
       "     'vote_result': {'ethics_common': 1, 'risk_news': 2.0, 'yewu-risk': 2}},\n",
       "    {'yewu': ['导购: 1.0', '售后: 2.300739288330078e-05'],\n",
       "     'risk_news': ['实控人变更: 0.59814453125', '破产重整: 0.130126953125'],\n",
       "     'tnews': ['家居: 0.666015625', '科技: 0.137939453125'],\n",
       "     'title2event': ['社会: 0.794921875', '旅游: 0.04559326171875'],\n",
       "     'fewfc_2022': ['高层变更: 0.1331787109375', '实际控制人变更: 0.12841796875'],\n",
       "     'duee': ['财经/交易-融资: 0.08343505859375', '产品行为-获奖: 0.08013916015625'],\n",
       "     'ethics_common': 'ethics_safe: 0.875',\n",
       "     'insult': 'no_insult: 0.625',\n",
       "     'humiliate': 'no_humiliate: 0.75830078125',\n",
       "     'dehumanize': 'no_dehumanize: 0.845703125',\n",
       "     'violence': 'no_violence: 0.98291015625',\n",
       "     'genocide': 'no_genocide: 0.9970703125',\n",
       "     'hatespeech': 'no_hatespeech: 1.0',\n",
       "     'attack_defend': 'no_attack_defend: 0.74169921875',\n",
       "     'query_resposne_risk': 'rejected: 0.728515625',\n",
       "     'cmid': ['无法确定: 0.4736328125', '定义: 0.2344970703125'],\n",
       "     'topic': ['幽默滑稽: 0.30810546875', '文化/艺术: 0.24853515625'],\n",
       "     'senti_query': '中性: 0.87451171875',\n",
       "     'senti': '正向: 0.89501953125',\n",
       "     'bias': '正常: 0.8974609375',\n",
       "     'ciron': '正常: 0.95458984375',\n",
       "     'intent': '其它: 1.0',\n",
       "     'offensive': '正常: 0.970703125',\n",
       "     'query_risk': '正常: 0.98388671875',\n",
       "     'teenager': '正常: 0.94970703125',\n",
       "     'politics': '正常: 0.974609375',\n",
       "     'porn': '正常: 0.8544921875',\n",
       "     'abusive': '正>常: 0.99609375',\n",
       "     'text': '主人',\n",
       "     'vote_result': []}]},\n",
       "  'success': True,\n",
       "  'ext_msg': ''}}"
      ]
     },
     "execution_count": 20,
     "metadata": {},
     "output_type": "execute_result"
    }
   ],
   "source": [
    "s"
   ]
  },
  {
   "cell_type": "code",
   "execution_count": 38,
   "id": "ff46b8bd-52f0-4436-899e-b44e483e8891",
   "metadata": {},
   "outputs": [],
   "source": [
    "with open('/data/albert.xht/xiaoda/sentiment/wdj/train_text.txt', 'w') as fwobj:\n",
    "    with open('/data/albert.xht/xiaoda/sentiment/wdj/train.txt') as frobj:\n",
    "        for line in frobj:\n",
    "            content = json.loads(line.strip())\n",
    "            fwobj.write(content['text']+'\\n')"
   ]
  },
  {
   "cell_type": "code",
   "execution_count": 70,
   "id": "d3414e98-eab5-425d-8438-9851e3e08577",
   "metadata": {},
   "outputs": [],
   "source": [
    "s = {\"context\": \"Thanks, that makes sense.\", \"response\": \"You may find abstaining increases your pleasure and your friends might decide to try next year as well.\", \"rots\": [\"\"], \"safety_label\": \"__casual__\", \"safety_annotations\": [\"casual\", \"casual\", \"casual\"], \"safety_annotation_reasons\": [\"They haven't done anything unethical here.\", \"They agree with the comment.\", \"Claims that the other person's advice is not making sense, but speaker have not done anything illegal.\"], \"source\": \"socialchemistry\", \"etc\": \"reddit/confessions/9t856r\", \"dialogue_id\": 7129, \"response_id\": 2, \"episode_done\": True}"
   ]
  },
  {
   "cell_type": "code",
   "execution_count": 73,
   "id": "85049f2c-5523-42f6-b939-a6242bf29ff5",
   "metadata": {},
   "outputs": [
    {
     "data": {
      "text/plain": [
       "{'context': 'Thanks, that makes sense.',\n",
       " 'response': 'You may find abstaining increases your pleasure and your friends might decide to try next year as well.',\n",
       " 'rots': [''],\n",
       " 'safety_label': '__casual__',\n",
       " 'safety_annotations': ['casual', 'casual', 'casual'],\n",
       " 'safety_annotation_reasons': [\"They haven't done anything unethical here.\",\n",
       "  'They agree with the comment.',\n",
       "  \"Claims that the other person's advice is not making sense, but speaker have not done anything illegal.\"],\n",
       " 'source': 'socialchemistry',\n",
       " 'etc': 'reddit/confessions/9t856r',\n",
       " 'dialogue_id': 7129,\n",
       " 'response_id': 2,\n",
       " 'episode_done': True}"
      ]
     },
     "execution_count": 73,
     "metadata": {},
     "output_type": "execute_result"
    }
   ],
   "source": [
    "s"
   ]
  },
  {
   "cell_type": "code",
   "execution_count": 22,
   "id": "423b6375-a02b-45b2-a168-68cc01a2f422",
   "metadata": {},
   "outputs": [],
   "source": [
    "import re\n",
    "label_list = set()\n",
    "with open('/data/albert.xht/xiaoda/sentiment/kgclue/train.txt', 'w') as fwobj:\n",
    "    with open('/data/albert.xht/kgclue/train.json') as frobj:\n",
    "        for line in frobj:\n",
    "            content = json.loads(line.strip())\n",
    "            relation = re.sub('[\\s\\t]+', '', content['answer'].split('|||')[1])\n",
    "            d = {\n",
    "                'text':content['question'],\n",
    "                'label':[relation]\n",
    "            }\n",
    "            label_list.add(relation)\n",
    "            fwobj.write(json.dumps(d, ensure_ascii=False)+'\\n')\n",
    "with open('/data/albert.xht/xiaoda/sentiment/kgclue/kgclue_label_list.txt', 'w') as fwobj:\n",
    "    for l in label_list:\n",
    "        fwobj.write(l+'\\n')"
   ]
  },
  {
   "cell_type": "code",
   "execution_count": null,
   "id": "76b8aa39-8ba9-4ea8-8ecb-8d83f1070518",
   "metadata": {},
   "outputs": [],
   "source": [
    "\n",
    "\n",
    "import json\n",
    "with open('')\n"
   ]
  }
 ],
 "metadata": {
  "kernelspec": {
   "display_name": "Python 3 (ipykernel)",
   "language": "python",
   "name": "python3"
  },
  "language_info": {
   "codemirror_mode": {
    "name": "ipython",
    "version": 3
   },
   "file_extension": ".py",
   "mimetype": "text/x-python",
   "name": "python",
   "nbconvert_exporter": "python",
   "pygments_lexer": "ipython3",
   "version": "3.8.1"
  }
 },
 "nbformat": 4,
 "nbformat_minor": 5
}
