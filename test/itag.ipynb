{
 "cells": [
  {
   "cell_type": "code",
   "execution_count": 36,
   "id": "b6a289f6-3fff-4b51-a333-3ad9e60d44e9",
   "metadata": {},
   "outputs": [],
   "source": [
    "import pandas as pd\n",
    "import re\n",
    "import json\n",
    "from tqdm import tqdm\n",
    "import random\n",
    "\n",
    "# 读取itag下载的标注数据, 转换为训练数据格式\n",
    "\n",
    "def dump_instances(data_list, output_path):\n",
    "    with open(output_path, 'w') as fwobj:\n",
    "        for data in data_list:\n",
    "            fwobj.write(json.dumps(data, ensure_ascii=False)+'\\n')\n",
    "\n",
    "\n",
    "data_df = pd.read_csv(\"/data/albert.xht/xiaodao/query_risk_v11/【iTAG】对话query风险标注_UTF__20230103081553.csv\")\n",
    "data_df = data_df.where(data_df.notnull(), None) # 将df中所有的Nan替换为None\n",
    "query_risk_data = []\n",
    "left = []\n",
    "for index, row in data_df.iterrows():\n",
    "    try:\n",
    "        if json.loads(row[\"query风险要素蕴含\"])[0] == '有风险':\n",
    "            label = '风险'\n",
    "        else:\n",
    "            label = '正常'\n",
    "    except:\n",
    "        left.append((row['column_0']))\n",
    "        continue\n",
    "    query_risk_data.append({\n",
    "        \"text\": row[\"column_0\"],\n",
    "        \"label\": [label]\n",
    "    })\n",
    "\n",
    "random.shuffle(query_risk_data+left_data)\n",
    "dump_instances(query_risk_data+left_data, \"/data/albert.xht/xiaodao/query_risk_v11/offensive_select_labeled.txt\")"
   ]
  },
  {
   "cell_type": "code",
   "execution_count": null,
   "id": "916ff1f3-8fb2-4425-a75c-edeb3afa484e",
   "metadata": {},
   "outputs": [],
   "source": [
    "left_label = [\n",
    "'风险', '风险', '风险', '风险', '风险', '风险', '风险', '风险'\n",
    "]"
   ]
  },
  {
   "cell_type": "code",
   "execution_count": 32,
   "id": "d781c5c1-f3f6-4baf-a16a-ba01ee50b012",
   "metadata": {},
   "outputs": [],
   "source": [
    "left_label = ['风险']*len(left)\n",
    "\n",
    "\n",
    "normal = [\n",
    "'女友觉得生小孩很痛很恶心，所以不想生。如何改变她的印象？',\n",
    "'分手快一年了，觉得爱不上别的男人了，无论谁都觉得不如前男友，他们一接近我我就会觉得恶心，我还能幸福么？',\n",
    "'你遇到素质低的人会去提醒他吗?'\n",
    "'老实人为何常吃亏?请客,别人请我我去,我请别人,不来! '\n",
    "'怎么把现在版本中血条中那恶心的字体弄成原来一样啊现在版本中的字体 ',\n",
    "'话多的人是不是就心眼少',\n",
    "'发挥酒馆和公告版作用。小小新提议最近发现骗子越来越多。。还肆无惧 '\n",
    "]\n",
    "\n",
    "for idx, d in enumerate(left):\n",
    "    for p in normal:\n",
    "        if d in p or p in d:\n",
    "            left_label[idx] = '正常'\n",
    "            break\n",
    "\n",
    "left_data = []\n",
    "for item in tuple(zip(left, left_label)):\n",
    "    left_data.append({\n",
    "        \"text\": item[0],\n",
    "        \"label\": [item[1]]\n",
    "    })"
   ]
  },
  {
   "cell_type": "code",
   "execution_count": 33,
   "id": "580474fe-2517-4d15-93e4-7effc3558e69",
   "metadata": {},
   "outputs": [
    {
     "data": {
      "text/plain": [
       "[{'text': '核弹是不是没有想象中的那么恐怖？', 'label': ['风险']},\n",
       " {'text': '如何看待“去日本旅游就是汉奸卖国贼，是给日本做贡献”等类似言论？', 'label': ['风险']},\n",
       " {'text': '阿富汗为何会被称为帝国坟场？为什么苏联与美国都征服不了这个又穷又弱的小国？', 'label': ['风险']},\n",
       " {'text': '中国的法律为什么为法官的腐败大开绿灯？一位打工者为了索取自己的报 ', 'label': ['风险']},\n",
       " {'text': '世界上是否存在完全犯罪？真的毫无漏洞不可能破案吗？', 'label': ['风险']},\n",
       " {'text': '要和我一起殉情吗', 'label': ['风险']},\n",
       " {'text': '中国古代最邪恶的人是谁？', 'label': ['风险']},\n",
       " {'text': '我以为小三该打，那男的更该打。各位以为呢？', 'label': ['风险']},\n",
       " {'text': '鲁迅凭什么说中国人的国民性有问题，其他国家有更好吗？', 'label': ['风险']},\n",
       " {'text': '去医院看病被男医生直接听心肺，没穿内衣，是被性骚扰了么？', 'label': ['风险']},\n",
       " {'text': '是什么原因造成香港电影多低俗淫秽？', 'label': ['风险']},\n",
       " {'text': '为什么中国人的契约精神这么差？', 'label': ['风险']},\n",
       " {'text': '女友觉得生小孩很痛很恶心，所以不想生。如何改变她的印象？', 'label': ['正常']},\n",
       " {'text': '为什么部分中国人推崇「落后就要挨打」、「弱肉强食」等社会达尔文主义观点？', 'label': ['风险']},\n",
       " {'text': '如何合理解决海外驻军的生理需求，使其不发展成针对当地女性居民的强奸，杀人等犯罪案件？', 'label': ['风险']},\n",
       " {'text': '分手快一年了，觉得爱不上别的男人了，无论谁都觉得不如前男友，他们一接近我我就会觉得恶心，我还能幸福么？',\n",
       "  'label': ['正常']},\n",
       " {'text': '是我直女癌，还是他直男癌？？？', 'label': ['风险']},\n",
       " {'text': '万宝路的包装都是很恶心的照片，是为了宣传吸烟危害健康的，它不怕会因此形象销量吗？', 'label': ['风险']},\n",
       " {'text': '「因为黑人犯罪率高，所以黑人来了要把包盯紧点」是种族歧视吗？', 'label': ['风险']},\n",
       " {'text': '从中国男女差距3000w能够推断出有3000w女孩被流产或是被杀害吗？', 'label': ['风险']},\n",
       " {'text': '你遇到素质低的人会去提醒他吗?', 'label': ['正常']},\n",
       " {'text': '老实人为何常吃亏?请客,别人请我我去,我请别人,不来! ', 'label': ['正常']},\n",
       " {'text': '明知被诈骗的前提下，依然把钱汇给骗子。这部分的钱属于不当得利还是非法所得？', 'label': ['风险']},\n",
       " {'text': '持多元价值观是不是也是一种持单一价值观，是不是一种愚蠢？', 'label': ['风险']},\n",
       " {'text': '为什么法国有核动力航母，但其军力评估都不占前列呢？为什么2015俄对外用兵不少但国防预算竟比沙特靠后？',\n",
       "  'label': ['风险']},\n",
       " {'text': '为什么别人可杀警卫？ ', 'label': ['风险']},\n",
       " {'text': '大熊猫发飙的时候有多恐怖？普通人和熊猫打一架，胜算有多大？', 'label': ['风险']},\n",
       " {'text': '怎么把现在版本中血条中那恶心的字体弄成原来一样啊现在版本中的字体 ', 'label': ['正常']},\n",
       " {'text': '死人的请求这任务放出的女的怎么是白问号?不能完成？ ', 'label': ['风险']},\n",
       " {'text': '话多的人是不是就心眼少？ ', 'label': ['正常']},\n",
       " {'text': '发挥酒馆和公告版作用。小小新提议最近发现骗子越来越多。。还肆无惧 ', 'label': ['正常']}]"
      ]
     },
     "execution_count": 33,
     "metadata": {},
     "output_type": "execute_result"
    }
   ],
   "source": [
    "left_data"
   ]
  },
  {
   "cell_type": "code",
   "execution_count": 20,
   "id": "f8ccf60a-8955-4eb8-a22b-637dac0aff9c",
   "metadata": {},
   "outputs": [],
   "source": [
    "import pandas as pd\n",
    "\n",
    "df = pd.read_excel('/data/albert.xht/raw_chat_corpus/open-Chinese-Internet-Sarcasm-Corpus/shuffledChineseSarcasmCorpus.xlsx')"
   ]
  },
  {
   "cell_type": "code",
   "execution_count": 28,
   "id": "098540e2-3158-49c5-8ec8-3b904f063ab5",
   "metadata": {},
   "outputs": [
    {
     "name": "stdout",
     "output_type": "stream",
     "text": [
      "label    1\n",
      "text     0\n",
      "Name: 818, dtype: object\n"
     ]
    }
   ],
   "source": [
    "mapping = {\n",
    "    '0':'正常',\n",
    "    '1':'讽刺'\n",
    "}\n",
    "import json\n",
    "with open('/data/albert.xht/xiaoda/sentiment/ciron/chinese_sarcasm_corpus.json', 'w') as fwobj:\n",
    "    for index, row in df.iterrows():\n",
    "        if not isinstance(row['text'], str):\n",
    "            print(row)\n",
    "            continue\n",
    "        d = {\n",
    "            'text':row['text'],\n",
    "            'label':[mapping[str(row['label'])]]\n",
    "        }\n",
    "        fwobj.write(json.dumps(d, ensure_ascii=False)+'\\n')\n",
    "        "
   ]
  },
  {
   "cell_type": "code",
   "execution_count": 21,
   "id": "097bb12a-d8a9-4a26-b3de-dfdf57d7585c",
   "metadata": {},
   "outputs": [
    {
     "data": {
      "text/plain": [
       "label            0\n",
       "text     大国重器蓝色力量！\n",
       "Name: 0, dtype: object"
      ]
     },
     "execution_count": 21,
     "metadata": {},
     "output_type": "execute_result"
    }
   ],
   "source": [
    "(df.loc[0])"
   ]
  },
  {
   "cell_type": "code",
   "execution_count": 19,
   "id": "455f86b0-389a-4c18-b0b4-9f025cf412ec",
   "metadata": {},
   "outputs": [
    {
     "data": {
      "text/plain": [
       "pandas.core.series.Series"
      ]
     },
     "execution_count": 19,
     "metadata": {},
     "output_type": "execute_result"
    }
   ],
   "source": [
    "type(row)"
   ]
  },
  {
   "cell_type": "code",
   "execution_count": 25,
   "id": "fc11e5d0-46f2-4ffd-9ae7-c1d80a3c38e9",
   "metadata": {},
   "outputs": [
    {
     "data": {
      "text/plain": [
       "'大国重器蓝色力量！'"
      ]
     },
     "execution_count": 25,
     "metadata": {},
     "output_type": "execute_result"
    }
   ],
   "source": [
    "row['text']"
   ]
  },
  {
   "cell_type": "code",
   "execution_count": null,
   "id": "9670960b-5ebd-4beb-bd77-a7186f004a33",
   "metadata": {},
   "outputs": [],
   "source": []
  }
 ],
 "metadata": {
  "kernelspec": {
   "display_name": "Python 3 (ipykernel)",
   "language": "python",
   "name": "python3"
  },
  "language_info": {
   "codemirror_mode": {
    "name": "ipython",
    "version": 3
   },
   "file_extension": ".py",
   "mimetype": "text/x-python",
   "name": "python",
   "nbconvert_exporter": "python",
   "pygments_lexer": "ipython3",
   "version": "3.8.1"
  }
 },
 "nbformat": 4,
 "nbformat_minor": 5
}
