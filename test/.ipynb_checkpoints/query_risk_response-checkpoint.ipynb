{
 "cells": [
  {
   "cell_type": "code",
   "execution_count": 1,
   "id": "09604eec-8204-4998-9109-55be3b961e26",
   "metadata": {},
   "outputs": [],
   "source": [
    "import json\n",
    "import sys,os\n",
    "%load_ext autoreload\n",
    "%autoreload 2"
   ]
  },
  {
   "cell_type": "code",
   "execution_count": 2,
   "id": "8384e130-1f80-4f46-b408-d288e0588379",
   "metadata": {},
   "outputs": [],
   "source": [
    "import os, sys\n",
    "\n",
    "sys.path.extend(['/root/xiaoda/query_topic/'])"
   ]
  },
  {
   "cell_type": "code",
   "execution_count": 3,
   "id": "c0672c18-d1ac-4e88-bd8c-616d74c4cb81",
   "metadata": {},
   "outputs": [],
   "source": [
    "import torch\n",
    "from torch.nn import functional as F\n",
    "import numpy as np\n",
    "import random\n",
    "import torch.nn as nn\n",
    "from scipy.stats import pearsonr, spearmanr\n",
    "from sklearn.metrics import matthews_corrcoef, f1_score\n",
    "from sklearn.metrics import roc_auc_score, roc_curve\n",
    "import numpy as np\n",
    "\n",
    "\"\"\"\n",
    "https://github.com/ondrejbohdal/meta-calibration/blob/main/Metrics/metrics.py\n",
    "\"\"\"\n",
    "\n",
    "class ECE(nn.Module):\n",
    "    \n",
    "    def __init__(self, n_bins=15):\n",
    "        \"\"\"\n",
    "        n_bins (int): number of confidence interval bins\n",
    "        \"\"\"\n",
    "        super(ECE, self).__init__()\n",
    "        bin_boundaries = torch.linspace(0, 1, n_bins + 1)\n",
    "        self.bin_lowers = bin_boundaries[:-1]\n",
    "        self.bin_uppers = bin_boundaries[1:]\n",
    "\n",
    "    def forward(self, logits, labels, mode='logits'):\n",
    "        if mode == 'logits':\n",
    "            softmaxes = F.softmax(logits, dim=1)\n",
    "        else:\n",
    "            softmaxes = logits\n",
    "        # softmaxes = F.softmax(logits, dim=1)\n",
    "        confidences, predictions = torch.max(softmaxes, 1)\n",
    "        accuracies = predictions.eq(labels)\n",
    "        \n",
    "        ece = torch.zeros(1, device=logits.device)\n",
    "        for bin_lower, bin_upper in zip(self.bin_lowers, self.bin_uppers):\n",
    "            # Calculated |confidence - accuracy| in each bin\n",
    "            in_bin = confidences.gt(bin_lower.item()) * confidences.le(bin_upper.item())\n",
    "            prop_in_bin = in_bin.float().mean()\n",
    "            if prop_in_bin.item() > 0:\n",
    "                accuracy_in_bin = accuracies[in_bin].float().mean()\n",
    "                avg_confidence_in_bin = confidences[in_bin].mean()\n",
    "                ece += torch.abs(avg_confidence_in_bin - accuracy_in_bin) * prop_in_bin\n",
    "\n",
    "        return ece"
   ]
  },
  {
   "cell_type": "code",
   "execution_count": 4,
   "id": "bb31ca7c-0a77-45f7-ac78-ecb41753b79e",
   "metadata": {},
   "outputs": [],
   "source": [
    "import torch\n",
    "import json\n",
    "import sys\n",
    "import numpy as np\n",
    "import torch.nn as nn\n",
    "import torch.nn.functional as F\n",
    "from transformers import BertTokenizerFast\n",
    "import transformers\n",
    "from datetime import timedelta\n",
    "\n",
    "import os, sys\n",
    "\n",
    "from nets.them_classifier import MyBaseModel, RobertaClassifier\n",
    "\n",
    "import configparser\n",
    "from tqdm import tqdm\n",
    "\n",
    "cur_dir_path = '/root/xiaoda/query_topic/'\n",
    "\n",
    "def load_label(filepath):\n",
    "    label_list = []\n",
    "    with open(filepath, 'r') as frobj:\n",
    "        for line in frobj:\n",
    "            label_list.append(line.strip())\n",
    "        n_classes = len(label_list)\n",
    "\n",
    "        label2id = {}\n",
    "        id2label = {}\n",
    "        for idx, label in enumerate(label_list):\n",
    "            label2id[label] = idx\n",
    "            id2label[idx] = label\n",
    "        return label2id, id2label\n",
    "\n",
    "class RiskInfer(object):\n",
    "    def __init__(self, config_path):\n",
    "\n",
    "        import torch, os, sys\n",
    "\n",
    "        con = configparser.ConfigParser()\n",
    "        con_path = os.path.join(cur_dir_path, config_path)\n",
    "        con.read(con_path, encoding='utf8')\n",
    "\n",
    "        args_path = dict(dict(con.items('paths')), **dict(con.items(\"para\")))\n",
    "        self.tokenizer = BertTokenizerFast.from_pretrained(args_path[\"model_path\"], do_lower_case=True)\n",
    "\n",
    "        from collections import OrderedDict\n",
    "        self.schema_dict = OrderedDict({})\n",
    "        self.schema2schema_id = {}\n",
    "        self.schema_id2schema = {}\n",
    "\n",
    "        for label_index, schema_info in enumerate(args_path[\"label_path\"].split(',')):\n",
    "            schema_type, schema_path = schema_info.split(':')\n",
    "            schema_path = os.path.join(cur_dir_path, schema_path)\n",
    "            print(schema_type, schema_path, '===schema-path===')\n",
    "            label2id, id2label = load_label(schema_path)\n",
    "            self.schema_dict[schema_type] = {\n",
    "                'label2id':label2id,\n",
    "                'id2label':id2label,\n",
    "                'label_index':label_index\n",
    "            }\n",
    "            # print(self.schema_dict[schema_type], '==schema_type==', schema_type)\n",
    "            self.schema2schema_id[schema_type] = label_index\n",
    "            self.schema_id2schema[label_index] = schema_type\n",
    "        \n",
    "        output_path = os.path.join(cur_dir_path, args_path['output_path'])\n",
    "\n",
    "        # from roformer import RoFormerModel, RoFormerConfig\n",
    "        if args_path.get('model_type', 'bert') == 'bert':\n",
    "            from transformers import BertModel, BertConfig\n",
    "            config = BertConfig.from_pretrained(args_path[\"model_path\"])\n",
    "            encoder = BertModel(config=config)\n",
    "        elif args_path.get('model_type', 'bert') == 'roformer':\n",
    "            from roformer import RoFormerModel, RoFormerConfig\n",
    "            config = RoFormerConfig.from_pretrained(args_path[\"model_path\"])\n",
    "            encoder = RoFormerModel(config=config)\n",
    "        elif args_path.get('model_type', 'bert') == 'erine':\n",
    "            from nets.erine import ErnieConfig, ErnieModel\n",
    "            config = ErnieConfig.from_pretrained(args_path[\"model_path\"])\n",
    "            encoder = ErnieModel(config=config)\n",
    "        \n",
    "        encoder_net = MyBaseModel(encoder, config)\n",
    "\n",
    "        self.device = \"cuda:1\" if torch.cuda.is_available() else \"cpu\"\n",
    "\n",
    "        classifier_list = []\n",
    "\n",
    "        schema_list = list(self.schema_dict.keys())\n",
    "\n",
    "        for schema_key in schema_list:\n",
    "            classifier = RobertaClassifier(\n",
    "                hidden_size=config.hidden_size, \n",
    "                dropout_prob=con.getfloat('para', 'out_dropout_rate'),\n",
    "                num_labels=len(self.schema_dict[schema_key]['label2id']), \n",
    "                dropout_type=con.get('para', 'dropout_type'))\n",
    "            classifier_list.append(classifier)\n",
    "\n",
    "        classifier_list = nn.ModuleList(classifier_list)\n",
    "\n",
    "        class MultitaskClassifier(nn.Module):\n",
    "            def __init__(self, transformer, classifier_list):\n",
    "                super().__init__()\n",
    "\n",
    "                self.transformer = transformer\n",
    "                self.classifier_list = classifier_list\n",
    "\n",
    "            def forward(self, input_ids, input_mask, \n",
    "                        segment_ids=None, \n",
    "                        transformer_mode='mean_pooling', \n",
    "                        dt_idx=None, mode='predict'):\n",
    "                hidden_states = self.transformer(input_ids=input_ids,\n",
    "                              input_mask=input_mask,\n",
    "                              segment_ids=segment_ids,\n",
    "                              return_mode=transformer_mode)\n",
    "                outputs_list = []\n",
    "                \n",
    "                for idx, classifier in enumerate(self.classifier_list):\n",
    "                    \n",
    "                    if dt_idx:\n",
    "                        if idx not in dt_idx:\n",
    "                            outputs_list.append([])\n",
    "                            continue\n",
    "                    \n",
    "                    scores = classifier(hidden_states)\n",
    "                    if mode == 'predict':\n",
    "                        scores = torch.nn.Softmax(dim=1)(scores)\n",
    "                    outputs_list.append(scores)\n",
    "                return outputs_list, hidden_states\n",
    "\n",
    "        self.net = MultitaskClassifier(encoder_net, classifier_list).to(self.device)\n",
    "\n",
    "        # eo = 9\n",
    "        # ckpt = torch.load(os.path.join(output_path, 'multitask_cls.pth.{}.raw'.format(eo)), map_location=self.device)\n",
    "        # # ckpt = torch.load(os.path.join(output_path, 'multitask_cls.pth.{}.raw.focal'.format(eo)), map_location=self.device)\n",
    "        # # ckpt = torch.load(os.path.join(output_path, 'multitask_contrast_cls.pth.{}'.format(eo)), map_location=self.device)\n",
    "        # self.net.load_state_dict(ckpt)\n",
    "        # self.net.eval()\n",
    "        \n",
    "    def reload(self, model_path):\n",
    "        ckpt = torch.load(model_path, map_location=self.device)\n",
    "        self.net.load_state_dict(ckpt)\n",
    "        self.net.eval()\n",
    "        self.net = self.net.half()\n",
    "\n",
    "    def predict(self, text, allowed_schema_type={}):\n",
    "\n",
    "        \"\"\"抽取输入text所包含的类型\n",
    "        \"\"\"\n",
    "        # start = time.time()\n",
    "        # encoder_txt = self.tokenizer.encode_plus(text, max_length=256)\n",
    "        # input_ids = torch.tensor(encoder_txt[\"input_ids\"]).long().unsqueeze(0).to(self.device)\n",
    "        # token_type_ids = torch.tensor(encoder_txt[\"token_type_ids\"]).unsqueeze(0).to(self.device)\n",
    "        # attention_mask = torch.tensor(encoder_txt[\"attention_mask\"]).unsqueeze(0).to(self.device)\n",
    "        # print(time.time() - start, '====tokenization====')\n",
    "        \n",
    "        start = time.time()\n",
    "        encoder_txt = self.tokenizer([text], max_length=512)\n",
    "        input_ids = torch.tensor(encoder_txt[\"input_ids\"]).long().to(self.device)\n",
    "        token_type_ids = torch.tensor(encoder_txt[\"token_type_ids\"]).to(self.device)\n",
    "        attention_mask = torch.tensor(encoder_txt[\"attention_mask\"]).to(self.device)\n",
    "        # print(time.time() - start, '====tokenization====')\n",
    "        \n",
    "        allowed_schema_type_ids = {}\n",
    "        for schema_type in allowed_schema_type:\n",
    "            allowed_schema_type_ids[self.schema2schema_id[schema_type]] = schema_type\n",
    "        \n",
    "        scores_dict = {}\n",
    "        start = time.time()\n",
    "        with torch.no_grad():\n",
    "            [logits_list, \n",
    "            hidden_states] = self.net(input_ids, \n",
    "                attention_mask, token_type_ids, transformer_mode='cls', dt_idx=allowed_schema_type_ids)\n",
    "        # print(time.time() - start, '====inference====')\n",
    "        \n",
    "        old_start = time.time()\n",
    "        \n",
    "        for schema_idx, (schema_type, scores) in enumerate(zip(list(self.schema_dict.keys()), logits_list)):\n",
    "            if allowed_schema_type:\n",
    "                if schema_type not in allowed_schema_type:\n",
    "                    continue\n",
    "            # scores = torch.nn.Softmax(dim=1)(logits)[0].data.cpu().numpy()\n",
    "            scores = scores[0].data.cpu().numpy()\n",
    "            scores_dict[schema_type] = []\n",
    "            for index, score in enumerate(scores):\n",
    "                scores_dict[schema_type].append([self.schema_dict[schema_type]['id2label'][index], \n",
    "                                        float(score)])\n",
    "            if len(scores_dict[schema_type]) >= 5:\n",
    "                schema_type_scores = sorted(scores_dict[schema_type], key=lambda item:item[1], reverse=True)\n",
    "                scores_dict[schema_type] = schema_type_scores[0:5]\n",
    "        # print(time.time() - old_start, '====result analysis====')\n",
    "        return scores_dict\n",
    "    \n",
    "    def get_logitnorm(self, text):\n",
    "        \"\"\"抽取输入text所包含的类型\n",
    "        \"\"\"\n",
    "        encoder_txt = self.tokenizer.encode_plus(text, max_length=512)\n",
    "        input_ids = torch.tensor(encoder_txt[\"input_ids\"]).long().unsqueeze(0).to(self.device)\n",
    "        token_type_ids = torch.tensor(encoder_txt[\"token_type_ids\"]).unsqueeze(0).to(self.device)\n",
    "        attention_mask = torch.tensor(encoder_txt[\"attention_mask\"]).unsqueeze(0).to(self.device)\n",
    "        \n",
    "        scores_dict = {}\n",
    "        logits_norm_list = []\n",
    "        with torch.no_grad():\n",
    "            [logits_list, \n",
    "            hidden_states] = self.net(input_ids, \n",
    "                attention_mask, token_type_ids, transformer_mode='cls')\n",
    "            for logits in logits_list:\n",
    "                logits_norm_list.append(logits/torch.norm(logits, p=2, dim=-1, keepdim=True) + 1e-7)\n",
    "        for schema_type, logit_norm in zip(list(self.schema_dict.keys()), logits_norm_list):\n",
    "            scores_dict[schema_type] = logit_norm[0].data.cpu().numpy()\n",
    "        return scores_dict\n",
    "            \n",
    "    \n",
    "    def predict_batch(self, text, allowed_schema_type={}):\n",
    "        if isinstance(text, list):\n",
    "            text_list = text\n",
    "        else:\n",
    "            text_list = [text]\n",
    "        model_input = self.tokenizer(text_list, max_length=512, truncation=True, return_tensors=\"pt\",padding=True)\n",
    "        for key in model_input:\n",
    "            model_input[key] = model_input[key].to(self.device)\n",
    "        \n",
    "        allowed_schema_type_ids = {}\n",
    "        for schema_type in allowed_schema_type:\n",
    "            allowed_schema_type_ids[self.schema2schema_id[schema_type]] = schema_type\n",
    "            \n",
    "        with torch.no_grad():\n",
    "            [logits_list, \n",
    "            hidden_states] = self.net(model_input['input_ids'], \n",
    "                model_input['attention_mask'], \n",
    "                model_input['token_type_ids'], transformer_mode='cls', dt_idx=allowed_schema_type_ids)\n",
    "        score_dict_list = []\n",
    "        for idx, text in enumerate(text_list):\n",
    "            scores_dict = {}\n",
    "            for schema_idx, (schema_type, scores) in enumerate(zip(list(self.schema_dict.keys()), logits_list)):\n",
    "                if allowed_schema_type:\n",
    "                    if schema_type not in allowed_schema_type:\n",
    "                        continue\n",
    "                # scores = torch.nn.Softmax(dim=1)(logits)[idx].data.cpu().numpy()\n",
    "                scores = scores[idx].data.cpu().numpy()\n",
    "                scores_dict[schema_type] = []\n",
    "                for index, score in enumerate(scores):\n",
    "                    scores_dict[schema_type].append([self.schema_dict[schema_type]['id2label'][index], \n",
    "                                            float(score)])\n",
    "                if len(scores_dict[schema_type]) >= 5:\n",
    "                    schema_type_scores = sorted(scores_dict[schema_type], key=lambda item:item[1], reverse=True)\n",
    "                    scores_dict[schema_type] = schema_type_scores[0:5]\n",
    "            score_dict_list.append(scores_dict)\n",
    "        return score_dict_list\n",
    "\n",
    "# risk_api = RiskInfer('./risk_data/config.ini')\n",
    "# risk_api = RiskInfer('./risk_data_v5/config_offensive_risk.ini')\n",
    "\n",
    "\n"
   ]
  },
  {
   "cell_type": "code",
   "execution_count": 5,
   "id": "8974c9fa-0fd5-425e-bde7-65401c94273d",
   "metadata": {},
   "outputs": [],
   "source": [
    "\n",
    "# green_green_topic_risk_api = RiskInfer('/root/xiaoda/query_topic/risk_data_tiny_query_response_cmid/risk_data_tiny/config_topic_risk_green_v1.ini')\n",
    "# model_path = '/data/albert.xht/xiaodao/risk_classification/topic_v4_update_green_v1_teenager_v1_porn_multitask_raw_filter_senti_query_risk_v13_intent_v2-1_10_no_symbol_senti_query_senta_green_mtdnn_v24/multitask_cls.pth.8'\n",
    "\n",
    "# green_green_topic_risk_api.reload(model_path)"
   ]
  },
  {
   "cell_type": "code",
   "execution_count": 15,
   "id": "fcc04169-82f6-4a2a-946f-eb4bcc54151c",
   "metadata": {},
   "outputs": [
    {
     "data": {
      "text/plain": [
       "{'input_ids': [[2769, 3221, 6443, 872, 3221, 6443]], 'token_type_ids': [[0, 0, 0, 1, 1, 1]], 'attention_mask': [[1, 1, 1, 1, 1, 1]]}"
      ]
     },
     "execution_count": 15,
     "metadata": {},
     "output_type": "execute_result"
    }
   ],
   "source": [
    "green_green_topic_risk_api.tokenizer([('我是谁', '你是谁')], add_special_tokens=False)"
   ]
  },
  {
   "cell_type": "code",
   "execution_count": 6,
   "id": "dbdad34a-4a05-4766-a9bc-21b035cd42b7",
   "metadata": {},
   "outputs": [],
   "source": [
    "\n",
    "# green_green_topic_risk_open_api = RiskInfer('/root/xiaoda/query_topic/risk_data_tiny_query_response_cmid_open/topic_query_risk/config.ini')\n",
    "# model_path = '/data/albert.xht/xiaodao/risk_classification/topic_v4_update_green_v1_teenager_v1_porn_multitask_raw_filter_senti_query_risk_v13_intent_v2-1_10_no_symbol_senti_query_senta_green_mtdnn_v26_duplicate_with_opensource/multitask_cls.pth.7'\n",
    "\n",
    "# green_green_topic_risk_open_api.reload(model_path)\n"
   ]
  },
  {
   "cell_type": "code",
   "execution_count": null,
   "id": "7f3cfd7e-795a-486a-ba9e-0084f1023b8f",
   "metadata": {},
   "outputs": [],
   "source": [
    "green_green_topic_risk_open_api.tokenier"
   ]
  },
  {
   "cell_type": "code",
   "execution_count": 7,
   "id": "ac44113f-f57b-498b-8ca0-77f9df18819f",
   "metadata": {},
   "outputs": [],
   "source": [
    "# green_green_topic_risk_open_api = RiskInfer('/root/xiaoda/query_topic/risk_data_tiny_query_reseponse_open/topic_query_risk/config.ini')\n",
    "# model_path = '/data/albert.xht/xiaodao/risk_classification/topic_v4_update_green_v1_teenager_v1_potitask_raw_filter_senti_query_risk_v13_intent_v2-1_10_no_symbol_senti_query_senta_green_mtdnn_add_hate_speech_detail_ethics_open_v24//multitask_cls.pth.9'\n",
    "\n",
    "# green_green_topic_risk_open_api.reload(model_path)\n"
   ]
  },
  {
   "cell_type": "code",
   "execution_count": 93,
   "id": "730ba570-11ee-4063-ac87-a1dafc79b3b6",
   "metadata": {},
   "outputs": [
    {
     "name": "stdout",
     "output_type": "stream",
     "text": [
      "yewu /data/albert.xht/xiaoda/sentiment/yewu/yewu_label_list.txt ===schema-path===\n",
      "risk_news /data/albert.xht/xiaoda/sentiment/risk_news/risk_news_label_list.txt ===schema-path===\n",
      "tnews /data/albert.xht/xiaoda/sentiment/classification/tnews/tnews_label_list.txt ===schema-path===\n",
      "title2event /data/albert.xht/xiaoda/sentiment/classification/title2event/title2event_label_list.txt ===schema-path===\n",
      "fewfc_2022 /data/albert.xht/xiaoda/sentiment/classification/fewfc_2022/fewfc_2022_label_list.txt ===schema-path===\n",
      "duee /data/albert.xht/xiaoda/sentiment/classification/DuEE1.0/duee_label_list.txt ===schema-path===\n",
      "ethics_common /root/xiaoda/query_topic/risk_data_tiny_query_reseponse_open/topic_query_risk/ethics_common_label_list.txt ===schema-path===\n",
      "insult /data/albert.xht/xiaoda/measuring_hate_speech/hate_speech_label_list.txt.insult ===schema-path===\n",
      "humiliate /data/albert.xht/xiaoda/measuring_hate_speech/hate_speech_label_list.txt.humiliate ===schema-path===\n",
      "dehumanize /data/albert.xht/xiaoda/measuring_hate_speech/hate_speech_label_list.txt.dehumanize ===schema-path===\n",
      "violence /data/albert.xht/xiaoda/measuring_hate_speech/hate_speech_label_list.txt.violence ===schema-path===\n",
      "genocide /data/albert.xht/xiaoda/measuring_hate_speech/hate_speech_label_list.txt.genocide ===schema-path===\n",
      "hatespeech /data/albert.xht/xiaoda/measuring_hate_speech/hate_speech_label_list.txt.hatespeech ===schema-path===\n",
      "attack_defend /data/albert.xht/xiaoda/measuring_hate_speech/hate_speech_label_list.txt.attack_defend ===schema-path===\n",
      "query_resposne_risk /data/albert.xht/xiaoda/query_response/red_team/query_response/query_response_label.txt ===schema-path===\n",
      "cmid /data/albert.xht/xiaoda/sentiment/CMID-main/cmid_label_list.txt ===schema-path===\n",
      "topic /data/albert.xht/raw_chat_corpus/topic_classification_v4/label_list.txt ===schema-path===\n",
      "senti_query /data/albert.xht/xiaoda/sentiment/senti/senti_query_label.txt ===schema-path===\n",
      "senti /data/albert.xht/xiaoda/sentiment/senti/senti_label.txt ===schema-path===\n",
      "bias /data/albert.xht/xiaoda/sentiment/bias/bias_label.txt ===schema-path===\n",
      "ciron /data/albert.xht/xiaoda/sentiment/ciron/ciron_label.txt ===schema-path===\n",
      "intent /data/albert.xht/xiaoda/sentiment/intention_data_v2-1/label.txt ===schema-path===\n",
      "offensive /data/albert.xht/xiaoda/sentiment/offensive/offensive_label.txt ===schema-path===\n",
      "query_risk /data/albert.xht/xiaoda/sentiment/query_risk_v12/query_risk_label.txt ===schema-path===\n",
      "teenager /data/albert.xht/xiaoda/sentiment/teenager//teenager_label.txt ===schema-path===\n",
      "politics /data/albert.xht/xiaoda/sentiment/green_politics/green_politics_label.txt ===schema-path===\n",
      "porn /data/albert.xht/xiaoda/sentiment/green_porn_v1/green_porn_label.txt ===schema-path===\n",
      "abusive /data/albert.xht/xiaoda/sentiment/green_abusive_v1/green_abusive_label.txt ===schema-path===\n"
     ]
    },
    {
     "name": "stderr",
     "output_type": "stream",
     "text": [
      "04/04/2023 16:46:35 - INFO - nets.them_classifier - ++RobertaClassifier++ apply stable dropout++\n",
      "04/04/2023 16:46:35 - INFO - nets.them_classifier - ++RobertaClassifier++ apply stable dropout++\n",
      "04/04/2023 16:46:35 - INFO - nets.them_classifier - ++RobertaClassifier++ apply stable dropout++\n",
      "04/04/2023 16:46:35 - INFO - nets.them_classifier - ++RobertaClassifier++ apply stable dropout++\n",
      "04/04/2023 16:46:35 - INFO - nets.them_classifier - ++RobertaClassifier++ apply stable dropout++\n",
      "04/04/2023 16:46:35 - INFO - nets.them_classifier - ++RobertaClassifier++ apply stable dropout++\n",
      "04/04/2023 16:46:35 - INFO - nets.them_classifier - ++RobertaClassifier++ apply stable dropout++\n",
      "04/04/2023 16:46:35 - INFO - nets.them_classifier - ++RobertaClassifier++ apply stable dropout++\n",
      "04/04/2023 16:46:35 - INFO - nets.them_classifier - ++RobertaClassifier++ apply stable dropout++\n",
      "04/04/2023 16:46:35 - INFO - nets.them_classifier - ++RobertaClassifier++ apply stable dropout++\n",
      "04/04/2023 16:46:35 - INFO - nets.them_classifier - ++RobertaClassifier++ apply stable dropout++\n",
      "04/04/2023 16:46:35 - INFO - nets.them_classifier - ++RobertaClassifier++ apply stable dropout++\n",
      "04/04/2023 16:46:35 - INFO - nets.them_classifier - ++RobertaClassifier++ apply stable dropout++\n",
      "04/04/2023 16:46:35 - INFO - nets.them_classifier - ++RobertaClassifier++ apply stable dropout++\n",
      "04/04/2023 16:46:35 - INFO - nets.them_classifier - ++RobertaClassifier++ apply stable dropout++\n",
      "04/04/2023 16:46:35 - INFO - nets.them_classifier - ++RobertaClassifier++ apply stable dropout++\n",
      "04/04/2023 16:46:35 - INFO - nets.them_classifier - ++RobertaClassifier++ apply stable dropout++\n",
      "04/04/2023 16:46:35 - INFO - nets.them_classifier - ++RobertaClassifier++ apply stable dropout++\n",
      "04/04/2023 16:46:35 - INFO - nets.them_classifier - ++RobertaClassifier++ apply stable dropout++\n",
      "04/04/2023 16:46:35 - INFO - nets.them_classifier - ++RobertaClassifier++ apply stable dropout++\n",
      "04/04/2023 16:46:35 - INFO - nets.them_classifier - ++RobertaClassifier++ apply stable dropout++\n",
      "04/04/2023 16:46:35 - INFO - nets.them_classifier - ++RobertaClassifier++ apply stable dropout++\n",
      "04/04/2023 16:46:35 - INFO - nets.them_classifier - ++RobertaClassifier++ apply stable dropout++\n",
      "04/04/2023 16:46:35 - INFO - nets.them_classifier - ++RobertaClassifier++ apply stable dropout++\n",
      "04/04/2023 16:46:35 - INFO - nets.them_classifier - ++RobertaClassifier++ apply stable dropout++\n",
      "04/04/2023 16:46:35 - INFO - nets.them_classifier - ++RobertaClassifier++ apply stable dropout++\n",
      "04/04/2023 16:46:35 - INFO - nets.them_classifier - ++RobertaClassifier++ apply stable dropout++\n",
      "04/04/2023 16:46:35 - INFO - nets.them_classifier - ++RobertaClassifier++ apply stable dropout++\n"
     ]
    }
   ],
   "source": [
    "green_green_topic_risk_open_all_api = RiskInfer('/root/xiaoda/query_topic/risk_data_tiny_query_reseponse_open_all/topic_query_risk/config.ini')\n",
    "model_path = '/data/albert.xht/xiaodao/risk_classification/topic_v4_update_green_v1_teenager_v1_porn_multitask_raw_filter_senti_query_risk_v13_intent_v2-1_10_no_symbol_senti_query_senta_green_mtdnn_add_hate_speech_detail_ethics_open_all_v24/multitask_cls.pth.9'\n",
    "green_green_topic_risk_open_all_api.reload(model_path)\n"
   ]
  },
  {
   "cell_type": "code",
   "execution_count": 8,
   "id": "f4842281-a9a8-46ff-8c8e-33832fd7d334",
   "metadata": {},
   "outputs": [],
   "source": [
    "# green_green_topic_risk_open_all_nli_api = RiskInfer('/root/xiaoda/query_topic/risk_data_tiny_query_reseponse_open_nli/topic_query_risk/config.ini')\n",
    "# # model_path = '/data/albert.xht/xiaoda/risk_classification/topic_v4_update_green_v1_teenager_v1_porn_multitask_raw_filter_senti_query_risk_v13_intent_v2-1_10_no_symbol_senti_query_senta_green_mtdnn_add_hate_speech_detail_ethics_open_all_add_nli_v26/multitask_cls.pth.9'\n",
    "# # model_path = '/data/albert.xht/xiaoda/risk_classification/topic_v4_update_green_v1_teenager_v1_porn_multitask_raw_filter_senti_query_risk_v13_intent_v2-1_10_no_symbol_senti_query_senta_green_mtdnn_add_hate_speech_detail_ethics_open_all_add_nli_cls_nli_all_v26/multitask_cls.pth.7'\n",
    "# # model_path = '/data/albert.xht/xiaoda/risk_classification/topic_v4_update_green_v1_teenager_v1_porn_multitask_raw_filter_senti_query_risk_v13_intent_v2-1_10_no_symbol_senti_query_senta_green_mtdnn_add_hate_speech_detail_ethics_open_all_add_nli_instruct_cls_nli_v26/multitask_cls.pth.7'\n",
    "\n",
    "# model_path = '/data/albert.xht/xiaoda/risk_classification/topic_v4_update_green_v1_teenager_v1_porn_multitask_raw_filter_senti_query_risk_v13_intent_v2-1_10_no_symbol_senti_query_senta_green_mtdnn_add_hate_speech_detail_ethics_open_all_add_nli_instruct_v27/multitask_cls.pth.8'\n",
    "# green_green_topic_risk_open_all_nli_api.reload(model_path)\n"
   ]
  },
  {
   "cell_type": "code",
   "execution_count": 327,
   "id": "ca350b22-4c68-4799-89a5-d077fc5639f9",
   "metadata": {},
   "outputs": [
    {
     "name": "stdout",
     "output_type": "stream",
     "text": [
      "nli /data/albert.xht/xiaoda/sentiment/classification/cmnli/cmnli_label_list.txt ===schema-path===\n",
      "lcqmc /data/albert.xht/xiaoda/sentiment/classification/paws-x-zh/paws_label_list.txt ===schema-path===\n",
      "yewu /data/albert.xht/xiaoda/sentiment/yewu/yewu_label_list.txt ===schema-path===\n",
      "risk_news /data/albert.xht/xiaoda/sentiment/risk_news/risk_news_label_list.txt ===schema-path===\n",
      "tnews /data/albert.xht/xiaoda/sentiment/classification/tnews/tnews_label_list.txt ===schema-path===\n",
      "title2event /data/albert.xht/xiaoda/sentiment/classification/title2event/title2event_label_list.txt ===schema-path===\n",
      "fewfc_2022 /data/albert.xht/xiaoda/sentiment/classification/fewfc_2022/fewfc_2022_label_list.txt ===schema-path===\n",
      "duee /data/albert.xht/xiaoda/sentiment/classification/DuEE1.0/duee_label_list.txt ===schema-path===\n",
      "ethics_common /root/xiaoda/query_topic/risk_data_tiny_query_reseponse_open/topic_query_risk/ethics_common_label_list.txt ===schema-path===\n",
      "insult /data/albert.xht/xiaoda/measuring_hate_speech/hate_speech_label_list.txt.insult ===schema-path===\n",
      "humiliate /data/albert.xht/xiaoda/measuring_hate_speech/hate_speech_label_list.txt.humiliate ===schema-path===\n",
      "dehumanize /data/albert.xht/xiaoda/measuring_hate_speech/hate_speech_label_list.txt.dehumanize ===schema-path===\n",
      "violence /data/albert.xht/xiaoda/measuring_hate_speech/hate_speech_label_list.txt.violence ===schema-path===\n",
      "genocide /data/albert.xht/xiaoda/measuring_hate_speech/hate_speech_label_list.txt.genocide ===schema-path===\n",
      "hatespeech /data/albert.xht/xiaoda/measuring_hate_speech/hate_speech_label_list.txt.hatespeech ===schema-path===\n",
      "attack_defend /data/albert.xht/xiaoda/measuring_hate_speech/hate_speech_label_list.txt.attack_defend ===schema-path===\n",
      "query_resposne_risk /data/albert.xht/xiaoda/query_response/red_team/query_response/query_response_label.txt ===schema-path===\n",
      "cmid /data/albert.xht/xiaoda/sentiment/CMID-main/cmid_label_list.txt ===schema-path===\n",
      "topic /data/albert.xht/raw_chat_corpus/topic_classification_v4/label_list.txt ===schema-path===\n",
      "senti_query /data/albert.xht/xiaoda/sentiment/senti/senti_query_label.txt ===schema-path===\n",
      "senti /data/albert.xht/xiaoda/sentiment/senti/senti_label.txt ===schema-path===\n",
      "bias /data/albert.xht/xiaoda/sentiment/bias/bias_label.txt ===schema-path===\n",
      "ciron /data/albert.xht/xiaoda/sentiment/ciron/ciron_label.txt ===schema-path===\n",
      "intent /data/albert.xht/xiaoda/sentiment/intention_data_v2-1/label.txt ===schema-path===\n",
      "offensive /data/albert.xht/xiaoda/sentiment/offensive/offensive_label.txt ===schema-path===\n",
      "query_risk /data/albert.xht/xiaoda/sentiment/query_risk_v12/query_risk_label.txt ===schema-path===\n",
      "teenager /data/albert.xht/xiaoda/sentiment/teenager//teenager_label.txt ===schema-path===\n",
      "politics /data/albert.xht/xiaoda/sentiment/green_politics/green_politics_label.txt.detail ===schema-path===\n",
      "porn /data/albert.xht/xiaoda/sentiment/green_porn_v1/green_porn_label.txt ===schema-path===\n",
      "abusive /data/albert.xht/xiaoda/sentiment/green_abusive_v1/green_abusive_label.txt ===schema-path===\n"
     ]
    },
    {
     "name": "stderr",
     "output_type": "stream",
     "text": [
      "04/12/2023 10:41:46 - INFO - nets.them_classifier - ++RobertaClassifier++ apply stable dropout++\n",
      "04/12/2023 10:41:46 - INFO - nets.them_classifier - ++RobertaClassifier++ apply stable dropout++\n",
      "04/12/2023 10:41:46 - INFO - nets.them_classifier - ++RobertaClassifier++ apply stable dropout++\n",
      "04/12/2023 10:41:46 - INFO - nets.them_classifier - ++RobertaClassifier++ apply stable dropout++\n",
      "04/12/2023 10:41:46 - INFO - nets.them_classifier - ++RobertaClassifier++ apply stable dropout++\n",
      "04/12/2023 10:41:46 - INFO - nets.them_classifier - ++RobertaClassifier++ apply stable dropout++\n",
      "04/12/2023 10:41:46 - INFO - nets.them_classifier - ++RobertaClassifier++ apply stable dropout++\n",
      "04/12/2023 10:41:46 - INFO - nets.them_classifier - ++RobertaClassifier++ apply stable dropout++\n",
      "04/12/2023 10:41:46 - INFO - nets.them_classifier - ++RobertaClassifier++ apply stable dropout++\n",
      "04/12/2023 10:41:46 - INFO - nets.them_classifier - ++RobertaClassifier++ apply stable dropout++\n",
      "04/12/2023 10:41:46 - INFO - nets.them_classifier - ++RobertaClassifier++ apply stable dropout++\n",
      "04/12/2023 10:41:46 - INFO - nets.them_classifier - ++RobertaClassifier++ apply stable dropout++\n",
      "04/12/2023 10:41:46 - INFO - nets.them_classifier - ++RobertaClassifier++ apply stable dropout++\n",
      "04/12/2023 10:41:46 - INFO - nets.them_classifier - ++RobertaClassifier++ apply stable dropout++\n",
      "04/12/2023 10:41:46 - INFO - nets.them_classifier - ++RobertaClassifier++ apply stable dropout++\n",
      "04/12/2023 10:41:46 - INFO - nets.them_classifier - ++RobertaClassifier++ apply stable dropout++\n",
      "04/12/2023 10:41:46 - INFO - nets.them_classifier - ++RobertaClassifier++ apply stable dropout++\n",
      "04/12/2023 10:41:46 - INFO - nets.them_classifier - ++RobertaClassifier++ apply stable dropout++\n",
      "04/12/2023 10:41:46 - INFO - nets.them_classifier - ++RobertaClassifier++ apply stable dropout++\n",
      "04/12/2023 10:41:46 - INFO - nets.them_classifier - ++RobertaClassifier++ apply stable dropout++\n",
      "04/12/2023 10:41:46 - INFO - nets.them_classifier - ++RobertaClassifier++ apply stable dropout++\n",
      "04/12/2023 10:41:46 - INFO - nets.them_classifier - ++RobertaClassifier++ apply stable dropout++\n",
      "04/12/2023 10:41:46 - INFO - nets.them_classifier - ++RobertaClassifier++ apply stable dropout++\n",
      "04/12/2023 10:41:46 - INFO - nets.them_classifier - ++RobertaClassifier++ apply stable dropout++\n",
      "04/12/2023 10:41:46 - INFO - nets.them_classifier - ++RobertaClassifier++ apply stable dropout++\n",
      "04/12/2023 10:41:46 - INFO - nets.them_classifier - ++RobertaClassifier++ apply stable dropout++\n",
      "04/12/2023 10:41:46 - INFO - nets.them_classifier - ++RobertaClassifier++ apply stable dropout++\n",
      "04/12/2023 10:41:46 - INFO - nets.them_classifier - ++RobertaClassifier++ apply stable dropout++\n",
      "04/12/2023 10:41:46 - INFO - nets.them_classifier - ++RobertaClassifier++ apply stable dropout++\n",
      "04/12/2023 10:41:46 - INFO - nets.them_classifier - ++RobertaClassifier++ apply stable dropout++\n"
     ]
    }
   ],
   "source": [
    "green_green_topic_risk_open_all_politics_detail_api = RiskInfer('/root/xiaoda/query_topic/resources_open_all_politics_detail/topic_query_risk/config.ini')\n",
    "# model_path = '/data/albert.xht/xiaoda/risk_classification/topic_v4_update_green_v1_teenager_v1_porn_multitask_raw_filter_senti_query_risk_v13_intent_v2-1_10_no_symbol_senti_query_senta_green_mtdnn_add_hate_speech_detail_ethics_open_all_add_nli_instruct_politics_detail_v28/multitask_cls.pth.9'\n",
    "# model_path = '/data/albert.xht/xiaoda/risk_classification/topic_v4_update_green_v1_teenager_v1_porn_multitask_raw_filter_senti_query_risk_v13_intent_v2-1_10_no_symbol_senti_query_senta_green_mtdnn_add_hate_speech_detail_ethics_open_all_add_nli_instruct_politics_detail_v29/multitask_cls.pth.9'\n",
    "# model_path = '/data/albert.xht/xiaoda/risk_classification/topic_v4_update_green_v1_teenager_v1_porn_multitask_raw_filter_senti_query_risk_v13_intent_v2-1_10_no_symbol_senti_query_senta_green_mtdnn_add_hate_speech_detail_ethics_open_all_add_nli_instruct_politics_detail_v30/multitask_cls.pth.9'\n",
    "# model_path = '/data/albert.xht/xiaoda/risk_classification/topic_v4_update_green_v1_teenager_v1_porn_multitask_raw_filter_senti_query_risk_v13_intent_v2-1_10_no_symbol_senti_query_senta_green_mtdnn_add_hate_speech_detail_ethics_open_all_add_nli_instruct_politics_detail_mtdnn_v31/multitask_cls.pth.9'\n",
    "# model_path = '/data/albert.xht/xiaoda/risk_classification/topic_v4_update_green_v1_teenager_v1_porn_multitask_raw_filter_senti_query_risk_v13_intent_v2-1_10_no_symbol_senti_query_senta_green_mtdnn_add_hate_speech_detail_ethics_open_all_add_nli_instruct_politics_detail_mtdnn_v32/multitask_cls.pth.9'\n",
    "model_path = '/data/albert.xht/xiaoda/risk_classification/topic_v4_update_green_v1_teenager_v1_porn_multitask_raw_filter_senti_query_risk_v13_intent_v2-1_10_no_symbol_senti_query_senta_green_mtdnn_add_hate_speech_detail_ethics_open_all_add_nli_instruct_politics_detail_mtdnn_v33/multitask_cls.pth.9'\n",
    "green_green_topic_risk_open_all_politics_detail_api.reload(model_path)\n",
    "\n"
   ]
  },
  {
   "cell_type": "code",
   "execution_count": 7,
   "id": "8f17edad-2ef8-4ed2-8349-39365efc0e62",
   "metadata": {},
   "outputs": [],
   "source": [
    "# erine_green_green_topic_risk_open_all_politics_detail_api = RiskInfer('/root/xiaoda/query_topic/resources_open_all_politics_detail_erine/topic_query_risk/config.ini')\n",
    "# # model_path = '/data/albert.xht/xiaoda/risk_classification/topic_v4_update_green_v1_teenager_v1_porn_multitask_raw_filter_senti_query_risk_v13_intent_v2-1_10_no_symbol_senti_query_senta_green_mtdnn_add_hate_speech_detail_ethics_open_all_add_nli_instruct_politics_detail_v28/multitask_cls.pth.9'\n",
    "# model_path = '/data/albert.xht/xiaoda/risk_classification/erine/topic_v4_update_green_v1_teenager_v1_porn_multitask_raw_filter_senti_query_risk_v13_intent_v2-1_10_no_symbol_senti_query_senta_green_mtdnn_add_hate_speech_detail_ethics_open_all_add_nli_instruct_politics_detail_erine_v29/multitask_cls.pth.9'\n",
    "# erine_green_green_topic_risk_open_all_politics_detail_api.reload(model_path)\n",
    "\n"
   ]
  },
  {
   "cell_type": "code",
   "execution_count": 6,
   "id": "3335b959-207a-488b-b589-cabe295cce9c",
   "metadata": {},
   "outputs": [],
   "source": [
    "# roformer_green_green_topic_risk_open_all_politics_detail_api = RiskInfer('/root/xiaoda/query_topic/resources_open_all_politics_detail_roformer/topic_query_risk/config.ini')\n",
    "# # model_path = '/data/albert.xht/xiaoda/risk_classification/topic_v4_update_green_v1_tenager_v1_porn_multitask_raw_filter_senti_query_risk_v13_intent_v2-1_10_no_symbol_senti_query_senta_green_mtdnn_add_hate_speech_detail_ethics_open_all_add_nli_instruct_politics_detail_v28/multitask_cls.pth.9'\n",
    "# model_path = '/data/albert.xht/xiaoda/risk_classification/roformer/topic_v4_update_green_v1_teenager_v1_porn_multitask_raw_filter_senti_query_risk_v13_intent_v2-1_10_no_symbol_senti_query_senta_green_mtdnn_add_hate_speech_detail_ethics_open_all_add_nli_instruct_politics_detail_roformer_v29//multitask_cls.pth.9'\n",
    "# roformer_green_green_topic_risk_open_all_politics_detail_api.reload(model_path)\n",
    "\n"
   ]
  },
  {
   "cell_type": "code",
   "execution_count": 328,
   "id": "c6274c5a-35e6-4d6e-a487-7bc0f4124691",
   "metadata": {},
   "outputs": [
    {
     "name": "stderr",
     "output_type": "stream",
     "text": [
      "Truncation was not explicitly activated but `max_length` is provided a specific value, please use `truncation=True` to explicitly truncate examples to max length. Defaulting to 'longest_first' truncation strategy. If you encode pairs of sequences (GLUE-style) with the tokenizer you can select this strategy more precisely by providing a specific strategy to `truncation`.\n"
     ]
    },
    {
     "name": "stdout",
     "output_type": "stream",
     "text": [
      "0.014061212539672852\n"
     ]
    },
    {
     "data": {
      "text/plain": [
       "{'nli': [['neutral', 0.2437744140625],\n",
       "  ['entailment', 0.15966796875],\n",
       "  ['contradiction', 0.5966796875]],\n",
       " 'lcqmc': [['不相似', 0.90185546875], ['相似', 0.0982666015625]],\n",
       " 'yewu': [['导购', 0.9765625],\n",
       "  ['售后', 0.0181732177734375],\n",
       "  ['事实类', 0.00400543212890625],\n",
       "  ['竞对对比-物流', 0.0002853870391845703],\n",
       "  ['平台风险-裁员', 0.000171661376953125]],\n",
       " 'risk_news': [['无', 0.96630859375],\n",
       "  ['被政府职能部门处罚', 0.016265869140625],\n",
       "  ['环境污染', 0.01580810546875],\n",
       "  ['债务逾期', 0.0004153251647949219],\n",
       "  ['安全事故', 0.0004124641418457031]],\n",
       " 'tnews': [['家居', 0.82666015625],\n",
       "  ['社会', 0.1370849609375],\n",
       "  ['房产', 0.02923583984375],\n",
       "  ['时政', 0.0032253265380859375],\n",
       "  ['时尚', 0.0007696151733398438]],\n",
       " 'title2event': [['社会', 0.70361328125],\n",
       "  ['生活', 0.133544921875],\n",
       "  ['房产', 0.109375],\n",
       "  ['三农', 0.00894927978515625],\n",
       "  ['时事', 0.0087127685546875]],\n",
       " 'fewfc_2022': [['欠薪', 0.2425537109375],\n",
       "  ['债务违约', 0.09576416015625],\n",
       "  ['其他经营不善', 0.0938720703125],\n",
       "  ['责令改正', 0.05706787109375],\n",
       "  ['自然灾害', 0.047576904296875]],\n",
       " 'duee': [['灾害/意外-坍/垮塌', 0.9130859375],\n",
       "  ['灾害/意外-起火', 0.0312347412109375],\n",
       "  ['灾害/意外-爆炸', 0.0204010009765625],\n",
       "  ['财经/交易-出售/收购', 0.00307464599609375],\n",
       "  ['司法行为-起诉', 0.002735137939453125]],\n",
       " 'ethics_common': [['ethics_risk', 0.052337646484375],\n",
       "  ['ethics_safe', 0.94775390625]],\n",
       " 'insult': [['insult', 0.005542755126953125], ['no_insult', 0.99462890625]],\n",
       " 'humiliate': [['humiliate', 0.0144195556640625],\n",
       "  ['no_humiliate', 0.9853515625]],\n",
       " 'dehumanize': [['dehumanize', 0.042999267578125],\n",
       "  ['no_dehumanize', 0.95703125]],\n",
       " 'violence': [['violence', 0.152587890625], ['no_violence', 0.84716796875]],\n",
       " 'genocide': [['genocide', 0.120361328125], ['no_genocide', 0.8798828125]],\n",
       " 'hatespeech': [['hatespeech', 0.06427001953125],\n",
       "  ['no_hatespeech', 0.935546875]],\n",
       " 'attack_defend': [['attack_defend', 0.0160675048828125],\n",
       "  ['no_attack_defend', 0.98388671875]],\n",
       " 'query_resposne_risk': [['rejected', 0.00370025634765625],\n",
       "  ['chosen', 0.99609375]],\n",
       " 'cmid': [['治疗方法', 0.7275390625],\n",
       "  ['方法', 0.0965576171875],\n",
       "  ['病因', 0.039337158203125],\n",
       "  ['临床表现(病症表现)', 0.035125732421875],\n",
       "  ['无法确定', 0.02130126953125]],\n",
       " 'topic': [['家居装修', 0.72265625],\n",
       "  ['教育/科学', 0.0679931640625],\n",
       "  ['购房置业', 0.059783935546875],\n",
       "  ['常识', 0.040618896484375],\n",
       "  ['生活', 0.03582763671875]],\n",
       " 'senti_query': [['负向', 0.9921875],\n",
       "  ['中性', 0.007602691650390625],\n",
       "  ['正向', 0.00023186206817626953]],\n",
       " 'senti': [['负向', 0.994140625], ['正向', 0.00591278076171875]],\n",
       " 'bias': [['偏见', 0.0160980224609375], ['正常', 0.98388671875]],\n",
       " 'ciron': [['讽刺', 0.0657958984375], ['正常', 0.93408203125]],\n",
       " 'intent': [['主观评价/比较/判断', 1.3113021850585938e-06],\n",
       "  ['寻求建议/帮助', 1.0],\n",
       "  ['其它', 7.152557373046875e-06]],\n",
       " 'offensive': [['冒犯', 0.0107574462890625], ['正常', 0.9892578125]],\n",
       " 'query_risk': [['风险', 0.0018157958984375],\n",
       "  ['个人信息', 2.3245811462402344e-06],\n",
       "  ['正常', 0.998046875]],\n",
       " 'teenager': [['不良', 0.0147857666015625], ['正常', 0.9853515625]],\n",
       " 'politics': [['正常', 0.99951171875],\n",
       "  ['black_政府负面', 9.900331497192383e-05],\n",
       "  ['black_国家及政府形象', 4.8100948333740234e-05],\n",
       "  ['conditional_black_1号领导人', 2.8789043426513672e-05],\n",
       "  ['black_党和国家领导人负面', 2.47955322265625e-05]],\n",
       " 'porn': [['色情', 5.97834587097168e-05],\n",
       "  ['低俗', 0.001739501953125],\n",
       "  ['色情违禁', 8.416175842285156e-05],\n",
       "  ['正常', 0.998046875]],\n",
       " 'abusive': [['辱骂', 0.0014095306396484375],\n",
       "  ['口头语', 0.00664520263671875],\n",
       "  ['正常', 0.9921875]]}"
      ]
     },
     "execution_count": 328,
     "metadata": {},
     "output_type": "execute_result"
    }
   ],
   "source": [
    "import time\n",
    "start = time.time()\n",
    "allowed_schema_type = {\n",
    "    # 'topic':'',\n",
    "    # 'query_risk':'',\n",
    "    # 'porn':'',\n",
    "    # 'abusive':'',\n",
    "    # # 'offensive':'',\n",
    "    # 'intent':'',\n",
    "    # 'teenager':'',\n",
    "    # 'politics':''\n",
    "}\n",
    "allowed_schema_type = {}\n",
    "resp = green_green_topic_risk_open_all_politics_detail_api.predict(\"\"\"\n",
    "房屋墙裂缝怎么办\n",
    "\"\"\", \n",
    "                                                                   \n",
    "                                                                   allowed_schema_type=allowed_schema_type)\n",
    "print(time.time()-start)\n",
    "resp"
   ]
  },
  {
   "cell_type": "code",
   "execution_count": 273,
   "id": "81f547a6-5a7d-4c4b-8cb5-ad3926029dc1",
   "metadata": {},
   "outputs": [
    {
     "data": {
      "text/plain": [
       "{'input': '用一句话描述地球为什么是独一无二的。\\\\n\\n', 'target': '地球上有适宜生命存在的条件和多样化的生命形式。'}"
      ]
     },
     "execution_count": 273,
     "metadata": {},
     "output_type": "execute_result"
    }
   ],
   "source": []
  },
  {
   "cell_type": "code",
   "execution_count": 67,
   "id": "576ba842-1851-476e-9efd-2d77bdec8f09",
   "metadata": {},
   "outputs": [
    {
     "name": "stderr",
     "output_type": "stream",
     "text": [
      "21559it [04:11, 85.57it/s]\n"
     ]
    }
   ],
   "source": [
    "pattern = \"{}[SEP]{}\"\n",
    "from tqdm import tqdm\n",
    "with open('/root/xiaoda/safety_detection/tests/query_risk_cyber_security_counterfactual_result.json', 'w') as fwobj:\n",
    "    with open('/root/xiaoda/safety_detection/tests/query_risk_cyber_security_counterfactual.json') as frobj:\n",
    "        for line in tqdm(frobj):\n",
    "            content = json.loads(line.strip())\n",
    "            input_text = pattern.format(content['text'], content['counterfactual'])\n",
    "            resp = green_green_topic_risk_open_all_politics_detail_api.predict(input_text, allowed_schema_type={})\n",
    "            content['resp'] = resp\n",
    "            fwobj.write(json.dumps(content, ensure_ascii=False)+'\\n')\n",
    "        "
   ]
  },
  {
   "cell_type": "code",
   "execution_count": 71,
   "id": "fb306d4a-13a7-4e3b-a970-843cdd480cfa",
   "metadata": {},
   "outputs": [
    {
     "name": "stderr",
     "output_type": "stream",
     "text": [
      "21559it [00:04, 5336.22it/s]\n"
     ]
    }
   ],
   "source": [
    "d_list = []\n",
    "with open('/root/xiaoda/safety_detection/tests/query_risk_cyber_security_counterfactual_result.json') as frobj:\n",
    "    for line in tqdm(frobj):\n",
    "        content = json.loads(line.strip())\n",
    "        if content['resp']['nli'][1][1] > 0.7 or content['resp']['lcqmc'][1][1] > 0.7:\n",
    "            continue\n",
    "        d_list.append(content)\n",
    "with open('/root/xiaoda/safety_detection/tests/query_risk_cyber_security_counterfactual_filter.json', 'w') as fwobj:\n",
    "    for d in d_list:\n",
    "        dd = {\n",
    "            \n",
    "        }\n",
    "        for key in ['text', 'label', 'counterfactual']:\n",
    "            dd[key] = d[key]\n",
    "        fwobj.write(json.dumps(dd, ensure_ascii=False)+'\\n')"
   ]
  },
  {
   "cell_type": "code",
   "execution_count": 70,
   "id": "294f4f67-9750-4c3c-b4b2-c98610e2f602",
   "metadata": {},
   "outputs": [
    {
     "data": {
      "text/plain": [
       "17162"
      ]
     },
     "execution_count": 70,
     "metadata": {},
     "output_type": "execute_result"
    }
   ],
   "source": []
  },
  {
   "cell_type": "code",
   "execution_count": 57,
   "id": "4e685cb9-e16e-4d81-bad5-e41126700f76",
   "metadata": {},
   "outputs": [],
   "source": [
    "d_list = []\n",
    "with open('/root/xiaoda/safety_detection/tests/bocai_white.txt') as frobj:\n",
    "    for line in frobj:\n",
    "        d = line.strip()\n",
    "        import re\n",
    "        d_list.append(re.sub('^\\d+\\\\.', '', d))\n",
    "with open('/data/albert.xht/raw_chat_corpus/topic_classification_v4/biake_qa_web_text_zh_train.json.topic.knn.final.update.bocai.topic', 'w') as fwobj:\n",
    "    for _ in range(100):\n",
    "        d = {\n",
    "            'text':'德州扑克',\n",
    "            'label':['游戏']\n",
    "        }\n",
    "        fwobj.write(json.dumps(d, ensure_ascii=False)+'\\n')\n",
    "    for _ in range(100):\n",
    "        d = {\n",
    "            'text':'德州扑克怎么玩',\n",
    "            'label':['游戏']\n",
    "        }\n",
    "        fwobj.write(json.dumps(d, ensure_ascii=False)+'\\n')\n",
    "    for l in d_list:\n",
    "        d = {\n",
    "            'text':l,\n",
    "            'label':['游戏']\n",
    "        }\n",
    "        fwobj.write(json.dumps(d, ensure_ascii=False)+'\\n')\n",
    "with open('/data/albert.xht/raw_chat_corpus/topic_classification_v4/biake_qa_web_text_zh_train.json.topic.knn.final.update.bocai.query_risk', 'w') as fwobj:\n",
    "    for _ in range(100):\n",
    "        d = {\n",
    "            'text':'德州扑克',\n",
    "            'label':['正常']\n",
    "        }\n",
    "        fwobj.write(json.dumps(d, ensure_ascii=False)+'\\n')\n",
    "    for _ in range(100):\n",
    "        d = {\n",
    "            'text':'德州扑克怎么玩',\n",
    "            'label':['正常']\n",
    "        }\n",
    "        fwobj.write(json.dumps(d, ensure_ascii=False)+'\\n')\n",
    "    for l in d_list:\n",
    "        d = {\n",
    "            'text':l,\n",
    "            'label':['正常']\n",
    "        }\n",
    "        fwobj.write(json.dumps(d, ensure_ascii=False)+'\\n')"
   ]
  },
  {
   "cell_type": "code",
   "execution_count": null,
   "id": "2f6f0e22-1d29-4ebe-a9bb-99eaac666ab1",
   "metadata": {},
   "outputs": [],
   "source": [
    "import ijson, json\n",
    "p = 0\n",
    "with open('/data/albert.xht/raw_chat_corpus/baike2018qa/PsyQA_full.json', 'w') as fwobj:\n",
    "    with open(\"/data/albert.xht/pretrained_model_risk/corpus/PsyQA/PsyQA_full.json\", \"rb\") as f:\n",
    "        for idx, record in enumerate(ijson.items(f, \"item\")):\n",
    "            if record.get('question', ''):\n",
    "                item = {\n",
    "                    'title':record['question'],\n",
    "                    'desc':'',\n",
    "                    'category':'心理健康',\n",
    "                    'keywords':record['keywords']\n",
    "                }\n",
    "                fwobj.write(json.dumps(item, ensure_ascii=False)+'\\n')"
   ]
  },
  {
   "cell_type": "code",
   "execution_count": 187,
   "id": "0d4549c3-190c-4ec1-87df-9d385aac34cf",
   "metadata": {},
   "outputs": [
    {
     "data": {
      "text/plain": [
       "0.3203125"
      ]
     },
     "execution_count": 187,
     "metadata": {},
     "output_type": "execute_result"
    }
   ],
   "source": [
    "41/128"
   ]
  },
  {
   "cell_type": "code",
   "execution_count": 19,
   "id": "8a5564b5-5e55-4c4b-9889-c45eacddc45c",
   "metadata": {},
   "outputs": [
    {
     "name": "stdout",
     "output_type": "stream",
     "text": [
      "0.030021190643310547\n"
     ]
    },
    {
     "data": {
      "text/plain": [
       "{'nli': [['neutral', 0.37939453125],\n",
       "  ['entailment', 0.5322265625],\n",
       "  ['contradiction', 0.0885009765625]],\n",
       " 'lcqmc': [['不相似', 0.7802734375], ['相似', 0.219970703125]],\n",
       " 'yewu': [['事实类', 0.54443359375],\n",
       "  ['导购', 0.337890625],\n",
       "  ['售后', 0.07000732421875],\n",
       "  ['权益公平性', 0.0221099853515625],\n",
       "  ['平台风险-裁员', 0.0082855224609375]],\n",
       " 'risk_news': [['无', 1.0],\n",
       "  ['被政府职能部门处罚', 6.735324859619141e-06],\n",
       "  ['重大诉讼仲裁', 4.649162292480469e-06],\n",
       "  ['实控人变更', 2.9802322387695312e-06],\n",
       "  ['破产重整', 2.562999725341797e-06]],\n",
       " 'tnews': [['科技', 0.6376953125],\n",
       "  ['股票', 0.294921875],\n",
       "  ['教育', 0.02880859375],\n",
       "  ['体育', 0.011505126953125],\n",
       "  ['时政', 0.00860595703125]],\n",
       " 'title2event': [['科技', 0.5888671875],\n",
       "  ['教育', 0.134033203125],\n",
       "  ['社会', 0.0880126953125],\n",
       "  ['财经', 0.0797119140625],\n",
       "  ['时事', 0.06317138671875]],\n",
       " 'fewfc_2022': [['扰乱市场秩序', 0.1571044921875],\n",
       "  ['窃取别人商业机密', 0.10675048828125],\n",
       "  ['与其他机构合作', 0.0762939453125],\n",
       "  ['收购', 0.039642333984375],\n",
       "  ['责令改正', 0.03546142578125]],\n",
       " 'duee': [['产品行为-发布', 0.16796875],\n",
       "  ['产品行为-下架', 0.141357421875],\n",
       "  ['财经/交易-出售/收购', 0.11932373046875],\n",
       "  ['产品行为-召回', 0.0584716796875],\n",
       "  ['交往-道歉', 0.052947998046875]],\n",
       " 'ethics_common': [['ethics_risk', 0.00261688232421875],\n",
       "  ['ethics_safe', 0.99755859375]],\n",
       " 'insult': [['insult', 0.0015583038330078125], ['no_insult', 0.99853515625]],\n",
       " 'humiliate': [['humiliate', 0.004207611083984375],\n",
       "  ['no_humiliate', 0.99560546875]],\n",
       " 'dehumanize': [['dehumanize', 0.00881195068359375],\n",
       "  ['no_dehumanize', 0.9912109375]],\n",
       " 'violence': [['violence', 0.003757476806640625], ['no_violence', 0.99609375]],\n",
       " 'genocide': [['genocide', 0.0015974044799804688],\n",
       "  ['no_genocide', 0.99853515625]],\n",
       " 'hatespeech': [['hatespeech', 3.039836883544922e-06], ['no_hatespeech', 1.0]],\n",
       " 'attack_defend': [['attack_defend', 0.00449371337890625],\n",
       "  ['no_attack_defend', 0.99560546875]],\n",
       " 'query_resposne_risk': [['rejected', 0.01023101806640625],\n",
       "  ['chosen', 0.98974609375]],\n",
       " 'cmid': [['定义', 0.253662109375],\n",
       "  ['无法确定', 0.1451416015625],\n",
       "  ['临床表现(病症表现)', 0.0556640625],\n",
       "  ['价钱', 0.054931640625],\n",
       "  ['化验/体检方案', 0.05291748046875]],\n",
       " 'topic': [['教育/科学', 0.478271484375],\n",
       "  ['电脑/网络', 0.148193359375],\n",
       "  ['文化/艺术', 0.0740966796875],\n",
       "  ['社会', 0.0521240234375],\n",
       "  ['法律', 0.050201416015625]],\n",
       " 'senti_query': [['负向', 0.5244140625],\n",
       "  ['中性', 0.45947265625],\n",
       "  ['正向', 0.0161285400390625]],\n",
       " 'senti': [['负向', 0.88525390625], ['正向', 0.114501953125]],\n",
       " 'bias': [['偏见', 0.002719879150390625], ['正常', 0.9970703125]],\n",
       " 'ciron': [['讽刺', 0.089599609375], ['正常', 0.91015625]],\n",
       " 'intent': [['主观评价/比较/判断', 0.853515625],\n",
       "  ['寻求建议/帮助', 0.125732421875],\n",
       "  ['其它', 0.020751953125]],\n",
       " 'offensive': [['冒犯', 0.01551055908203125], ['正常', 0.984375]],\n",
       " 'query_risk': [['风险', 0.00027370452880859375],\n",
       "  ['个人信息', 1.7881393432617188e-07],\n",
       "  ['正常', 0.99951171875]],\n",
       " 'teenager': [['不良', 0.0041351318359375], ['正常', 0.99609375]],\n",
       " 'politics': [['正常', 1.0],\n",
       "  ['black_政府负面', 2.562999725341797e-05],\n",
       "  ['black_党和国家领导人负面', 1.7583370208740234e-05],\n",
       "  ['black_境外涉政', 6.854534149169922e-06],\n",
       "  ['black_国家及政府形象', 4.410743713378906e-06]],\n",
       " 'porn': [['色情', 2.866983413696289e-05],\n",
       "  ['低俗', 9.739398956298828e-05],\n",
       "  ['色情违禁', 1.3649463653564453e-05],\n",
       "  ['正常', 1.0]],\n",
       " 'abusive': [['辱骂', 3.170967102050781e-05],\n",
       "  ['口头语', 5.8531761169433594e-05],\n",
       "  ['正常', 1.0]]}"
      ]
     },
     "execution_count": 19,
     "metadata": {},
     "output_type": "execute_result"
    }
   ],
   "source": [
    "import time\n",
    "start = time.time()\n",
    "allowed_schema_type = {\n",
    "    # 'topic':'',\n",
    "    # 'query_risk':'',\n",
    "    # 'porn':'',\n",
    "    # 'abusive':'',\n",
    "    # # 'offensive':'',\n",
    "    # 'intent':'',\n",
    "    # 'teenager':'',\n",
    "    # 'politics':''\n",
    "}\n",
    "allowed_schema_type = {}\n",
    "resp = erine_green_green_topic_risk_open_all_politics_detail_api.predict(\"\"\"\n",
    "\n",
    "文本分类： 「你好，siri」，是「属于辱骂」还是「不属于辱骂」？\n",
    "\n",
    "\n",
    "\"\"\", allowed_schema_type=allowed_schema_type)\n",
    "print(time.time()-start)\n",
    "resp\n",
    "\n",
    "\n",
    "\n"
   ]
  },
  {
   "cell_type": "code",
   "execution_count": 196,
   "id": "da3d49cf-2529-4e3f-ab6e-2399c3625ca8",
   "metadata": {},
   "outputs": [
    {
     "ename": "NameError",
     "evalue": "name 'roformer_green_green_topic_risk_open_all_politics_detail_api' is not defined",
     "output_type": "error",
     "traceback": [
      "\u001b[0;31m---------------------------------------------------------------------------\u001b[0m",
      "\u001b[0;31mNameError\u001b[0m                                 Traceback (most recent call last)",
      "Cell \u001b[0;32mIn[196], line 14\u001b[0m\n\u001b[1;32m      3\u001b[0m allowed_schema_type \u001b[38;5;241m=\u001b[39m {\n\u001b[1;32m      4\u001b[0m     \u001b[38;5;66;03m# 'topic':'',\u001b[39;00m\n\u001b[1;32m      5\u001b[0m     \u001b[38;5;66;03m# 'query_risk':'',\u001b[39;00m\n\u001b[0;32m   (...)\u001b[0m\n\u001b[1;32m     11\u001b[0m     \u001b[38;5;66;03m# 'politics':''\u001b[39;00m\n\u001b[1;32m     12\u001b[0m }\n\u001b[1;32m     13\u001b[0m allowed_schema_type \u001b[38;5;241m=\u001b[39m {}\n\u001b[0;32m---> 14\u001b[0m resp \u001b[38;5;241m=\u001b[39m \u001b[43mroformer_green_green_topic_risk_open_all_politics_detail_api\u001b[49m\u001b[38;5;241m.\u001b[39mpredict(\u001b[38;5;124m\"\"\"\u001b[39m\n\u001b[1;32m     15\u001b[0m \n\u001b[1;32m     16\u001b[0m \u001b[38;5;124m文本分类： 「你好，siri」，是「属于辱骂」还是「不属于辱骂」？\u001b[39m\n\u001b[1;32m     17\u001b[0m \n\u001b[1;32m     18\u001b[0m \u001b[38;5;124m\"\"\"\u001b[39m, allowed_schema_type\u001b[38;5;241m=\u001b[39mallowed_schema_type)\n\u001b[1;32m     19\u001b[0m \u001b[38;5;28mprint\u001b[39m(time\u001b[38;5;241m.\u001b[39mtime()\u001b[38;5;241m-\u001b[39mstart)\n\u001b[1;32m     20\u001b[0m resp\n",
      "\u001b[0;31mNameError\u001b[0m: name 'roformer_green_green_topic_risk_open_all_politics_detail_api' is not defined"
     ]
    }
   ],
   "source": [
    "import time\n",
    "start = time.time()\n",
    "allowed_schema_type = {\n",
    "    # 'topic':'',\n",
    "    # 'query_risk':'',\n",
    "    # 'porn':'',\n",
    "    # 'abusive':'',\n",
    "    # # 'offensive':'',\n",
    "    # 'intent':'',\n",
    "    # 'teenager':'',\n",
    "    # 'politics':''\n",
    "}\n",
    "allowed_schema_type = {}\n",
    "resp = roformer_green_green_topic_risk_open_all_politics_detail_api.predict(\"\"\"\n",
    "\n",
    "文本分类： 「你好，siri」，是「属于辱骂」还是「不属于辱骂」？\n",
    "\n",
    "\"\"\", allowed_schema_type=allowed_schema_type)\n",
    "print(time.time()-start)\n",
    "resp\n",
    "\n",
    "\n",
    "\n",
    "\n"
   ]
  },
  {
   "cell_type": "code",
   "execution_count": 32,
   "id": "63fb738a-81df-4d37-add7-bfcb6848a521",
   "metadata": {},
   "outputs": [
    {
     "data": {
      "text/plain": [
       "'asdkfhjk '"
      ]
     },
     "execution_count": 32,
     "metadata": {},
     "output_type": "execute_result"
    }
   ],
   "source": [
    "import re\n",
    "text = re.sub(r\"([\\\\n\\n])+\", r\" \", 'asdkfhjk\\\\\\\\\\\\\\\\n')   # 合并正文中过多的空格\n",
    "text"
   ]
  },
  {
   "cell_type": "code",
   "execution_count": 93,
   "id": "d6856b9f-39f0-4dde-8278-d81aeee11e08",
   "metadata": {},
   "outputs": [
    {
     "data": {
      "text/plain": [
       "0.0025"
      ]
     },
     "execution_count": 93,
     "metadata": {},
     "output_type": "execute_result"
    }
   ],
   "source": [
    "5000/2000000"
   ]
  },
  {
   "cell_type": "code",
   "execution_count": 92,
   "id": "f7688171-6bfd-45cc-8a91-9f9e722e583b",
   "metadata": {},
   "outputs": [
    {
     "name": "stderr",
     "output_type": "stream",
     "text": [
      "100%|██████████| 1088/1088 [00:06<00:00, 156.08it/s]"
     ]
    },
    {
     "name": "stdout",
     "output_type": "stream",
     "text": [
      "              precision    recall  f1-score   support\n",
      "\n",
      "           0     0.0000    0.0000    0.0000         0\n",
      "           1     1.0000    0.7454    0.8541      1088\n",
      "\n",
      "    accuracy                         0.7454      1088\n",
      "   macro avg     0.5000    0.3727    0.4271      1088\n",
      "weighted avg     1.0000    0.7454    0.8541      1088\n",
      "\n"
     ]
    },
    {
     "name": "stderr",
     "output_type": "stream",
     "text": [
      "\n",
      "/opt/conda/lib/python3.8/site-packages/sklearn/metrics/_classification.py:1245: UndefinedMetricWarning: Recall and F-score are ill-defined and being set to 0.0 in labels with no true samples. Use `zero_division` parameter to control this behavior.\n",
      "  _warn_prf(average, modifier, msg_start, len(result))\n",
      "/opt/conda/lib/python3.8/site-packages/sklearn/metrics/_classification.py:1245: UndefinedMetricWarning: Recall and F-score are ill-defined and being set to 0.0 in labels with no true samples. Use `zero_division` parameter to control this behavior.\n",
      "  _warn_prf(average, modifier, msg_start, len(result))\n",
      "/opt/conda/lib/python3.8/site-packages/sklearn/metrics/_classification.py:1245: UndefinedMetricWarning: Recall and F-score are ill-defined and being set to 0.0 in labels with no true samples. Use `zero_division` parameter to control this behavior.\n",
      "  _warn_prf(average, modifier, msg_start, len(result))\n"
     ]
    }
   ],
   "source": [
    "\n",
    "import pandas as pd\n",
    "from tqdm import tqdm\n",
    "\n",
    "path = '/data/albert.xht/xiaoda/query_response/red_team/小达风险提问_2.xlsx'\n",
    "df = pd.read_excel(path)\n",
    "\n",
    "pred_query = []\n",
    "gold_query = []\n",
    "\n",
    "for i in tqdm(range(df.shape[0])):\n",
    "    content = df.loc[i] \n",
    "    resp = green_green_topic_risk_api.predict(str(content['query']), allowed_schema_type={})\n",
    "    if (resp['query_risk'][0][1]+resp['query_risk'][1][1]) > 0.6:\n",
    "        pred_query.append(1)\n",
    "    else:\n",
    "        pred_query.append(0)\n",
    "    gold_query.append(1)\n",
    "\n",
    "from sklearn.metrics import classification_report\n",
    "\n",
    "print(classification_report(gold_query, pred_query, digits=4))\n",
    "\n"
   ]
  },
  {
   "cell_type": "code",
   "execution_count": null,
   "id": "fd5516f6-dd5e-4143-8b45-7615b72762ee",
   "metadata": {},
   "outputs": [],
   "source": [
    "\n",
    "path = [\n",
    "    ''\n",
    "]\n",
    "\n"
   ]
  },
  {
   "cell_type": "code",
   "execution_count": 200,
   "id": "cb099216-be79-48ca-8cc2-1fb7f2972eaf",
   "metadata": {},
   "outputs": [],
   "source": [
    "import _pickle as pkl\n",
    "\n",
    "theme_intent = pkl.load(open('/root/xiaoda/safety_detection/resources_open_all/dict_data/theme_intent_risk.pkl', 'rb'))"
   ]
  },
  {
   "cell_type": "code",
   "execution_count": 201,
   "id": "e0e7d35a-c5e3-4916-bae8-d6b9706af9a3",
   "metadata": {},
   "outputs": [],
   "source": [
    "theme_intent = pkl.load(open('/root/xiaoda/safety_detection/resources_open_all/dict_data/theme_intent_risk.pkl', 'rb'))"
   ]
  },
  {
   "cell_type": "code",
   "execution_count": 335,
   "id": "3aa793a7-edb6-41be-863c-52abda542540",
   "metadata": {},
   "outputs": [],
   "source": [
    "theme_intent[('健康', '主观评价/比较/判断')] = 0\n",
    "theme_intent[('健康', '寻求建议/帮助')] = 0\n",
    "theme_intent[('健康', '其他')] = 0\n",
    "\n",
    "theme_intent[('公司', '主观评价/比较/判断')] = 1\n",
    "theme_intent[('公司', '寻求建议/帮助')] = 1\n",
    "theme_intent[('公司', '其他')] = 0\n",
    "\n",
    "theme_intent[('历史', '主观评价/比较/判断')] = 1\n",
    "theme_intent[('历史', '寻求建议/帮助')] = 1\n",
    "theme_intent[('历史', '其他')] = 0\n",
    "\n",
    "theme_intent[('股票', '主观评价/比较/判断')] = 1\n",
    "theme_intent[('股票', '寻求建议/帮助')] = 1\n",
    "theme_intent[('股票', '其他')] = 0\n",
    "\n",
    "theme_intent[('金融', '主观评价/比较/判断')] = 1\n",
    "theme_intent[('金融', '寻求建议/帮助')] = 1\n",
    "theme_intent[('金融', '其他')] = 0\n",
    "\n",
    "theme_intent[('保险', '主观评价/比较/判断')] = 1\n",
    "theme_intent[('保险', '寻求建议/帮助')] = 1\n",
    "theme_intent[('保险', '其他')] = 0\n",
    "\n",
    "theme_intent[('基金', '主观评价/比较/判断')] = 1\n",
    "theme_intent[('基金', '寻求建议/帮助')] = 1\n",
    "theme_intent[('基金', '其他')] = 0\n",
    "\n",
    "theme_intent[('法律', '主观评价/比较/判断')] = 1\n",
    "theme_intent[('法律', '寻求建议/帮助')] = 1\n",
    "theme_intent[('法律', '其他')] = 0\n",
    "\n",
    "pkl.dump(theme_intent, open('/root/xiaoda/safety_detection/resources/dict_data/theme_intent_risk.pkl', 'wb'))\n",
    "pkl.dump(theme_intent, open('/root/xiaoda/safety_detection/resources_open/dict_data/theme_intent_risk.pkl', 'wb'))\n",
    "pkl.dump(theme_intent, open('/root/xiaoda/safety_detection/resources_open_all/dict_data/theme_intent_risk.pkl', 'wb'))\n",
    "pkl.dump(theme_intent, open('/root/xiaoda/safety_detection/resources_open_all_politics_detail/dict_data/theme_intent_risk.pkl', 'wb'))"
   ]
  },
  {
   "cell_type": "code",
   "execution_count": 194,
   "id": "4c3e11b5-42b0-4369-82c8-f97bf160de59",
   "metadata": {},
   "outputs": [],
   "source": [
    "import _pickle as pkl\n",
    "\n",
    "theme_common = {}\n",
    "strict_theme = ['法律', '金融', '银行', '保险', '基金', '商业/理财', '股票']\n",
    "soft_theme = ['职场职业', '校园生活', '编程', '游戏', '语言', '人际交往', '阅读', '电脑/网络', '电影', '教育/科学',\n",
    "             '文化/艺术', '电脑/网络', '美容/塑身']\n",
    "\n",
    "for strict in strict_theme:\n",
    "    for soft in soft_theme:\n",
    "        theme_common[(strict, soft)] = -1\n",
    "pkl.dump(theme_common, open('/root/xiaoda/safety_detection/resources/dict_data/theme_common_risk.pkl', 'wb'))\n",
    "pkl.dump(theme_common, open('/root/xiaoda/safety_detection/resources_open_all/dict_data/theme_common_risk.pkl', 'wb'))\n",
    "\n"
   ]
  },
  {
   "cell_type": "code",
   "execution_count": 6,
   "id": "22b19afe-bf3a-4158-b445-06da22021161",
   "metadata": {},
   "outputs": [
    {
     "data": {
      "text/plain": [
       "['我', '想', '买', 'k粉']"
      ]
     },
     "execution_count": 6,
     "metadata": {},
     "output_type": "execute_result"
    }
   ],
   "source": [
    "import jieba\n",
    "jieba.add_word('k粉')\n",
    "\n",
    "list(jieba.cut('我想买k粉'))"
   ]
  },
  {
   "cell_type": "code",
   "execution_count": 215,
   "id": "e871f670-8689-424d-b62f-1010c813e67e",
   "metadata": {},
   "outputs": [],
   "source": [
    "import _pickle as pkl\n",
    "\n",
    "tnews_title2event_common = {}\n",
    "tnews_title2event_common[('时政', '时事')] = 2\n",
    "tnews_title2event_common[('时政', '历史')] = 2\n",
    "tnews_title2event_common[('时政', '社会')] = 2\n",
    "tnews_title2event_common[('时政', '财经')] = 2\n",
    "tnews_title2event_common[('股票', '财经')] = 1\n",
    "tnews_title2event_common[('财经', '财经')] = 1\n",
    "# tnews_title2event_common[('社会', '社会')] = 2\n",
    "\n",
    "\n",
    "tnews_title2event_common['时事'] = 2\n",
    "tnews_title2event_common['军事'] = 2\n",
    "\n",
    "tnews_title2event_common['时政'] = 2\n",
    "# tnews_title2event_common['社会'] = 2\n",
    "tnews_title2event_common['财经'] = 1\n",
    "# tnews_title2event_common['股票'] = 2\n",
    "# tnews_title2event_common['健康'] = 2\n",
    "\n",
    "t = ['职场职业', '校园生活', '编程', '游戏', '语言', '人际交往', '阅读', '电脑/网络', '电影', '教育/科学',\n",
    "             '文化/艺术', '电脑/网络']\n",
    "\n",
    "tnews_title2event_common['topic'] = {}\n",
    "for k in t:\n",
    "    tnews_title2event_common['topic'][k] = -1\n",
    "\n",
    "# pkl.dump(tnews_title2event_common, open('/root/xiaoda/safety_detection/resources_open_all/dict_data/tnews_title2event_risk.pkl', 'wb'))\n",
    "pkl.dump(tnews_title2event_common, open('/root/xiaoda/safety_detection/resources_open_all_politics_detail/dict_data/tnews_title2event_risk.pkl', 'wb'))"
   ]
  },
  {
   "cell_type": "code",
   "execution_count": 2,
   "id": "d9575407-3ebd-4a44-a5b3-3cae3caf8d35",
   "metadata": {},
   "outputs": [
    {
     "data": {
      "text/plain": [
       "''"
      ]
     },
     "execution_count": 2,
     "metadata": {},
     "output_type": "execute_result"
    }
   ],
   "source": [
    "import re\n",
    "\n",
    "re.sub(r\"([，\\_《。》、？；：‘’＂“”【「】」·！@￥…（）—\\,\\<\\.\\>\\/\\?\\;\\:\\'\\\"\\[\\]\\{\\}\\~\\`\\!\\@\\#\\$\\%\\^\\&\\*\\(\\)\\-\\=\\+\\s\\t])+\", \"\", \"    \")\n"
   ]
  },
  {
   "cell_type": "code",
   "execution_count": 23,
   "id": "3fc6d300-59e0-4f09-a7ec-fd1d86cca115",
   "metadata": {},
   "outputs": [],
   "source": [
    "import _pickle as pkl\n",
    "risk_news = {}\n",
    "\n",
    "risk_keys = ['高层失联/死亡', '重大赔付', '债务违约', '违规催收', '公司停牌', \n",
    "             '高层涉嫌违法', '造假欺诈', '公司退市', '网站安全漏洞', '企业被问询约谈审查', \n",
    "             '扰乱市场秩序', '破产清算', '员工罢工示威', '偷税漏税', '财务信息造假', \n",
    "             '股权查封', '重大资产损失', '产品违约/不足额兑付', '信息泄露', \n",
    "             '被列为失信被执行人', '窃取别人商业机密', '责令改正', '内幕交易',\n",
    "             '没收违法所得和非法财物', '资产冻结', '实际控制人涉诉仲裁', '裁员', '罚款', \n",
    "             '实际控制人涉嫌违法', '公司涉及黄赌毒', '公司违规关联交易', '骗保', '终身禁入行业', \n",
    "             '公司注销', '产品召回', '自然灾害', '股东利益斗争', '欺诈', '暂停上市', '禁入行业', \n",
    "             '被举牌', '实际控制人失联/死亡', '出具虚假证明', '评级机构中止评级', '吊销资质牌照', \n",
    "             '产品虚假宣传', '分支机构被警方调查', '非法集资',\n",
    "            '停产停业', '发放贷款出现坏账', '行政处分', '实际控制人违规',\n",
    "             '承担赔偿责任', '重大安全事故', '公司涉及传销', \n",
    "             '组织关系-裁员', '司法行为-约谈', '灾害/意外-坍/垮塌', '组织关系-解约',\n",
    "             '灾害/意外-爆炸', '人生-失联', '司法行为-拘捕', '组织关系-退出', '灾害/意外-洪灾',\n",
    "             '组织行为-游行', '司法行为-入狱', '司法行为-举报', '灾害/意外-起火', '灾害/意外-车祸',\n",
    "             '人生-死亡', '人生-离婚', '组织关系-辞/离职', '组织关系-加盟', '组织关系-停职', '组织关系-解散',\n",
    "            '司法行为-起诉', '产品行为-下架', '司法行为-开庭', '司法行为-立案', '司法行为-罚款',\n",
    "             '灾害/意外-坠机', '灾害/意外-洪灾',\n",
    "             '环境污染', '破产重整', '被采取监管措施', '主板/创业板/中小板/债券退市', '重大诉讼仲裁', '信息披露违规', '被政府职能部门处罚',\n",
    "             '安全事故'\n",
    "            ]\n",
    "\n",
    "for key in risk_keys:\n",
    "    risk_news[key] = 2\n",
    "pkl.dump(risk_news, open('/root/xiaoda/safety_detection/resources/dict_data/risk_news_risk.pkl', 'wb'))\n",
    "pkl.dump(risk_news, open('/root/xiaoda/safety_detection/resources_open/dict_data/risk_news_risk.pkl', 'wb'))\n",
    "pkl.dump(risk_news, open('/root/xiaoda/safety_detection/resources_open_all/dict_data/risk_news_risk.pkl', 'wb'))\n",
    "\n",
    "\n",
    "yewu_risk_keys = ['平台风险-假货', '平台风险-业务', '平台风险-品质', '个性化退出',\n",
    "             '竞对对比-其他', '平台风险-隐私', '权益公平性', '平台风险-价格', '平台风险-搜推体验', \n",
    "             '竞对对比-价格', '平台风险-个性化', '平台风险-售后', '平台风险-违禁品', '广告外投',\n",
    "             '平台风险-权益公平', '平台风险-开屏广告', '平台风险', '竞对对比-物流']\n",
    "yewu_risk = {}\n",
    "for key in yewu_risk_keys:\n",
    "    yewu_risk[key] = 2\n",
    "pkl.dump(yewu_risk, open('/root/xiaoda/safety_detection/resources/dict_data/yewu_risk.pkl', 'wb'))\n",
    "pkl.dump(yewu_risk, open('/root/xiaoda/safety_detection/resources_open/dict_data/yewu_risk.pkl', 'wb'))\n",
    "pkl.dump(yewu_risk, open('/root/xiaoda/safety_detection/resources_open_all/dict_data/yewu_risk.pkl', 'wb'))"
   ]
  },
  {
   "cell_type": "code",
   "execution_count": 2,
   "id": "b75a6f32-0e16-4ab6-8205-4d6baeca6108",
   "metadata": {},
   "outputs": [],
   "source": [
    "import _pickle as pkl\n",
    "\n",
    "hatespeech = {\n",
    "    'insult':0.9,\n",
    "    'humiliate':0.9,\n",
    "    'dehumanize': 0.8,\n",
    "    'violence': 0.8,\n",
    "    'genocide': 0.8,\n",
    "    'hatespeech':0.8\n",
    "}\n",
    "\n",
    "pkl.dump(hatespeech, open('/root/xiaoda/safety_detection/resources/dict_data/hatespeech_risk.pkl', 'wb'))\n",
    "pkl.dump(hatespeech, open('/root/xiaoda/safety_detection/resources_open/dict_data/hatespeech_risk.pkl', 'wb'))\n",
    "\n",
    "pkl.dump(hatespeech, open('/root/xiaoda/safety_detection/resources_open_all/dict_data/hatespeech_risk.pkl', 'wb'))\n"
   ]
  },
  {
   "cell_type": "code",
   "execution_count": 28,
   "id": "aa8d9a53-573d-459c-a856-375a7c8de481",
   "metadata": {},
   "outputs": [
    {
     "data": {
      "text/plain": [
       "0.8477876106194691"
      ]
     },
     "execution_count": 28,
     "metadata": {},
     "output_type": "execute_result"
    }
   ],
   "source": [
    "479/565"
   ]
  },
  {
   "cell_type": "code",
   "execution_count": 333,
   "id": "8390f799-5c9b-4a76-bfe6-79aebae492fa",
   "metadata": {},
   "outputs": [],
   "source": [
    "\n",
    "cmid_label = []\n",
    "theme = ['健康', '育儿']\n",
    "cmid_theme = {}\n",
    "\n",
    "with open('/data/albert.xht/xiaoda/sentiment/CMID-main/cmid_label_list.txt') as frobj:\n",
    "    for line in frobj:\n",
    "        label = line.strip()\n",
    "        if label in ['定义', '养生']:\n",
    "            for t in theme:\n",
    "                cmid_theme[(t, label)] = 0\n",
    "        else:\n",
    "            for t in theme:\n",
    "                cmid_theme[(t, label)] = 1\n",
    "        cmid_theme[('其他', label)] = 0\n",
    "\n",
    "pkl.dump(cmid_theme, open('/root/xiaoda/safety_detection/resources_open_all/dict_data/cmid_theme_risk.pkl', 'wb'))\n",
    "pkl.dump(cmid_theme, open('/root/xiaoda/safety_detection/resources_open_all_politics_detail/dict_data/cmid_theme_risk.pkl', 'wb'))"
   ]
  },
  {
   "cell_type": "code",
   "execution_count": 22,
   "id": "a0fc2589-b79c-4e13-a04c-1eecae407971",
   "metadata": {},
   "outputs": [
    {
     "data": {
      "text/plain": [
       "132.66666666666666"
      ]
     },
     "execution_count": 22,
     "metadata": {},
     "output_type": "execute_result"
    }
   ],
   "source": []
  },
  {
   "cell_type": "code",
   "execution_count": 21,
   "id": "8bf01910-0a78-47b4-831d-4ee5e79c5fcd",
   "metadata": {},
   "outputs": [],
   "source": [
    "s = {\"query\": \"啊，这个有问题怎么了\", \"response\": \"我喜欢上一个女孩子\", \"safety\": {\"safety_value\": \"unsafe\", \"response\": \"我喜欢上一个女孩子\", \"algo_result\": {\"algo_version\": \"v_20230201\", \"result_details\": [{\"yewu\": [\"售后: 0.9970703125\", \"导购: 0.0008358955383300781\"], \"risk_news\": [\"重大诉讼仲裁: 0.38916015625\", \"债务逾期: 0.1669921875\"], \"tnews\": [\"家居: 0.4013671875\", \">科技: 0.300048828125\"], \"title2event\": [\"社会: 0.166015625\", \"财经: 0.1619873046875\"], \"fewfc_2022\": [\"企业被问询约谈审查: 0.266845703125\", \"债务违约: 0.056182861328125\"], \"duee\": [\"交往-道歉: 0.171142578125\", \"组织关系-解散: 0.161376953125\"], \"ethics_common\": \"ethics_safe: 0.72265625\", \"insult\": \"no_insult: 0.5771484375\", \"humiliate\": \"no_humiliate: 0.69189453125\", \"dehumanize\": \"no_dehumanize: 0.81396484375\", \"violence\": \"no_violence: 0.98876953125\", \"genocide\": \"no_genocide: 0.99609375\", \"hatespeech\": \"no_hatespeech: 1.0\", \"attack_defend\": \"no_attack_defend: 0.58154296875\", \"query_resposne_risk\": \"chosen: 0.95947265625\", \"cmid\": [\"病因: 0.330810546875\", \"临床表现(病症表现): 0.248779296875\"], \"topic\": [\"电脑/网络: 0.5166015625\", \"游戏: 0.396240234375\"], \"senti_query\": \"负向: 0.9736328125\", \"senti\": \"负向: 0.99267578125\", \"bias\": \"正常: 0.99560546875\", \"ciron\": \"正常: 0.96728515625\", \"intent\": \"其它: 0.66455078125\", \"offensive\": \"正常: 0.98388671875\", \"query_risk\": \"正常: 0.99951171875\", \"teenager\": \"正常: 0.994140625\", \"politics\": \"正常: 0.99560546875\", \"porn\": \"正常: 0.99755859375\", \"abusive\": \"正常: 0.98828125\", \"text\": \"啊这个有问题怎么了\", \"vote_result\": {\"senti_query & senti\": 1, \"yewu-risk\": 2}}, {\"yewu\": [\"导购: 0.99951171875\", \"竞对对比-价格: 6.186962127685547e-05\"], \"risk_news\": [\"实控人变更: 0.438232421875\", \"无: 0.215576171875\"], \"tnews\": [\"家居: 0.234619140625\", \"时尚: 0.224365234375\"], \"title2event\": [\"体育: 0.360595703125\", \"健康: 0.1591796875\"], \"fewfc_2022\": [\"高层变更: 0.123046875\", \"市值上升: 0.05926513671875\"], \"duee\": [\"人生-分手: 0.26220703125\", \"人生-结婚: 0.1593017578125\"], \"ethics_common\": \"ethics_safe: 0.73388671875\", \"insult\":\"no_insult: 0.8974609375\", \"humiliate\": \"no_humiliate: 0.92919921875\", \"dehumanize\": \"no_dehumanize: 0.95361328125\", \"violence\": \"no_violence: 0.99560546875\", \"genocide\": \"no_genocide: 0.99951171875\", \"hatespeech\": \"no_hatespeech: 1.0\", \"attack_defend\": \"no_attack_defend: 0.96044921875\", \"query_resposne_risk\": \"rejected: 0.71826171875\", \"cmid\": [\"无法确定: 0.34765625\", \">临床表现(病症表现): 0.200439453125\"], \"topic\": [\"恋爱: 0.8662109375\", \"情感: 0.04132080078125\"], \"senti_query\": \"正向: 0.9228515625\", \"senti\": \"正向: 0.9794921875\", \"bias\": \"正常: 0.6435546875\", \"ciron\": \"正常: 0.97216796875\", \"intent\": \"主观评价/比较/判断: 0.61572265625\", \"offensive\": \"正常: 0.99462890625\", \"query_risk\": \"正常: 0.9775390625\", \"teenager\": \"正常: 0.8857421875\", \"politics\": \"正常: 1.0\", \"porn\": \"正常: 0.8193359375\", \"abusive\": \"正常: 0.99560546875\", \"text\": \"我喜欢上一个女孩子\", \"vote_result\": []}]}, \"success\": True, \"ext_msg\": \"\"}}"
   ]
  },
  {
   "cell_type": "code",
   "execution_count": 22,
   "id": "3319a644-494d-4d52-8a3a-b79d3c7b1106",
   "metadata": {},
   "outputs": [
    {
     "data": {
      "text/plain": [
       "{'query': '啊，这个有问题怎么了',\n",
       " 'response': '我喜欢上一个女孩子',\n",
       " 'safety': {'safety_value': 'unsafe',\n",
       "  'response': '我喜欢上一个女孩子',\n",
       "  'algo_result': {'algo_version': 'v_20230201',\n",
       "   'result_details': [{'yewu': ['售后: 0.9970703125',\n",
       "      '导购: 0.0008358955383300781'],\n",
       "     'risk_news': ['重大诉讼仲裁: 0.38916015625', '债务逾期: 0.1669921875'],\n",
       "     'tnews': ['家居: 0.4013671875', '>科技: 0.300048828125'],\n",
       "     'title2event': ['社会: 0.166015625', '财经: 0.1619873046875'],\n",
       "     'fewfc_2022': ['企业被问询约谈审查: 0.266845703125', '债务违约: 0.056182861328125'],\n",
       "     'duee': ['交往-道歉: 0.171142578125', '组织关系-解散: 0.161376953125'],\n",
       "     'ethics_common': 'ethics_safe: 0.72265625',\n",
       "     'insult': 'no_insult: 0.5771484375',\n",
       "     'humiliate': 'no_humiliate: 0.69189453125',\n",
       "     'dehumanize': 'no_dehumanize: 0.81396484375',\n",
       "     'violence': 'no_violence: 0.98876953125',\n",
       "     'genocide': 'no_genocide: 0.99609375',\n",
       "     'hatespeech': 'no_hatespeech: 1.0',\n",
       "     'attack_defend': 'no_attack_defend: 0.58154296875',\n",
       "     'query_resposne_risk': 'chosen: 0.95947265625',\n",
       "     'cmid': ['病因: 0.330810546875', '临床表现(病症表现): 0.248779296875'],\n",
       "     'topic': ['电脑/网络: 0.5166015625', '游戏: 0.396240234375'],\n",
       "     'senti_query': '负向: 0.9736328125',\n",
       "     'senti': '负向: 0.99267578125',\n",
       "     'bias': '正常: 0.99560546875',\n",
       "     'ciron': '正常: 0.96728515625',\n",
       "     'intent': '其它: 0.66455078125',\n",
       "     'offensive': '正常: 0.98388671875',\n",
       "     'query_risk': '正常: 0.99951171875',\n",
       "     'teenager': '正常: 0.994140625',\n",
       "     'politics': '正常: 0.99560546875',\n",
       "     'porn': '正常: 0.99755859375',\n",
       "     'abusive': '正常: 0.98828125',\n",
       "     'text': '啊这个有问题怎么了',\n",
       "     'vote_result': {'senti_query & senti': 1, 'yewu-risk': 2}},\n",
       "    {'yewu': ['导购: 0.99951171875', '竞对对比-价格: 6.186962127685547e-05'],\n",
       "     'risk_news': ['实控人变更: 0.438232421875', '无: 0.215576171875'],\n",
       "     'tnews': ['家居: 0.234619140625', '时尚: 0.224365234375'],\n",
       "     'title2event': ['体育: 0.360595703125', '健康: 0.1591796875'],\n",
       "     'fewfc_2022': ['高层变更: 0.123046875', '市值上升: 0.05926513671875'],\n",
       "     'duee': ['人生-分手: 0.26220703125', '人生-结婚: 0.1593017578125'],\n",
       "     'ethics_common': 'ethics_safe: 0.73388671875',\n",
       "     'insult': 'no_insult: 0.8974609375',\n",
       "     'humiliate': 'no_humiliate: 0.92919921875',\n",
       "     'dehumanize': 'no_dehumanize: 0.95361328125',\n",
       "     'violence': 'no_violence: 0.99560546875',\n",
       "     'genocide': 'no_genocide: 0.99951171875',\n",
       "     'hatespeech': 'no_hatespeech: 1.0',\n",
       "     'attack_defend': 'no_attack_defend: 0.96044921875',\n",
       "     'query_resposne_risk': 'rejected: 0.71826171875',\n",
       "     'cmid': ['无法确定: 0.34765625', '>临床表现(病症表现): 0.200439453125'],\n",
       "     'topic': ['恋爱: 0.8662109375', '情感: 0.04132080078125'],\n",
       "     'senti_query': '正向: 0.9228515625',\n",
       "     'senti': '正向: 0.9794921875',\n",
       "     'bias': '正常: 0.6435546875',\n",
       "     'ciron': '正常: 0.97216796875',\n",
       "     'intent': '主观评价/比较/判断: 0.61572265625',\n",
       "     'offensive': '正常: 0.99462890625',\n",
       "     'query_risk': '正常: 0.9775390625',\n",
       "     'teenager': '正常: 0.8857421875',\n",
       "     'politics': '正常: 1.0',\n",
       "     'porn': '正常: 0.8193359375',\n",
       "     'abusive': '正常: 0.99560546875',\n",
       "     'text': '我喜欢上一个女孩子',\n",
       "     'vote_result': []}]},\n",
       "  'success': True,\n",
       "  'ext_msg': ''}}"
      ]
     },
     "execution_count": 22,
     "metadata": {},
     "output_type": "execute_result"
    }
   ],
   "source": [
    "s\n",
    "            \n",
    "        \n",
    "        "
   ]
  },
  {
   "cell_type": "code",
   "execution_count": 32,
   "id": "321c982e-56aa-456c-a6e7-bd5f44ebe024",
   "metadata": {},
   "outputs": [
    {
     "name": "stderr",
     "output_type": "stream",
     "text": [
      "100%|██████████| 4600/4600 [00:05<00:00, 842.09it/s]\n"
     ]
    }
   ],
   "source": [
    "import pandas as pd\n",
    "\n",
    "label = set()\n",
    "\n",
    "df = pd.read_excel('/data/albert.xht/xiaoda/query_response/red_team/wdj/mention_to_wdj_query_0313.xlsx')\n",
    "with open('/data/albert.xht/xiaoda/sentiment/wdj/train.txt', 'w') as fwobj:\n",
    "    for index in tqdm(range(df.shape[0])):\n",
    "        if isinstance(df.loc[index]['outputs'], str):\n",
    "            sent_list = df.loc[index]['outputs'].split('###')\n",
    "            result = []\n",
    "            for sent in sent_list:\n",
    "                d = {\n",
    "                    'text':sent,\n",
    "                    'label':eval(df.loc[index]['risk_point'])\n",
    "                }\n",
    "                label.add(eval(df.loc[index]['risk_point'])[0])\n",
    "                fwobj.write(json.dumps(d, ensure_ascii=False)+'\\n')\n",
    "with open('/data/albert.xht/xiaoda/sentiment/wdj/wdj_label_list.txt', 'w') as fwobj:\n",
    "    for l in label:\n",
    "        fwobj.write(l+'\\n')"
   ]
  },
  {
   "cell_type": "code",
   "execution_count": 19,
   "id": "e9de5dfd-6d91-4ea1-a512-221643de139b",
   "metadata": {},
   "outputs": [],
   "source": [
    "s = {\"query\": \"猫精灵应该不行吧猫精\", \"response\": \"主人\", \"safety\": {\"safety_value\": \"unsafe\", \"response\": \"主人\", \"algo_result\": {\"algo_version\": \"v_20230201\", \"result_details\": [{\"yewu\": [\"售后: 0.70458984375\", \"导购: 0.277099609375\"], \"risk_news\": [\"重大诉讼仲裁: 0.303955078125\", \"被采取监管措施: 0.177490234375\"], \"tnews\": [\"科技: 0.69580078125\", \"游戏: 0.15625\"], \"title2event\": [\"宠物: 0.5546875\", \"科技: 0.12066650390625\"], \"fewfc_2022\": [\"经营亏损: 0.1424560546875\", \"造假欺诈: 0.046600341796875\"], \"duee\": [\"产品行为-下架: 0.72998046875\", \"产品行为-发布: 0.12469482421875\"], \"ethics_common\": \"ethics_risk: 0.6005859375\", \"insult\": \"insult: 0.58349609375\", \"humiliate\": \"no_humiliate: 0.595703125\", \"dehumanize\": \"no_dehumanize: 0.67431640625\", \"violence\": \"no_violence: 0.986328125\", \"genocide\": \"no_genocide: 0.99658203125\", \"hatespeech\": \"no_hatespeech: 1.0\", \"attack_defend\": \"attack_defend: 0.5068359375\", \"query_resposne_risk\": \"chosen: 0.71533203125\", \"cmid\": [\"无法确定: 0.5009765625\", \"临床表现(病症表现): 0.121337890625\"], \"topic\": [\"宠物: 0.75341796875\", \"游戏: 0.11334228515625\"], \"senti_query\": \"负向: 0.7548828125\", \"senti\": \"负向: 0.9375\", \"bias\": \"正常: 0.9765625\", \"ciron\": \"正常: 0.78466796875\", \"intent\": \"其它: 0.71533203125\", \"offensive\": \"正常: 0.93115234375\", \"query_risk\": \"正常: 0.9658203125\", \"teenager\": \"正常: 0.98291015625\", \"politics\": \"正常: 0.998046875\", \"porn\": \"正常: 0.990234375\", \"abusive\": \"正常: 0.994140625\", \"text\": \"猫精灵应该不行吧猫精\", \"vote_result\": {\"ethics_common\": 1, \"risk_news\": 2.0, \"yewu-risk\": 2}}, {\"yewu\": [\"导购: 1.0\", \"售后: 2.300739288330078e-05\"], \"risk_news\": [\"实控人变更: 0.59814453125\", \"破产重整: 0.130126953125\"], \"tnews\": [\"家居: 0.666015625\", \"科技: 0.137939453125\"], \"title2event\": [\"社会: 0.794921875\", \"旅游: 0.04559326171875\"], \"fewfc_2022\": [\"高层变更: 0.1331787109375\", \"实际控制人变更: 0.12841796875\"], \"duee\": [\"财经/交易-融资: 0.08343505859375\", \"产品行为-获奖: 0.08013916015625\"], \"ethics_common\": \"ethics_safe: 0.875\", \"insult\": \"no_insult: 0.625\", \"humiliate\": \"no_humiliate: 0.75830078125\", \"dehumanize\": \"no_dehumanize: 0.845703125\", \"violence\": \"no_violence: 0.98291015625\", \"genocide\": \"no_genocide: 0.9970703125\", \"hatespeech\": \"no_hatespeech: 1.0\", \"attack_defend\": \"no_attack_defend: 0.74169921875\", \"query_resposne_risk\": \"rejected: 0.728515625\", \"cmid\": [\"无法确定: 0.4736328125\", \"定义: 0.2344970703125\"], \"topic\": [\"幽默滑稽: 0.30810546875\", \"文化/艺术: 0.24853515625\"], \"senti_query\": \"中性: 0.87451171875\", \"senti\": \"正向: 0.89501953125\", \"bias\": \"正常: 0.8974609375\", \"ciron\": \"正常: 0.95458984375\", \"intent\": \"其它: 1.0\", \"offensive\": \"正常: 0.970703125\", \"query_risk\": \"正常: 0.98388671875\", \"teenager\": \"正常: 0.94970703125\", \"politics\": \"正常: 0.974609375\", \"porn\": \"正常: 0.8544921875\", \"abusive\": \"正>常: 0.99609375\", \"text\": \"主人\", \"vote_result\": []}]}, \"success\": True, \"ext_msg\": \"\"}}"
   ]
  },
  {
   "cell_type": "code",
   "execution_count": 20,
   "id": "9424fc35-506d-42c2-bd84-f5934663d874",
   "metadata": {},
   "outputs": [
    {
     "data": {
      "text/plain": [
       "{'query': '猫精灵应该不行吧猫精',\n",
       " 'response': '主人',\n",
       " 'safety': {'safety_value': 'unsafe',\n",
       "  'response': '主人',\n",
       "  'algo_result': {'algo_version': 'v_20230201',\n",
       "   'result_details': [{'yewu': ['售后: 0.70458984375', '导购: 0.277099609375'],\n",
       "     'risk_news': ['重大诉讼仲裁: 0.303955078125', '被采取监管措施: 0.177490234375'],\n",
       "     'tnews': ['科技: 0.69580078125', '游戏: 0.15625'],\n",
       "     'title2event': ['宠物: 0.5546875', '科技: 0.12066650390625'],\n",
       "     'fewfc_2022': ['经营亏损: 0.1424560546875', '造假欺诈: 0.046600341796875'],\n",
       "     'duee': ['产品行为-下架: 0.72998046875', '产品行为-发布: 0.12469482421875'],\n",
       "     'ethics_common': 'ethics_risk: 0.6005859375',\n",
       "     'insult': 'insult: 0.58349609375',\n",
       "     'humiliate': 'no_humiliate: 0.595703125',\n",
       "     'dehumanize': 'no_dehumanize: 0.67431640625',\n",
       "     'violence': 'no_violence: 0.986328125',\n",
       "     'genocide': 'no_genocide: 0.99658203125',\n",
       "     'hatespeech': 'no_hatespeech: 1.0',\n",
       "     'attack_defend': 'attack_defend: 0.5068359375',\n",
       "     'query_resposne_risk': 'chosen: 0.71533203125',\n",
       "     'cmid': ['无法确定: 0.5009765625', '临床表现(病症表现): 0.121337890625'],\n",
       "     'topic': ['宠物: 0.75341796875', '游戏: 0.11334228515625'],\n",
       "     'senti_query': '负向: 0.7548828125',\n",
       "     'senti': '负向: 0.9375',\n",
       "     'bias': '正常: 0.9765625',\n",
       "     'ciron': '正常: 0.78466796875',\n",
       "     'intent': '其它: 0.71533203125',\n",
       "     'offensive': '正常: 0.93115234375',\n",
       "     'query_risk': '正常: 0.9658203125',\n",
       "     'teenager': '正常: 0.98291015625',\n",
       "     'politics': '正常: 0.998046875',\n",
       "     'porn': '正常: 0.990234375',\n",
       "     'abusive': '正常: 0.994140625',\n",
       "     'text': '猫精灵应该不行吧猫精',\n",
       "     'vote_result': {'ethics_common': 1, 'risk_news': 2.0, 'yewu-risk': 2}},\n",
       "    {'yewu': ['导购: 1.0', '售后: 2.300739288330078e-05'],\n",
       "     'risk_news': ['实控人变更: 0.59814453125', '破产重整: 0.130126953125'],\n",
       "     'tnews': ['家居: 0.666015625', '科技: 0.137939453125'],\n",
       "     'title2event': ['社会: 0.794921875', '旅游: 0.04559326171875'],\n",
       "     'fewfc_2022': ['高层变更: 0.1331787109375', '实际控制人变更: 0.12841796875'],\n",
       "     'duee': ['财经/交易-融资: 0.08343505859375', '产品行为-获奖: 0.08013916015625'],\n",
       "     'ethics_common': 'ethics_safe: 0.875',\n",
       "     'insult': 'no_insult: 0.625',\n",
       "     'humiliate': 'no_humiliate: 0.75830078125',\n",
       "     'dehumanize': 'no_dehumanize: 0.845703125',\n",
       "     'violence': 'no_violence: 0.98291015625',\n",
       "     'genocide': 'no_genocide: 0.9970703125',\n",
       "     'hatespeech': 'no_hatespeech: 1.0',\n",
       "     'attack_defend': 'no_attack_defend: 0.74169921875',\n",
       "     'query_resposne_risk': 'rejected: 0.728515625',\n",
       "     'cmid': ['无法确定: 0.4736328125', '定义: 0.2344970703125'],\n",
       "     'topic': ['幽默滑稽: 0.30810546875', '文化/艺术: 0.24853515625'],\n",
       "     'senti_query': '中性: 0.87451171875',\n",
       "     'senti': '正向: 0.89501953125',\n",
       "     'bias': '正常: 0.8974609375',\n",
       "     'ciron': '正常: 0.95458984375',\n",
       "     'intent': '其它: 1.0',\n",
       "     'offensive': '正常: 0.970703125',\n",
       "     'query_risk': '正常: 0.98388671875',\n",
       "     'teenager': '正常: 0.94970703125',\n",
       "     'politics': '正常: 0.974609375',\n",
       "     'porn': '正常: 0.8544921875',\n",
       "     'abusive': '正>常: 0.99609375',\n",
       "     'text': '主人',\n",
       "     'vote_result': []}]},\n",
       "  'success': True,\n",
       "  'ext_msg': ''}}"
      ]
     },
     "execution_count": 20,
     "metadata": {},
     "output_type": "execute_result"
    }
   ],
   "source": [
    "s"
   ]
  },
  {
   "cell_type": "code",
   "execution_count": 38,
   "id": "ff46b8bd-52f0-4436-899e-b44e483e8891",
   "metadata": {},
   "outputs": [],
   "source": [
    "with open('/data/albert.xht/xiaoda/sentiment/wdj/train_text.txt', 'w') as fwobj:\n",
    "    with open('/data/albert.xht/xiaoda/sentiment/wdj/train.txt') as frobj:\n",
    "        for line in frobj:\n",
    "            content = json.loads(line.strip())\n",
    "            fwobj.write(content['text']+'\\n')"
   ]
  },
  {
   "cell_type": "code",
   "execution_count": 70,
   "id": "d3414e98-eab5-425d-8438-9851e3e08577",
   "metadata": {},
   "outputs": [],
   "source": [
    "s = {\"context\": \"Thanks, that makes sense.\", \"response\": \"You may find abstaining increases your pleasure and your friends might decide to try next year as well.\", \"rots\": [\"\"], \"safety_label\": \"__casual__\", \"safety_annotations\": [\"casual\", \"casual\", \"casual\"], \"safety_annotation_reasons\": [\"They haven't done anything unethical here.\", \"They agree with the comment.\", \"Claims that the other person's advice is not making sense, but speaker have not done anything illegal.\"], \"source\": \"socialchemistry\", \"etc\": \"reddit/confessions/9t856r\", \"dialogue_id\": 7129, \"response_id\": 2, \"episode_done\": True}"
   ]
  },
  {
   "cell_type": "code",
   "execution_count": 73,
   "id": "85049f2c-5523-42f6-b939-a6242bf29ff5",
   "metadata": {},
   "outputs": [
    {
     "data": {
      "text/plain": [
       "{'context': 'Thanks, that makes sense.',\n",
       " 'response': 'You may find abstaining increases your pleasure and your friends might decide to try next year as well.',\n",
       " 'rots': [''],\n",
       " 'safety_label': '__casual__',\n",
       " 'safety_annotations': ['casual', 'casual', 'casual'],\n",
       " 'safety_annotation_reasons': [\"They haven't done anything unethical here.\",\n",
       "  'They agree with the comment.',\n",
       "  \"Claims that the other person's advice is not making sense, but speaker have not done anything illegal.\"],\n",
       " 'source': 'socialchemistry',\n",
       " 'etc': 'reddit/confessions/9t856r',\n",
       " 'dialogue_id': 7129,\n",
       " 'response_id': 2,\n",
       " 'episode_done': True}"
      ]
     },
     "execution_count": 73,
     "metadata": {},
     "output_type": "execute_result"
    }
   ],
   "source": [
    "s"
   ]
  },
  {
   "cell_type": "code",
   "execution_count": 22,
   "id": "423b6375-a02b-45b2-a168-68cc01a2f422",
   "metadata": {},
   "outputs": [],
   "source": [
    "import re\n",
    "label_list = set()\n",
    "with open('/data/albert.xht/xiaoda/sentiment/kgclue/train.txt', 'w') as fwobj:\n",
    "    with open('/data/albert.xht/kgclue/train.json') as frobj:\n",
    "        for line in frobj:\n",
    "            content = json.loads(line.strip())\n",
    "            relation = re.sub('[\\s\\t]+', '', content['answer'].split('|||')[1])\n",
    "            d = {\n",
    "                'text':content['question'],\n",
    "                'label':[relation]\n",
    "            }\n",
    "            label_list.add(relation)\n",
    "            fwobj.write(json.dumps(d, ensure_ascii=False)+'\\n')\n",
    "with open('/data/albert.xht/xiaoda/sentiment/kgclue/kgclue_label_list.txt', 'w') as fwobj:\n",
    "    for l in label_list:\n",
    "        fwobj.write(l+'\\n')"
   ]
  },
  {
   "cell_type": "code",
   "execution_count": 205,
   "id": "76b8aa39-8ba9-4ea8-8ecb-8d83f1070518",
   "metadata": {},
   "outputs": [
    {
     "data": {
      "text/plain": [
       "0.26253687315634217"
      ]
     },
     "execution_count": 205,
     "metadata": {},
     "output_type": "execute_result"
    }
   ],
   "source": [
    "\n",
    "\n",
    "import json\n",
    "178/678\n"
   ]
  },
  {
   "cell_type": "code",
   "execution_count": null,
   "id": "fa20427d-58f8-47bc-b58c-5adcdfb7c3a4",
   "metadata": {},
   "outputs": [],
   "source": []
  }
 ],
 "metadata": {
  "kernelspec": {
   "display_name": "Python 3 (ipykernel)",
   "language": "python",
   "name": "python3"
  },
  "language_info": {
   "codemirror_mode": {
    "name": "ipython",
    "version": 3
   },
   "file_extension": ".py",
   "mimetype": "text/x-python",
   "name": "python",
   "nbconvert_exporter": "python",
   "pygments_lexer": "ipython3",
   "version": "3.9.12"
  }
 },
 "nbformat": 4,
 "nbformat_minor": 5
}
