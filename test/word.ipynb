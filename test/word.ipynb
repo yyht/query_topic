{
 "cells": [
  {
   "cell_type": "code",
   "execution_count": 47,
   "id": "6d9cbbfc-d7df-4486-b095-fce9ae1bffe0",
   "metadata": {},
   "outputs": [],
   "source": [
    "\n",
    "badword = {}\n",
    "\n",
    "with open('/data/albert.xht/xiaodao/badword/mgck-master/暴恐词库.txt', encoding='gbk') as frobj:\n",
    "    badword['暴恐'] = []\n",
    "    for line in frobj:\n",
    "        content = line.strip()\n",
    "        if content:\n",
    "            badword['暴恐'].append(content)\n",
    "\n",
    "with open('/data/albert.xht/xiaodao/badword/mgck-master/反动词库.txt', encoding='gbk') as frobj:\n",
    "    badword['反动'] = []\n",
    "    for line in frobj:\n",
    "        content = line.strip()\n",
    "        if content:\n",
    "            badword['反动'].append(content)\n",
    "        \n",
    "with open('/data/albert.xht/xiaodao/badword/mgck-master/色情词库.txt', encoding='gbk') as frobj:\n",
    "    badword['色情'] = []\n",
    "    for line in frobj:\n",
    "        content = line.strip()\n",
    "        if content:\n",
    "            badword['色情'].append(content)\n",
    "        \n",
    "with open('/data/albert.xht/xiaodao/badword/mgck-master/贪腐词库.txt', encoding='gbk') as frobj:\n",
    "    badword['贪腐'] = []\n",
    "    for line in frobj:\n",
    "        content = line.strip()\n",
    "        if content:\n",
    "            badword['贪腐'].append(content)\n",
    "        \n",
    "with open('/data/albert.xht/xiaodao/badword/mgck-master/民生词库.txt', encoding='gbk') as frobj:\n",
    "    badword['民生'] = []\n",
    "    for line in frobj:\n",
    "        content = line.strip()\n",
    "        if content:\n",
    "            badword['民生'].append(content)\n",
    "        \n",
    "with open('/data/albert.xht/xiaodao/badword/mgck-master/其他词库.txt', encoding='gbk') as frobj:\n",
    "    badword['其他'] = []\n",
    "    for line in frobj:\n",
    "        content = line.strip()\n",
    "        if content:\n",
    "            badword['其他'].append(content)"
   ]
  },
  {
   "cell_type": "code",
   "execution_count": 48,
   "id": "844ab24b-c157-4dfb-8034-83a878db28eb",
   "metadata": {},
   "outputs": [],
   "source": [
    "with open('/data/albert.xht/xiaodao/badword/badwords-master/pub_banned_words.txt.out.txt') as frobj:\n",
    "    badword['banned'] = []\n",
    "    for line in frobj:\n",
    "        content = line.strip()\n",
    "        if content:\n",
    "            badword['banned'].append(content)"
   ]
  },
  {
   "cell_type": "code",
   "execution_count": 40,
   "id": "bd5ea24f-23ca-493c-856c-d873fa831fd2",
   "metadata": {},
   "outputs": [],
   "source": [
    "with open('/data/albert.xht/xiaodao/badword/ChineseSensitiveVocabulary-master/chinese_sensitive_vocabulary/data/words.txt') as frobj:\n",
    "    badword['sensitive'] = []\n",
    "    for line in frobj:\n",
    "        content = line.strip().split('\\t')\n",
    "        if content:\n",
    "            badword['sensitive'].append(content[0])\n",
    "        "
   ]
  },
  {
   "cell_type": "code",
   "execution_count": 49,
   "id": "bbfdc68c-e7df-468e-abf6-801649ea0e5d",
   "metadata": {},
   "outputs": [],
   "source": [
    "with open('/data/albert.xht/xiaodao/badword/sensitive-words-master/色情类.txt') as frobj:\n",
    "    # badword['色情'] = []\n",
    "    for line in frobj:\n",
    "        content = line.strip().split(',')[0]\n",
    "        if content:\n",
    "            badword['色情'].append(content)\n",
    "        "
   ]
  },
  {
   "cell_type": "code",
   "execution_count": 50,
   "id": "258f3b9f-10f3-466b-b379-c54beead7e1c",
   "metadata": {},
   "outputs": [],
   "source": [
    "with open('/data/albert.xht/xiaodao/badword/sensitive-words-master/涉枪涉爆违法信息关键词.txt') as frobj:\n",
    "    # badword['暴恐'] = []\n",
    "    for line in frobj:\n",
    "        content = line.strip()\n",
    "        if content:\n",
    "            badword['暴恐'].append(content)\n",
    "            "
   ]
  },
  {
   "cell_type": "code",
   "execution_count": 51,
   "id": "25a8e4f8-60a4-4180-a9e2-38f7eb8f3e92",
   "metadata": {},
   "outputs": [],
   "source": [
    "with open('/data/albert.xht/xiaodao/badword.txt', 'w') as fwobj:\n",
    "    for key in badword:\n",
    "        for word in badword[key]:\n",
    "            fwobj.write('&&'.join([word, key])+'\\n')"
   ]
  },
  {
   "cell_type": "code",
   "execution_count": 54,
   "id": "4b2c78cf-5bb5-4fc0-a7e8-cf1a5370f721",
   "metadata": {},
   "outputs": [],
   "source": [
    "import re\n",
    "with open('/data/albert.xht/xiaodao/badword_text.txt', 'w') as fwobj:\n",
    "    for key in badword:\n",
    "        for word in badword[key]:\n",
    "            t = re.findall('[\\u4e00-\\u9fa5]+', word)\n",
    "            sum_t = sum([len(item) for item in t])\n",
    "            if sum_t >= 4:\n",
    "                fwobj.write(word+'\\n')"
   ]
  },
  {
   "cell_type": "code",
   "execution_count": null,
   "id": "8a56d99e-3071-452f-9dd7-f6760fb49451",
   "metadata": {},
   "outputs": [],
   "source": []
  }
 ],
 "metadata": {
  "kernelspec": {
   "display_name": "Python 3 (ipykernel)",
   "language": "python",
   "name": "python3"
  },
  "language_info": {
   "codemirror_mode": {
    "name": "ipython",
    "version": 3
   },
   "file_extension": ".py",
   "mimetype": "text/x-python",
   "name": "python",
   "nbconvert_exporter": "python",
   "pygments_lexer": "ipython3",
   "version": "3.8.1"
  }
 },
 "nbformat": 4,
 "nbformat_minor": 5
}
